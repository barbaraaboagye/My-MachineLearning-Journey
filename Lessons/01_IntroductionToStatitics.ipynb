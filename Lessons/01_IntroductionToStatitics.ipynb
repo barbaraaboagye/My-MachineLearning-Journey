{
 "cells": [
  {
   "cell_type": "markdown",
   "id": "886467ac-de7e-46bc-a55e-6fd21277147b",
   "metadata": {},
   "source": [
    "<div align=\"center\">\n",
    "    <h1> My Machine Learning Journey</h1>\n",
    "Civl Engineer · Youtuber · Machine Learning Engineer (The Goal)\n",
    "    <br>\n",
    "    Sharing and documenting my progress and journey as I learn machine learning\n",
    "     <br>\n",
    "</div>\n",
    "\n",
    "<br>\n",
    "\n",
    "<div align=\"center\">\n",
    "    <a target=\"_blank\" href=\"https://github.com/barbaraaboagye/My-MachineLearning-Journey\"><img src=\"https://img.shields.io/github/last-commit/barbaraaboagye/My-MachineLearning-Journey\"></a>&nbsp;\n",
    "      <a target=\"_blank\" href=\"https://www.youtube.com/channel/UCEYKFq7ZEg81GYxpzNqYZ4)\"><img src=\"https://img.shields.io/youtube/channel/subscribers/UCEYKFq7ZEg81GYxpzNqYZ4Q?style=social\"></a>&nbsp;\n",
    "    <a target=\"_blank\" href=\"https://fr.linkedin.com/in/barbara-aboagye-233ba8133\"><img src=\"https://img.shields.io/badge/style--5eba00.svg?label=LinkedIn&logo=linkedin&style=social\"></a>&nbsp;\n",
    "    <a target=\"_blank\" href=\"https://twitter.com/awesome_ama\"><img src=\"https://img.shields.io/twitter/follow/awesome_ama?style=social\"></a>\n",
    "    <br>\n",
    "</div>\n",
    "\n",
    "<br>"
   ]
  },
  {
   "cell_type": "markdown",
   "id": "45b714aa-02f9-45ac-b2bf-e83b34b0c093",
   "metadata": {
    "jp-MarkdownHeadingCollapsed": true,
    "tags": []
   },
   "source": [
    "# Concepts of stastitcs - Day 1 of x\n",
    "\n",
    "This is the template I will use to document my journey.\n",
    "Date : 2nd December,2022\n",
    "Check in time : 8 AM\n",
    "Check out time : 9:20 AM"
   ]
  },
  {
   "cell_type": "markdown",
   "id": "39e4c6e7-9871-4211-8c4e-94bc180dc5f4",
   "metadata": {
    "tags": []
   },
   "source": [
    "# Resources used : \n",
    " - [Udacity : Introduction to statitiscs](https://learn.udacity.com/courses/st101)"
   ]
  },
  {
   "cell_type": "markdown",
   "id": "05abf52a-d4d1-4e7d-b55f-fdfb29ef6c85",
   "metadata": {},
   "source": [
    "# HIGHLIGHTS\n",
    "\n",
    "- Statitistics is all about looking at data and then looking at more data\n",
    "- Decisions are made solely on the data and not on feelings\n",
    "- I liked the fact that the course is made around asking questions"
   ]
  },
  {
   "cell_type": "markdown",
   "id": "955f1a53-bf08-4f46-b7e1-c1ec3f62d788",
   "metadata": {
    "tags": []
   },
   "source": [
    "# CONCEPTS LEARNT \n",
    "- Finding the average\n",
    "- Finding expectations \n",
    "- Determining linear relationships\n",
    "- Looking at data to make decisions"
   ]
  },
  {
   "cell_type": "markdown",
   "id": "1ea6a554-1482-42bb-93a9-043e10e98c51",
   "metadata": {},
   "source": [
    "# NOTES\n",
    "\n",
    "The notes can be accessed [here](https://github.com/barbaraaboagye/My-MachineLearning-Journey/blob/f000a2599e2efcfc1e0597b65ce364496ce4824d/Notes/01_IntroductionToStatistics.pdf)"
   ]
  },
  {
   "cell_type": "code",
   "execution_count": null,
   "id": "03301a17-230b-4c71-aa58-5bf1c12b36c1",
   "metadata": {},
   "outputs": [],
   "source": []
  }
 ],
 "metadata": {
  "kernelspec": {
   "display_name": "Python 3 (ipykernel)",
   "language": "python",
   "name": "python3"
  },
  "language_info": {
   "codemirror_mode": {
    "name": "ipython",
    "version": 3
   },
   "file_extension": ".py",
   "mimetype": "text/x-python",
   "name": "python",
   "nbconvert_exporter": "python",
   "pygments_lexer": "ipython3",
   "version": "3.9.12"
  }
 },
 "nbformat": 4,
 "nbformat_minor": 5
}
