{
 "cells": [
  {
   "cell_type": "markdown",
   "id": "886467ac-de7e-46bc-a55e-6fd21277147b",
   "metadata": {},
   "source": [
    "<div align=\"center\">\n",
    "    <h1> My Machine Learning Journey</h1>\n",
    "Civl Engineer · Youtuber · Machine Learning Engineer (The Goal)\n",
    "    <br>\n",
    "    Sharing and documenting my progress and journey as I learn machine learning\n",
    "     <br>\n",
    "</div>\n",
    "\n",
    "<br>\n",
    "\n",
    "<div align=\"center\">\n",
    "    <a target=\"_blank\" href=\"https://github.com/barbaraaboagye/My-MachineLearning-Journey\"><img src=\"https://img.shields.io/github/last-commit/barbaraaboagye/My-MachineLearning-Journey\"></a>&nbsp;\n",
    "      <a target=\"_blank\" href=\"https://www.youtube.com/channel/UCEYKFq7ZEg81GYxpzNqYZ4)\"><img src=\"https://img.shields.io/youtube/channel/subscribers/UCEYKFq7ZEg81GYxpzNqYZ4Q?style=social\"></a>&nbsp;\n",
    "    <a target=\"_blank\" href=\"https://fr.linkedin.com/in/barbara-aboagye-233ba8133\"><img src=\"https://img.shields.io/badge/style--5eba00.svg?label=LinkedIn&logo=linkedin&style=social\"></a>&nbsp;\n",
    "    <a target=\"_blank\" href=\"https://twitter.com/awesome_ama\"><img src=\"https://img.shields.io/twitter/follow/awesome_ama?style=social\"></a>\n",
    "    <br>\n",
    "</div>\n",
    "\n",
    "<br>"
   ]
  },
  {
   "cell_type": "markdown",
   "id": "45b714aa-02f9-45ac-b2bf-e83b34b0c093",
   "metadata": {
    "jp-MarkdownHeadingCollapsed": true,
    "tags": []
   },
   "source": [
    "# Bayes Rule- Day 4 of x\n",
    "\n",
    "This is the template I will use to document my journey.  <br>\n",
    "Date : 5 December,2022 <br>\n",
    "Check in time : 11:00 am<br>\n",
    "Check out time : 11:54 am<br>\n",
    "Progress : 24 %\n",
    "\n",
    "**Second session**\n",
    "Check in time : 3:00 pm<br>\n",
    "Check out time : 4:22 pm <br>\n",
    "Progress : 25 %"
   ]
  },
  {
   "cell_type": "markdown",
   "id": "39e4c6e7-9871-4211-8c4e-94bc180dc5f4",
   "metadata": {
    "tags": []
   },
   "source": [
    "# Resources used :\n",
    "Hanndwritten notes can be found [here](https://github.com/barbaraaboagye/My-MachineLearning-Journey/blob/c5266393c9ddac3327c7b152513f43b5951869e2/Handwritten%20notes/04_BayesRuleITS.pdf)"
   ]
  },
  {
   "cell_type": "markdown",
   "id": "17633b41-cc69-4ed3-82ca-6ed8f4a48065",
   "metadata": {
    "tags": []
   },
   "source": [
    "## Bayes Rules\n",
    "\n",
    "Bayes' rule is a way to figure out how likely something is based on what we already know. Let's say you're trying to figure out if it's going to rain today. You might start by thinking about all the times it has rained in the past, and how often it has been cloudy or sunny. Then, you can use that information to make a guess about whether it's going to rain today. Bayes' rule helps us make that guess by using math to combine all the information we have. It's a really useful tool for figuring out things that are hard to know for sure."
   ]
  },
  {
   "cell_type": "markdown",
   "id": "83466546-a1fb-439e-aa6f-279163c7d75c",
   "metadata": {},
   "source": [
    "Bayes rule looks like :\n",
    "    \n",
    "$$\n",
    "P(A|B ) = \\frac{P(B|A)\\cdot P(A)}{P(B)}\n",
    "$$\n",
    "\n",
    "where:\n",
    "\n",
    "- A, B\t=\tevents\n",
    "- P(A|B) is the probability of event A happening given that event B has already happened or is true\n",
    "- P(B|A) is the probability of event B happening given that event A has already happened\n",
    "- P(A) is the probability of event A happening\n",
    "- P(B) is the probability of event B happening\n",
    "\n",
    "The formula allows us to calculate the probability of event A happening (P(A|B)) based on the probability of event B happening (P(B|A)), the probability of event A happening (P(A)), and the probability of event B happening (P(B))."
   ]
  },
  {
   "cell_type": "markdown",
   "id": "4db52e16-404b-4988-a715-8f43f158260d",
   "metadata": {},
   "source": [
    "## Question\n",
    "\n",
    "A robot lives in two worlds Red(R) and Green(G). The probability that it's either at R or G are:\n",
    " - P(R) = P(G) = 0.5\n",
    "\n",
    "It has unreliable sensors. The probabilites are :\n",
    " - P(see R| at R) = 0.8\n",
    " - P(see G | at G) = 0.8\n",
    "\n",
    "\n",
    "If the robot sees red, what are these posterior probabilities\n",
    "\n",
    "- P(at R | see R) : ?\n",
    "- P(at G | see R) : ?"
   ]
  },
  {
   "cell_type": "markdown",
   "id": "5af163ef-ac7a-43b5-acb3-5d6d42808a18",
   "metadata": {
    "tags": []
   },
   "source": [
    "\n",
    "## Step by Step Walkthrough\n",
    "The step-by-step breakdown of the solution is pretty quick. Let's recap what's covered in the solution video.\n",
    "\n",
    "Let's start with what we know:\n",
    "\n",
    "**Prior Probabilities**\n",
    "The robot is perfectly ignorant about where it is, so prior probabilities are as follows:\n",
    "$$\n",
    "P(\\text{at red} ) = 0.5P(at red)=0.5\n",
    "$$\n",
    "\n",
    "$$\n",
    "P(\\text{at green} ) = 0.5P(at green)=0.5\n",
    "$$\n",
    "\n",
    "**Conditional Probabilities**\n",
    "The robot's sensors are not perfect. Just because the robot sees red does not mean the robot is at red.\n",
    "$$\n",
    "P(\\text{see red} | \\text{at red} ) = 0.8P(see red∣at red)=0.8 $$\n",
    "\n",
    "$$ P(\\text{see green} | \\text{at green} ) = 0.8P(see green∣at green)=0.8 $$\n",
    "\n",
    "**Posterior Probabilities**\n",
    "From these prior and posterior probabilities we are asked to calculate the following posterior probabilities after the robot sees red:\n",
    "\n",
    "$$P(\\text{at red} | \\text{see red} )P(at red∣see red)$$\n",
    "\n",
    "$$ P(\\text{at green} | \\text{see red} )P(at green∣see red) $$\n",
    "\n",
    "and as a reminder, Bayes' rule looks like this:\n",
    "$$\n",
    "P(A|B ) = \\frac{P(B|A) \\cdot P(A)}{P(B)}P(A∣B)= \n",
    "P(B)\n",
    "P(B∣A)⋅P(A)\n",
    "$$\n",
    " \n",
    "\n",
    "or, if we want to use our \"versions\" of A and B (for posterior #1)...\n",
    "\n",
    "$$P(\\text{at red}|\\text{see red} ) = \\frac{P(\\text{see red}|\\text{at red}) \\cdot P(\\text{at red})}{P(\\text{see red})}P(at red∣see red)= \n",
    "P(see red)P(see red∣at red)⋅P(at red)\n",
    "$$ \n",
    "\n",
    "Now, we can read two of those terms from what we already know about our prior and conditional probabilities which means we can rewrite this as...\n",
    "\n",
    "$$\n",
    "P(\\text{at red}|\\text{see red} ) = \\frac{0.8 \\cdot 0.5}{P(\\text{see red})}P(at red∣see red)= \n",
    "P(see red)\n",
    "0.8⋅0.5$$\n",
    "​\n",
    " \n",
    "\n",
    "But we still have one **unknown!** What was the probability that we would see red? The answer is 0.5 and there are two ways I can convince myself of that. The first is intuitive and the second is mathematical.\n",
    "\n",
    "Why is P(see red) 0.5?\n",
    "\n",
    "Argument 1: Intuitive\n",
    "Of course it's 0.5! What else could it be? The robot had a 50% belief that it was in red and a 50% belief that it was in green. Sure, its sensors are unreliable but that unreliability is symmetric and not biased towards mistakenly seeing either color.\n",
    "\n",
    "So whatever the probability of seeing red is, that will also be the probability of seeing green. Since these two colors are the only possible colors the probability MUST be 50% for each!\n",
    "\n",
    "Argument 2: Mathematical (Law of Total Probability)\n",
    "There are exactly two situations where the robot would see red.\n",
    "\n",
    "When the robot is in a red square and its sensors work correctly.\n",
    "When the robot is in a green square and its sensors make a mistake.\n",
    "I just need to add up these two probabilities to get the total probability of seeing red.\n",
    "$$\n",
    "P(\\text{see red} ) = P(\\text{at red}) \\cdot P(\\text{see red} | \\text{at red}) + P(\\text{at green}) \\cdot P(\\text{see red} | \\text{at green})P(see red)=P(at red)⋅P(see red∣at red)+P(at green)⋅P(see red∣at green)$$\n",
    "\n",
    "I can read these quantities from above!\n",
    "\n",
    "$$P(\\text{see red} ) = 0.5 \\cdot 0.8 + 0.5 \\cdot 0.2P(see red)=0.5⋅0.8+0.5⋅0.2$$\n",
    "\n",
    "$$P(\\text{see red} ) = 0.4 + 0.1P(see red)=0.4+0.1$$\n",
    "\n",
    "$$P(\\text{see red} ) = 0.5P(see red)=0.5$$"
   ]
  },
  {
   "cell_type": "markdown",
   "id": "ec180221-670a-4685-9929-8b11bca0cf64",
   "metadata": {},
   "source": []
  }
 ],
 "metadata": {
  "kernelspec": {
   "display_name": "Python 3 (ipykernel)",
   "language": "python",
   "name": "python3"
  },
  "language_info": {
   "codemirror_mode": {
    "name": "ipython",
    "version": 3
   },
   "file_extension": ".py",
   "mimetype": "text/x-python",
   "name": "python",
   "nbconvert_exporter": "python",
   "pygments_lexer": "ipython3",
   "version": "3.9.12"
  }
 },
 "nbformat": 4,
 "nbformat_minor": 5
}
