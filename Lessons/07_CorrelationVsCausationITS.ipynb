{
 "cells": [
  {
   "cell_type": "markdown",
   "id": "886467ac-de7e-46bc-a55e-6fd21277147b",
   "metadata": {},
   "source": [
    "<div align=\"center\">\n",
    "    <h1> My Machine Learning Journey</h1>\n",
    "Civl Engineer · Researcher · Youtuber · Machine Learning Engineer (The Goal)\n",
    "    <br>\n",
    "    Sharing and documenting my progress and journey as I learn machine learning\n",
    "     <br>\n",
    "</div>\n",
    "\n",
    "<br>\n",
    "\n",
    "<div align=\"center\">\n",
    "    <a target=\"_blank\" href=\"https://github.com/barbaraaboagye/My-MachineLearning-Journey\"><img src=\"https://img.shields.io/github/last-commit/barbaraaboagye/My-MachineLearning-Journey\"></a>&nbsp;\n",
    "      <a target=\"_blank\" href=\"https://www.youtube.com/channel/UCEYKFq7ZEg81GYxpzNqYZ4)\"><img src=\"https://img.shields.io/youtube/channel/subscribers/UCEYKFq7ZEg81GYxpzNqYZ4Q?style=social\"></a>&nbsp;\n",
    "    <a target=\"_blank\" href=\"https://fr.linkedin.com/in/barbara-aboagye-233ba8133\"><img src=\"https://img.shields.io/badge/style--5eba00.svg?label=LinkedIn&logo=linkedin&style=social\"></a>&nbsp;\n",
    "    <a target=\"_blank\" href=\"https://twitter.com/awesome_ama\"><img src=\"https://img.shields.io/twitter/follow/awesome_ama?style=social\"></a>\n",
    "    <br>\n",
    "</div>\n",
    "\n",
    "<br>"
   ]
  },
  {
   "cell_type": "markdown",
   "id": "45b714aa-02f9-45ac-b2bf-e83b34b0c093",
   "metadata": {
    "jp-MarkdownHeadingCollapsed": true,
    "tags": []
   },
   "source": [
    "# Correlation vs Causation - Day 7 of x\n",
    "<br>\n",
    "Date : 8th December,2022 <br>\n",
    "Check in time : 5:25pm <br>\n",
    "Check out time :7 33pm <br>\n",
    "Progress : 35%\n",
    "\n",
    "A bit difficult to understand the probability lessons"
   ]
  },
  {
   "cell_type": "markdown",
   "id": "39e4c6e7-9871-4211-8c4e-94bc180dc5f4",
   "metadata": {
    "tags": []
   },
   "source": [
    "# Resources used : \n",
    "\n",
    "- [Udacity : Introduction to statitiscs](https://learn.udacity.com/courses/st101)\n",
    "<br>\n",
    "\n",
    " Hanndwritten notes can be found [here](https://github.com/barbaraaboagye/My-MachineLearning-Journey/blob/93a0c53c35d3b223e44a4c7a045be943d70a5a20/Handwritten%20notes/07_CorrelationVsCausationITS.pdf)"
   ]
  },
  {
   "cell_type": "markdown",
   "id": "2b7d15ad-6bea-4625-821f-6e814098b4c9",
   "metadata": {},
   "source": [
    "## Correlation does not mean causation\n",
    "\n",
    "Correlation means that two things are related or connected in some way. Causation means that one thing directly causes another thing to happen. Just because two things are correlated or related does not necessarily mean that one thing causes the other. For example, if you see that the number of ice cream sales is correlated with the number of sunburns in a town, it does not mean that eating ice cream causes sunburns. There could be other factors at play, such as hot weather causing people to buy more ice cream and also causing more sunburns."
   ]
  },
  {
   "cell_type": "markdown",
   "id": "1361b137-af05-4333-bd3f-cac897ce51f4",
   "metadata": {},
   "source": [
    "## Flip Predictor\n",
    "\n",
    "A coin is drawn at random from a bag of coins of varying probabilities. Each coin has the same chance of being drawn. Your class FlipPredictor will be initialized with a list of the probability of heads for each coin. This list of probabilities can be accessed as self.coins \n",
    "in the functions you must write. The function update will be called after every flip to enable you to update your estimate of the probability of each coin being the selected coin. The function pheads may be called and any time and will return your best estimate of the next flip landing on heads."
   ]
  },
  {
   "cell_type": "code",
   "execution_count": 2,
   "id": "9f123a71-9905-4252-b2f9-70414ec00784",
   "metadata": {},
   "outputs": [
    {
     "name": "stdout",
     "output_type": "stream",
     "text": [
      "Correct\n",
      "Correct\n",
      "Correct\n",
      "Correct\n",
      "Correct\n"
     ]
    }
   ],
   "source": [
    "from __future__ import division\n",
    "class FlipPredictor(object):\n",
    "    def __init__(self,coins):\n",
    "        self.coins=coins\n",
    "        n=len(coins)\n",
    "        self.probs=[1/n]*n\n",
    "    def pheads(self):\n",
    "        #Write a function that returns \n",
    "        #the probability of the next flip being heads\n",
    "        return sum(pcoin*p for pcoin,p in zip(self.coins,self.probs))\n",
    "\n",
    "    def update(self,result):\n",
    "        #Write a function the updates\n",
    "        #the probabilities of flipping each coin\n",
    "        pheads=self.pheads()\n",
    "        if result=='H':\n",
    "            self.probs=[pcoin*p/pheads for pcoin,p in zip(self.coins,self.probs)]\n",
    "        else:\n",
    "            self.probs=[(1-pcoin)*p/(1-pheads) for pcoin,p in zip(self.coins,self.probs)]\n",
    "#The code below this line tests your implementation. \n",
    "#You need not change it\n",
    "#You may add additional test cases or otherwise modify if desired\n",
    "def test(coins,flips):        \n",
    "    f=FlipPredictor(coins)\n",
    "    guesses=[]\n",
    "    for flip in flips:\n",
    "        f.update(flip)\n",
    "        guesses.append(f.pheads())\n",
    "    return guesses   \n",
    "        \n",
    "def maxdiff(l1,l2):\n",
    "    return max([abs(x-y) for x,y in zip(l1,l2)])\n",
    "\n",
    "testcases=[\n",
    "(([0.5,0.4,0.3],'HHTH'),[0.4166666666666667, 0.432, 0.42183098591549295, 0.43639398998330553]),\n",
    "(([0.14,0.32,0.42,0.81,0.21],'HHHTTTHHH'),[0.5255789473684211, 0.6512136991788505, 0.7295055220497553, 0.6187139453483192, 0.4823974597714815, 0.3895729901052968, 0.46081730193074644, 0.5444108434105802, 0.6297110187222278]),\n",
    "(([0.14,0.32,0.42,0.81,0.21],'TTTHHHHHH'),[0.2907741935483871, 0.25157009005730924, 0.23136284577678012, 0.2766575695593804, 0.3296000585271367, 0.38957299010529806, 0.4608173019307465, 0.5444108434105804, 0.6297110187222278]),\n",
    "(([0.12,0.45,0.23,0.99,0.35,0.36],'THHTHTTH'),[0.28514285714285714, 0.3378256513026052, 0.380956725493104, 0.3518717367468537, 0.37500429586037076, 0.36528605387582497, 0.3555106542906013, 0.37479179323540324]),\n",
    "(([0.03,0.32,0.59,0.53,0.55,0.42,0.65],'HHTHTTHTHHT'),[0.528705501618123, 0.5522060353798126, 0.5337142767315369, 0.5521920592821695, 0.5348391689038525, 0.5152373451083692, 0.535385450497415, 0.5168208803156963, 0.5357708613431963, 0.5510509656933194, 0.536055356823069])]\n",
    "\n",
    "for inputs,output in testcases:\n",
    "    if maxdiff(test(*inputs),output)<0.001:\n",
    "        print ('Correct')\n",
    "    else: print ('Incorrect')"
   ]
  },
  {
   "cell_type": "markdown",
   "id": "ce69de50-c12f-48a1-8cd0-e24dc464794b",
   "metadata": {},
   "source": [
    "## Code explanation"
   ]
  },
  {
   "cell_type": "markdown",
   "id": "5c5e77bc-1110-4988-abde-86f64c1a4ff6",
   "metadata": {},
   "source": [
    "The code defines a class called FlipPredictor that is used to predict the probability of the next flip of a coin being heads. The class is initialized with a list of the probabilities of heads for each coin in a bag of coins.\n",
    "\n",
    "The class has two functions: pheads and update. The pheads function returns the current estimate of the probability of the next flip being heads. This is calculated by taking the weighted average of the probabilities of heads for each coin, using the current estimates of the probability of each coin being selected as the weights. The update function updates the estimates of the probability of each coin being selected based on the result of the latest flip. It does this by adjusting the estimates based on the probability of heads for each coin, and then normalizing the estimates so that they sum to 1. This ensures that the estimates remain valid probabilities.\n",
    "\n",
    "To use the class, you would first create an instance of the class and initialize it with the probabilities of heads for the coins in the bag. Then, you can call the pheads function to get the current estimate of the probability of the next flip being heads. You can also call the update function to update the probabilities based on the result of a flip. This will update the estimate of the probability of the next flip being heads accordingly"
   ]
  },
  {
   "cell_type": "code",
   "execution_count": 4,
   "id": "81ac8770-6f3f-4677-a98f-56b23ca7aab9",
   "metadata": {},
   "outputs": [],
   "source": [
    "## Test the FlipPredictor class - Written by chat GPT "
   ]
  },
  {
   "cell_type": "code",
   "execution_count": 5,
   "id": "28923649-9d30-43a7-808d-c060ca705f70",
   "metadata": {},
   "outputs": [
    {
     "name": "stdout",
     "output_type": "stream",
     "text": [
      "0.3333333333333333\n",
      "0.38\n",
      "0.3548387096774194\n"
     ]
    }
   ],
   "source": [
    "# Initialize the FlipPredictor with the probabilities of heads for three coins\n",
    "predictor = FlipPredictor([0.5, 0.3, 0.2])\n",
    "\n",
    "# Check the initial probability of heads\n",
    "print(predictor.pheads())  # should print 0.3333333333333333\n",
    "\n",
    "# Update the probabilities after flipping a heads\n",
    "predictor.update(\"H\")\n",
    "\n",
    "# Check the probability of heads after the update\n",
    "print(predictor.pheads())  # should print 0.4\n",
    "\n",
    "# Update the probabilities again after flipping a tails\n",
    "predictor.update(\"T\")\n",
    "\n",
    "# Check the probability of heads after the second update\n",
    "print(predictor.pheads())  # should print 0.32"
   ]
  },
  {
   "cell_type": "code",
   "execution_count": 8,
   "id": "809be9e6-3b3c-4d49-b9cd-a7e460ec96a5",
   "metadata": {},
   "outputs": [
    {
     "name": "stdout",
     "output_type": "stream",
     "text": [
      "0.3\n"
     ]
    }
   ],
   "source": [
    "predictor = FlipPredictor([0.5, 0.3, 0.2,0.2])\n",
    "print(predictor.pheads())"
   ]
  },
  {
   "cell_type": "code",
   "execution_count": null,
   "id": "80a80b2f-65c5-431b-b3eb-f252c8563f9b",
   "metadata": {},
   "outputs": [],
   "source": [
    "#Written by chat GPT \n",
    "\n",
    "class FlipPredictor:\n",
    "  def __init__(self, coins):\n",
    "    self.coins = coins\n",
    "    self.n = len(coins)\n",
    "    self.estimates = [1 / self.n] * self.n\n",
    "    \n",
    "  def pheads(self):\n",
    "    # Return the current estimate of the probability of the next flip being heads\n",
    "    return sum(p * estimate for p, estimate in zip(self.coins, self.estimates))\n",
    "  \n",
    "  def update(self, result):\n",
    "    # Update self.estimates based on the result of the latest flip\n",
    "    for i in range(self.n):\n",
    "      self.estimates[i] *= self.coins[i] if result == \"H\" else (1 - self.coins[i])\n",
    "    self.estimates = [estimate / sum(self.estimates) for estimate in self.estimates]"
   ]
  },
  {
   "cell_type": "code",
   "execution_count": 6,
   "id": "cd1ded74-6e01-48c0-9679-f94440cf2893",
   "metadata": {},
   "outputs": [
    {
     "name": "stdout",
     "output_type": "stream",
     "text": [
      "0.3333333333333333\n",
      "0.38\n",
      "0.3548387096774194\n"
     ]
    }
   ],
   "source": [
    "# Initialize the FlipPredictor with the probabilities of heads for three coins\n",
    "predictor = FlipPredictor([0.5, 0.3, 0.2])\n",
    "\n",
    "# Check the initial probability of heads\n",
    "print(predictor.pheads())  # should print 0.3333333333333333\n",
    "\n",
    "# Update the probabilities after flipping a heads\n",
    "predictor.update(\"H\")\n",
    "\n",
    "# Check the probability of heads after the update\n",
    "print(predictor.pheads())  # should print 0.4\n",
    "\n",
    "# Update the probabilities again after flipping a tails\n",
    "predictor.update(\"T\")\n",
    "\n",
    "# Check the probability of heads after the second update\n",
    "print(predictor.pheads())  # should print 0.32"
   ]
  },
  {
   "cell_type": "code",
   "execution_count": null,
   "id": "9fd88fa9-c4e5-47f9-891b-89e717d1725a",
   "metadata": {},
   "outputs": [],
   "source": []
  }
 ],
 "metadata": {
  "kernelspec": {
   "display_name": "Python 3 (ipykernel)",
   "language": "python",
   "name": "python3"
  },
  "language_info": {
   "codemirror_mode": {
    "name": "ipython",
    "version": 3
   },
   "file_extension": ".py",
   "mimetype": "text/x-python",
   "name": "python",
   "nbconvert_exporter": "python",
   "pygments_lexer": "ipython3",
   "version": "3.9.12"
  }
 },
 "nbformat": 4,
 "nbformat_minor": 5
}
