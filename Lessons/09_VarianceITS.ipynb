{
 "cells": [
  {
   "cell_type": "markdown",
   "id": "886467ac-de7e-46bc-a55e-6fd21277147b",
   "metadata": {},
   "source": [
    "<div align=\"center\">\n",
    "    <h1> My Machine Learning Journey</h1>\n",
    "Civl Engineer · Researcher Youtuber · Machine Learning Engineer (The Goal)\n",
    "    <br>\n",
    "    Sharing and documenting my progress and journey as I learn machine learning\n",
    "     <br>\n",
    "</div>\n",
    "\n",
    "<br>\n",
    "\n",
    "<div align=\"center\">\n",
    "    <a target=\"_blank\" href=\"https://github.com/barbaraaboagye/My-MachineLearning-Journey\"><img src=\"https://img.shields.io/github/last-commit/barbaraaboagye/My-MachineLearning-Journey\"></a>&nbsp;\n",
    "      <a target=\"_blank\" href=\"https://www.youtube.com/channel/UCEYKFq7ZEg81GYxpzNqYZ4)\"><img src=\"https://img.shields.io/youtube/channel/subscribers/UCEYKFq7ZEg81GYxpzNqYZ4Q?style=social\"></a>&nbsp;\n",
    "    <a target=\"_blank\" href=\"https://fr.linkedin.com/in/barbara-aboagye-233ba8133\"><img src=\"https://img.shields.io/badge/style--5eba00.svg?label=LinkedIn&logo=linkedin&style=social\"></a>&nbsp;\n",
    "    <a target=\"_blank\" href=\"https://twitter.com/awesome_ama\"><img src=\"https://img.shields.io/twitter/follow/awesome_ama?style=social\"></a>\n",
    "    <br>\n",
    "</div>\n",
    "\n",
    "<br>"
   ]
  },
  {
   "cell_type": "markdown",
   "id": "45b714aa-02f9-45ac-b2bf-e83b34b0c093",
   "metadata": {
    "jp-MarkdownHeadingCollapsed": true,
    "tags": []
   },
   "source": [
    "# VARIANCE - Day 9 of x\n",
    " <br>\n",
    "Date : 10  December,2022 <br>\n",
    "Check in time :9:13am <br>\n",
    "Check out time : 9 :38am <br>\n",
    "Progress : 41% <br>"
   ]
  },
  {
   "cell_type": "markdown",
   "id": "39e4c6e7-9871-4211-8c4e-94bc180dc5f4",
   "metadata": {
    "tags": []
   },
   "source": [
    "# Resources used : \n",
    "\n",
    "- [Udacity : Introduction to statitiscs](https://learn.udacity.com/courses/st101)\n",
    "<br>\n",
    "\n",
    " Hanndwritten notes can be found [here](https://github.com/barbaraaboagye/My-MachineLearning-Journey/blob/af7b6361ed6aae95d63dbfa1f28854922a9235f5/Handwritten%20notes/09_VarianceITS.pdf)"
   ]
  },
  {
   "cell_type": "markdown",
   "id": "0c225be3-82c3-4f70-9506-b6e4cd5197ec",
   "metadata": {},
   "source": [
    "### Variance\n",
    "\n",
    "This is the spread of the data. If the data is centered around the mean, the value is small\n",
    "\n",
    "$$ Variance = \\frac{\\sum(x -\\bar x)^2}{N}$$\n",
    "\n",
    "### Standard deviation\n",
    "$$ Standard deviation = \\sqrt(\\text(Variance)$$"
   ]
  }
 ],
 "metadata": {
  "kernelspec": {
   "display_name": "Python 3 (ipykernel)",
   "language": "python",
   "name": "python3"
  },
  "language_info": {
   "codemirror_mode": {
    "name": "ipython",
    "version": 3
   },
   "file_extension": ".py",
   "mimetype": "text/x-python",
   "name": "python",
   "nbconvert_exporter": "python",
   "pygments_lexer": "ipython3",
   "version": "3.9.12"
  }
 },
 "nbformat": 4,
 "nbformat_minor": 5
}
