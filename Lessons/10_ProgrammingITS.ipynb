{
 "cells": [
  {
   "cell_type": "markdown",
   "id": "886467ac-de7e-46bc-a55e-6fd21277147b",
   "metadata": {},
   "source": [
    "<div align=\"center\">\n",
    "    <h1> My Machine Learning Journey</h1>\n",
    "Civl Engineer · Researcher Youtuber · Machine Learning Engineer (The Goal)\n",
    "    <br>\n",
    "    Sharing and documenting my progress and journey as I learn machine learning\n",
    "     <br>\n",
    "</div>\n",
    "\n",
    "<br>\n",
    "\n",
    "<div align=\"center\">\n",
    "    <a target=\"_blank\" href=\"https://github.com/barbaraaboagye/My-MachineLearning-Journey\"><img src=\"https://img.shields.io/github/last-commit/barbaraaboagye/My-MachineLearning-Journey\"></a>&nbsp;\n",
    "      <a target=\"_blank\" href=\"https://www.youtube.com/channel/UCEYKFq7ZEg81GYxpzNqYZ4)\"><img src=\"https://img.shields.io/youtube/channel/subscribers/UCEYKFq7ZEg81GYxpzNqYZ4Q?style=social\"></a>&nbsp;\n",
    "    <a target=\"_blank\" href=\"https://fr.linkedin.com/in/barbara-aboagye-233ba8133\"><img src=\"https://img.shields.io/badge/style--5eba00.svg?label=LinkedIn&logo=linkedin&style=social\"></a>&nbsp;\n",
    "    <a target=\"_blank\" href=\"https://twitter.com/awesome_ama\"><img src=\"https://img.shields.io/twitter/follow/awesome_ama?style=social\"></a>\n",
    "    <br>\n",
    "</div>\n",
    "\n",
    "<br>"
   ]
  },
  {
   "cell_type": "markdown",
   "id": "45b714aa-02f9-45ac-b2bf-e83b34b0c093",
   "metadata": {
    "jp-MarkdownHeadingCollapsed": true,
    "tags": []
   },
   "source": [
    "# Programming - Day 10 of x\n",
    "  <br>\n",
    "Date : 11TH December,2022 <br>\n",
    "Check in time : 6:48pm <br>\n",
    "Check out time : 7:58pm <br>\n",
    "Progress : 43%"
   ]
  },
  {
   "cell_type": "markdown",
   "id": "39e4c6e7-9871-4211-8c4e-94bc180dc5f4",
   "metadata": {
    "tags": []
   },
   "source": [
    "# Resources used : \n",
    "\n",
    "- [Udacity : Introduction to statitiscs](https://learn.udacity.com/courses/st101)\n",
    "<br>\n",
    "\n",
    "Hanndwritten notes can be found [here](https://github.com/barbaraaboagye/My-MachineLearning-Journey/blob/727fd92eecab4eb31a01e032fa17468a75e0e08e/Handwritten%20notes/10_ProgrammingITS.pdf)"
   ]
  },
  {
   "cell_type": "code",
   "execution_count": null,
   "id": "2ed357be-cfe4-4bcb-bffb-4b089e9595ad",
   "metadata": {},
   "outputs": [],
   "source": [
    "### Programming Estimators"
   ]
  },
  {
   "cell_type": "code",
   "execution_count": 5,
   "id": "5260fca8-ae0f-4a89-8050-150e5a29d93c",
   "metadata": {},
   "outputs": [
    {
     "name": "stdout",
     "output_type": "stream",
     "text": [
      "54.4\n"
     ]
    }
   ],
   "source": [
    "#Complete the mean function to make it return the mean of a list of numbers\n",
    "\n",
    "data1=[49., 66, 24, 98, 37, 64, 98, 27, 56, 93, 68, 78, 22, 25, 11]\n",
    "\n",
    "def mean(data):\n",
    "    mean = 1/len(data) *sum (data)\n",
    "    return mean\n",
    "\n",
    "\n",
    "print(mean(data1))"
   ]
  }
 ],
 "metadata": {
  "kernelspec": {
   "display_name": "Python 3 (ipykernel)",
   "language": "python",
   "name": "python3"
  },
  "language_info": {
   "codemirror_mode": {
    "name": "ipython",
    "version": 3
   },
   "file_extension": ".py",
   "mimetype": "text/x-python",
   "name": "python",
   "nbconvert_exporter": "python",
   "pygments_lexer": "ipython3",
   "version": "3.9.12"
  }
 },
 "nbformat": 4,
 "nbformat_minor": 5
}
