{
 "cells": [
  {
   "cell_type": "markdown",
   "id": "886467ac-de7e-46bc-a55e-6fd21277147b",
   "metadata": {},
   "source": [
    "<div align=\"center\">\n",
    "    <h1> My Machine Learning Journey</h1>\n",
    "Civl Engineer · Researcher Youtuber · Machine Learning Engineer (The Goal)\n",
    "    <br>\n",
    "    Sharing and documenting my progress and journey as I learn machine learning\n",
    "     <br>\n",
    "</div>\n",
    "\n",
    "<br>\n",
    "\n",
    "<div align=\"center\">\n",
    "    <a target=\"_blank\" href=\"https://github.com/barbaraaboagye/My-MachineLearning-Journey\"><img src=\"https://img.shields.io/github/last-commit/barbaraaboagye/My-MachineLearning-Journey\"></a>&nbsp;\n",
    "      <a target=\"_blank\" href=\"https://www.youtube.com/channel/UCEYKFq7ZEg81GYxpzNqYZ4)\"><img src=\"https://img.shields.io/youtube/channel/subscribers/UCEYKFq7ZEg81GYxpzNqYZ4Q?style=social\"></a>&nbsp;\n",
    "    <a target=\"_blank\" href=\"https://fr.linkedin.com/in/barbara-aboagye-233ba8133\"><img src=\"https://img.shields.io/badge/style--5eba00.svg?label=LinkedIn&logo=linkedin&style=social\"></a>&nbsp;\n",
    "    <a target=\"_blank\" href=\"https://twitter.com/awesome_ama\"><img src=\"https://img.shields.io/twitter/follow/awesome_ama?style=social\"></a>\n",
    "    <br>\n",
    "</div>\n",
    "\n",
    "<br>"
   ]
  },
  {
   "cell_type": "markdown",
   "id": "45b714aa-02f9-45ac-b2bf-e83b34b0c093",
   "metadata": {
    "jp-MarkdownHeadingCollapsed": true,
    "tags": []
   },
   "source": [
    "# Handwritten Digit Recognizer - Day 13 of x\n",
    "\n",
    "<br>\n",
    "Date : 14 December,2022 <br>\n",
    "Check in time : 8:58 am<br>\n",
    "Check out time : 10:37 am <br>\n",
    "Progress : Spent most of the time figuring out how the code will work."
   ]
  },
  {
   "cell_type": "markdown",
   "id": "39e4c6e7-9871-4211-8c4e-94bc180dc5f4",
   "metadata": {
    "tags": []
   },
   "source": [
    "# Resources used : \n",
    "\n",
    "- [Udacity : Introduction to statitiscs](https://learn.udacity.com/courses/st101)\n", I didn't write these codes myself. 
    "<br>\n",
    "\n",
    "Hanndwritten notes can be found [here](https://github.com/barbaraaboagye/My-MachineLearning-Journey/blob/bcaacc150a6f241664bba45cdf793daa9269ae3f/Handwritten%20notes/13_HandwrittenDigitRecognizer.pdf)"
   ]
  },
  {
   "cell_type": "markdown",
   "id": "5bd81431-99fe-4883-9b16-496b65a86db4",
   "metadata": {},
   "source": [
    "### Import libraries"
   ]
  },
  {
   "cell_type": "code",
   "execution_count": 1,
   "id": "6e64805f-f8d3-4dc6-bdd1-d544d8f4351c",
   "metadata": {},
   "outputs": [],
   "source": [
    "import pandas as pd\n",
    "import matplotlib.pyplot as plt  \n",
    "from sklearn import svm\n",
    "from sklearn import metrics\n",
    "import joblib\n",
    "import numpy as np\n",
    "from sklearn.utils import shuffle\n",
    "\n"
   ]
  },
  {
   "cell_type": "markdown",
   "id": "d92c1ed3-45d2-4882-a0c0-d04d3bcd2113",
   "metadata": {},
   "source": [
    "### Step 1: Get Data from CSV and shuffle it"
   ]
  },
  {
   "cell_type": "code",
   "execution_count": 11,
   "id": "39171b4c-75d9-4571-b7c4-24d4b87726e9",
   "metadata": {},
   "outputs": [
    {
     "data": {
      "text/plain": [
       "(408, 785)"
      ]
     },
     "execution_count": 11,
     "metadata": {},
     "output_type": "execute_result"
    }
   ],
   "source": [
    "dataframe = pd.read_excel('dataset.xlsx')\n",
    "dataframe = dataframe.sample(frac=1).reset_index(drop=True) #shuffle dataset so the digits are mixed\n",
    "#dataframe.head() \n",
    "dataframe.shape\n"
   ]
  },
  {
   "cell_type": "markdown",
   "id": "40c23c02-ad61-4d98-b222-62f6e357562b",
   "metadata": {},
   "source": [
    "### Step 2: Seperate Labels and Features (pixels)"
   ]
  },
  {
   "cell_type": "code",
   "execution_count": 12,
   "id": "e15b2535-59e0-425a-a677-a873b09b2bff",
   "metadata": {},
   "outputs": [],
   "source": [
    "X = dataframe.drop(['label'],axis =1) #features\n",
    "Y = dataframe[\"label\"]\n",
    "X_train, Y_train = X[0:328], Y[0:328]\n",
    "X_test, Y_test = X[328:],Y[328:]"
   ]
  },
  {
   "cell_type": "markdown",
   "id": "fc313800-7565-47d3-9a0a-d7cfc8726146",
   "metadata": {},
   "source": [
    "### Step 3: Make sure you have the correct Feature / label combination in training"
   ]
  },
  {
   "cell_type": "code",
   "execution_count": 13,
   "id": "63d365fb-7a02-4d4d-a464-4e97357de88f",
   "metadata": {},
   "outputs": [
    {
     "data": {
      "image/png": "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\n",
      "text/plain": [
       "<Figure size 432x288 with 1 Axes>"
      ]
     },
     "metadata": {
      "needs_background": "light"
     },
     "output_type": "display_data"
    }
   ],
   "source": [
    "grid_data = X_train.values[250].reshape(28,28)\n",
    "plt.imshow(grid_data,interpolation=None,cmap=\"gray\")\n",
    "plt.title(Y_train.values[250])\n",
    "plt.show()"
   ]
  },
  {
   "cell_type": "markdown",
   "id": "c92e81a9-bec3-4c42-8722-e10280005ec4",
   "metadata": {},
   "source": [
    "### Step 4: Build a Model and Save it"
   ]
  },
  {
   "cell_type": "code",
   "execution_count": 15,
   "id": "70b75b26-2c54-4897-b48a-b7ba276576ea",
   "metadata": {},
   "outputs": [
    {
     "data": {
      "text/plain": [
       "SVC(kernel='linear')"
      ]
     },
     "execution_count": 15,
     "metadata": {},
     "output_type": "execute_result"
    }
   ],
   "source": [
    "model = svm.SVC(kernel='linear')\n",
    "model.fit(X_train,Y_train)\n",
    "#joblib.dump(model,\"model/svm_4label_linear\")    #save the model"
   ]
  },
  {
   "cell_type": "markdown",
   "id": "59c17c85-da3b-4b10-a7a6-7ad0ca4bbb58",
   "metadata": {},
   "source": [
    "### Step 5 : Print Accuracy "
   ]
  },
  {
   "cell_type": "code",
   "execution_count": 18,
   "id": "c7365d35-c096-4a27-922f-c8f5f6f2c627",
   "metadata": {},
   "outputs": [
    {
     "name": "stdout",
     "output_type": "stream",
     "text": [
      "Model Score/Accuracy is 0.975\n"
     ]
    }
   ],
   "source": [
    "predictions = model.predict(X_test)\n",
    "print (\"Model Score/Accuracy is\",metrics.accuracy_score(Y_test,predictions))"
   ]
  },
  {
   "cell_type": "code",
   "execution_count": null,
   "id": "a40c75cd-7301-4a04-8505-c75c0e358a02",
   "metadata": {},
   "outputs": [],
   "source": []
  }
 ],
 "metadata": {
  "kernelspec": {
   "display_name": "Python 3 (ipykernel)",
   "language": "python",
   "name": "python3"
  },
  "language_info": {
   "codemirror_mode": {
    "name": "ipython",
    "version": 3
   },
   "file_extension": ".py",
   "mimetype": "text/x-python",
   "name": "python",
   "nbconvert_exporter": "python",
   "pygments_lexer": "ipython3",
   "version": "3.9.12"
  }
 },
 "nbformat": 4,
 "nbformat_minor": 5
}
