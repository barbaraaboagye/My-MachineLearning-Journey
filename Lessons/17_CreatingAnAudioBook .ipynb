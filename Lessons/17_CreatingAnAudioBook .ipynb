{
 "cells": [
  {
   "cell_type": "markdown",
   "id": "886467ac-de7e-46bc-a55e-6fd21277147b",
   "metadata": {},
   "source": [
    "<div align=\"center\">\n",
    "    <h1> My Machine Learning Journey</h1>\n",
    "Civl Engineer · Researcher Youtuber · Machine Learning Engineer (The Goal)\n",
    "    <br>\n",
    "    Sharing and documenting my progress and journey as I learn machine learning\n",
    "     <br>\n",
    "</div>\n",
    "\n",
    "<br>\n",
    "\n",
    "<div align=\"center\">\n",
    "    <a target=\"_blank\" href=\"https://github.com/barbaraaboagye/My-MachineLearning-Journey\"><img src=\"https://img.shields.io/github/last-commit/barbaraaboagye/My-MachineLearning-Journey\"></a>&nbsp;\n",
    "      <a target=\"_blank\" href=\"https://www.youtube.com/channel/UCEYKFq7ZEg81GYxpzNqYZ4)\"><img src=\"https://img.shields.io/youtube/channel/subscribers/UCEYKFq7ZEg81GYxpzNqYZ4Q?style=social\"></a>&nbsp;\n",
    "    <a target=\"_blank\" href=\"https://fr.linkedin.com/in/barbara-aboagye-233ba8133\"><img src=\"https://img.shields.io/badge/style--5eba00.svg?label=LinkedIn&logo=linkedin&style=social\"></a>&nbsp;\n",
    "    <a target=\"_blank\" href=\"https://twitter.com/awesome_ama\"><img src=\"https://img.shields.io/twitter/follow/awesome_ama?style=social\"></a>\n",
    "    <br>\n",
    "</div>\n",
    "\n",
    "<br>"
   ]
  },
  {
   "cell_type": "markdown",
   "id": "45b714aa-02f9-45ac-b2bf-e83b34b0c093",
   "metadata": {
    "jp-MarkdownHeadingCollapsed": true,
    "tags": []
   },
   "source": [
    "# CreatingAnAudioBook - Day 17 of x\n",
    "<br>\n",
    "Date : 18th December,2022 <br>\n",
    "Check in time : 6:12pm <br>\n",
    "Check out time : 8 :07pm <br>\n",
    "Progress :"
   ]
  },
  {
   "cell_type": "markdown",
   "id": "39e4c6e7-9871-4211-8c4e-94bc180dc5f4",
   "metadata": {
    "tags": []
   },
   "source": [
    "# Resources used : \n",
    "\n",
    "- [Udacity : Introduction to statitiscs](https://learn.udacity.com/courses/st101)\n",
    "<br>\n",
    " Hanndwritten notes can be found [here]"
   ]
  },
  {
   "cell_type": "markdown",
   "id": "cb1f83b7-7d09-496a-a566-feb4ff9434cb",
   "metadata": {},
   "source": [
    "Getting tired of the tutorials. Today I will write/work on a code to convert texts to audio. Something like an audiobook"
   ]
  },
  {
   "cell_type": "markdown",
   "id": "30bb2827-3eda-4d82-ad89-7ba72b3a2d69",
   "metadata": {},
   "source": [
    "## Importing and installing libraries\n",
    "\n",
    "PyPDF2 - pip install PyPDF2 #pdf manipulation <br>\n",
    "pikedpdf - pip install pikepdf #pdf manipulation <br>\n",
    "pyttsx3  -    #text-to-speech conversion library <br>"
   ]
  },
  {
   "cell_type": "code",
   "execution_count": 1,
   "id": "93d06eeb-c299-4e62-88df-7cdaa2509e41",
   "metadata": {},
   "outputs": [],
   "source": [
    "import PyPDF2, pikepdf, pyttsx3\n",
    "from PyPDF2 import PdfFileWriter, PdfFileReader"
   ]
  },
  {
   "cell_type": "markdown",
   "id": "fdfdbf40-a5f8-4bcf-8378-47bdf1c68a5d",
   "metadata": {},
   "source": [
    "## Creating an audio book from Pdf"
   ]
  },
  {
   "cell_type": "markdown",
   "id": "09ee07a7-d270-45a0-86e8-4a191f71d9a6",
   "metadata": {},
   "source": [
    "Open the book you want to read and create a copy of the original file so that if something goes wrong, it doesn’t affect the original file"
   ]
  },
  {
   "cell_type": "code",
   "execution_count": 2,
   "id": "fbec6979-e215-4d33-a161-399f15ee2b75",
   "metadata": {},
   "outputs": [],
   "source": [
    "#open and read pdf\n",
    "pdf = pikepdf.open(\"/Users/ama/Desktop/My machine learning journey/LETTER OF MOTVATION.pdf\")\n",
    "pdf.save(\"LOM.pdf\")"
   ]
  },
  {
   "cell_type": "code",
   "execution_count": 3,
   "id": "9d579172-669c-42ef-af0a-5e50081125ee",
   "metadata": {},
   "outputs": [],
   "source": [
    "# Open PDF file with the PdfFileReader\n",
    "\n",
    "file = PdfFileReader(\"LOM.pdf\") # file that will be read"
   ]
  },
  {
   "cell_type": "code",
   "execution_count": null,
   "id": "cf399f60-d709-4a53-80be-8bd0b6d2fd06",
   "metadata": {},
   "outputs": [],
   "source": [
    "# Initiate the voice \n",
    "\n",
    "engine = pyttsx3.init()\n",
    "\n",
    "# Create voice settings of voice reader\n",
    "\n",
    "rate = engine.getProperty('rate')   # getting details of current speaking rate\n",
    "engine.setProperty('rate', 80)     # setting up new voice rate\n",
    "\n",
    "volume = engine.getProperty('volume')\n",
    "engine.setProperty('volume',1.0)    # setting up volume level  between 0 and 1\n",
    "\n",
    "voices = engine.getProperty('voices')       #getting details of current voice\n",
    "#engine.setProperty('voice', voices[0].id)  #changing index, changes voices. o for male\n",
    "engine.setProperty('voice', voices[1].id)   #changing index, changes voices. 1 for female\n",
    "\n",
    "engine.say('Hello, Barbara')\n",
    "engine.runAndWait()"
   ]
  },
  {
   "cell_type": "code",
   "execution_count": 7,
   "id": "823e9eea-34b3-40b9-b642-a9eb850f1dc7",
   "metadata": {},
   "outputs": [
    {
     "ename": "KeyboardInterrupt",
     "evalue": "",
     "output_type": "error",
     "traceback": [
      "\u001b[0;31m---------------------------------------------------------------------------\u001b[0m",
      "\u001b[0;31mKeyboardInterrupt\u001b[0m                         Traceback (most recent call last)",
      "\u001b[0;32m/var/folders/vw/l5yycdjj5mldk_xp8k2qm3ym0000gn/T/ipykernel_10095/1718286434.py\u001b[0m in \u001b[0;36m<module>\u001b[0;34m\u001b[0m\n\u001b[1;32m      5\u001b[0m     \u001b[0mengine\u001b[0m\u001b[0;34m.\u001b[0m\u001b[0msay\u001b[0m\u001b[0;34m(\u001b[0m\u001b[0mtext\u001b[0m\u001b[0;34m)\u001b[0m\u001b[0;34m\u001b[0m\u001b[0;34m\u001b[0m\u001b[0m\n\u001b[1;32m      6\u001b[0m     \u001b[0mengine\u001b[0m\u001b[0;34m.\u001b[0m\u001b[0msave_to_file\u001b[0m\u001b[0;34m(\u001b[0m\u001b[0mtext\u001b[0m\u001b[0;34m,\u001b[0m\u001b[0;34m'LOM.mp3'\u001b[0m\u001b[0;34m)\u001b[0m\u001b[0;34m\u001b[0m\u001b[0;34m\u001b[0m\u001b[0m\n\u001b[0;32m----> 7\u001b[0;31m     \u001b[0mengine\u001b[0m\u001b[0;34m.\u001b[0m\u001b[0mrunAndWait\u001b[0m\u001b[0;34m(\u001b[0m\u001b[0;34m)\u001b[0m\u001b[0;34m\u001b[0m\u001b[0;34m\u001b[0m\u001b[0m\n\u001b[0m\u001b[1;32m      8\u001b[0m     \u001b[0mengine\u001b[0m\u001b[0;34m.\u001b[0m\u001b[0mstop\u001b[0m\u001b[0;34m(\u001b[0m\u001b[0;34m)\u001b[0m\u001b[0;34m\u001b[0m\u001b[0;34m\u001b[0m\u001b[0m\n",
      "\u001b[0;32m~/opt/anaconda3/lib/python3.9/site-packages/pyttsx3/engine.py\u001b[0m in \u001b[0;36mrunAndWait\u001b[0;34m(self)\u001b[0m\n\u001b[1;32m    178\u001b[0m         \u001b[0mself\u001b[0m\u001b[0;34m.\u001b[0m\u001b[0m_inLoop\u001b[0m \u001b[0;34m=\u001b[0m \u001b[0;32mTrue\u001b[0m\u001b[0;34m\u001b[0m\u001b[0;34m\u001b[0m\u001b[0m\n\u001b[1;32m    179\u001b[0m         \u001b[0mself\u001b[0m\u001b[0;34m.\u001b[0m\u001b[0m_driverLoop\u001b[0m \u001b[0;34m=\u001b[0m \u001b[0;32mTrue\u001b[0m\u001b[0;34m\u001b[0m\u001b[0;34m\u001b[0m\u001b[0m\n\u001b[0;32m--> 180\u001b[0;31m         \u001b[0mself\u001b[0m\u001b[0;34m.\u001b[0m\u001b[0mproxy\u001b[0m\u001b[0;34m.\u001b[0m\u001b[0mrunAndWait\u001b[0m\u001b[0;34m(\u001b[0m\u001b[0;34m)\u001b[0m\u001b[0;34m\u001b[0m\u001b[0;34m\u001b[0m\u001b[0m\n\u001b[0m\u001b[1;32m    181\u001b[0m \u001b[0;34m\u001b[0m\u001b[0m\n\u001b[1;32m    182\u001b[0m     \u001b[0;32mdef\u001b[0m \u001b[0mstartLoop\u001b[0m\u001b[0;34m(\u001b[0m\u001b[0mself\u001b[0m\u001b[0;34m,\u001b[0m \u001b[0museDriverLoop\u001b[0m\u001b[0;34m=\u001b[0m\u001b[0;32mTrue\u001b[0m\u001b[0;34m)\u001b[0m\u001b[0;34m:\u001b[0m\u001b[0;34m\u001b[0m\u001b[0;34m\u001b[0m\u001b[0m\n",
      "\u001b[0;32m~/opt/anaconda3/lib/python3.9/site-packages/pyttsx3/driver.py\u001b[0m in \u001b[0;36mrunAndWait\u001b[0;34m(self)\u001b[0m\n\u001b[1;32m    190\u001b[0m         '''\n\u001b[1;32m    191\u001b[0m         \u001b[0mself\u001b[0m\u001b[0;34m.\u001b[0m\u001b[0m_push\u001b[0m\u001b[0;34m(\u001b[0m\u001b[0mself\u001b[0m\u001b[0;34m.\u001b[0m\u001b[0m_engine\u001b[0m\u001b[0;34m.\u001b[0m\u001b[0mendLoop\u001b[0m\u001b[0;34m,\u001b[0m \u001b[0mtuple\u001b[0m\u001b[0;34m(\u001b[0m\u001b[0;34m)\u001b[0m\u001b[0;34m)\u001b[0m\u001b[0;34m\u001b[0m\u001b[0;34m\u001b[0m\u001b[0m\n\u001b[0;32m--> 192\u001b[0;31m         \u001b[0mself\u001b[0m\u001b[0;34m.\u001b[0m\u001b[0m_driver\u001b[0m\u001b[0;34m.\u001b[0m\u001b[0mstartLoop\u001b[0m\u001b[0;34m(\u001b[0m\u001b[0;34m)\u001b[0m\u001b[0;34m\u001b[0m\u001b[0;34m\u001b[0m\u001b[0m\n\u001b[0m\u001b[1;32m    193\u001b[0m \u001b[0;34m\u001b[0m\u001b[0m\n\u001b[1;32m    194\u001b[0m     \u001b[0;32mdef\u001b[0m \u001b[0mstartLoop\u001b[0m\u001b[0;34m(\u001b[0m\u001b[0mself\u001b[0m\u001b[0;34m,\u001b[0m \u001b[0museDriverLoop\u001b[0m\u001b[0;34m)\u001b[0m\u001b[0;34m:\u001b[0m\u001b[0;34m\u001b[0m\u001b[0;34m\u001b[0m\u001b[0m\n",
      "\u001b[0;32m~/opt/anaconda3/lib/python3.9/site-packages/pyttsx3/drivers/nsss.py\u001b[0m in \u001b[0;36mstartLoop\u001b[0;34m(self)\u001b[0m\n\u001b[1;32m     33\u001b[0m         NSTimer.scheduledTimerWithTimeInterval_target_selector_userInfo_repeats_(\n\u001b[1;32m     34\u001b[0m             0.0, self, 'onPumpFirst:', None, False)\n\u001b[0;32m---> 35\u001b[0;31m         \u001b[0mAppHelper\u001b[0m\u001b[0;34m.\u001b[0m\u001b[0mrunConsoleEventLoop\u001b[0m\u001b[0;34m(\u001b[0m\u001b[0;34m)\u001b[0m\u001b[0;34m\u001b[0m\u001b[0;34m\u001b[0m\u001b[0m\n\u001b[0m\u001b[1;32m     36\u001b[0m \u001b[0;34m\u001b[0m\u001b[0m\n\u001b[1;32m     37\u001b[0m     \u001b[0;32mdef\u001b[0m \u001b[0mendLoop\u001b[0m\u001b[0;34m(\u001b[0m\u001b[0mself\u001b[0m\u001b[0;34m)\u001b[0m\u001b[0;34m:\u001b[0m\u001b[0;34m\u001b[0m\u001b[0;34m\u001b[0m\u001b[0m\n",
      "\u001b[0;32m~/opt/anaconda3/lib/python3.9/site-packages/PyObjCTools/AppHelper.py\u001b[0m in \u001b[0;36mrunConsoleEventLoop\u001b[0;34m(argv, installInterrupt, mode, maxTimeout)\u001b[0m\n\u001b[1;32m    261\u001b[0m             \u001b[0;32mif\u001b[0m \u001b[0mnextfire\u001b[0m \u001b[0;32mis\u001b[0m \u001b[0;32mnot\u001b[0m \u001b[0;32mNone\u001b[0m\u001b[0;34m:\u001b[0m\u001b[0;34m\u001b[0m\u001b[0;34m\u001b[0m\u001b[0m\n\u001b[1;32m    262\u001b[0m                 \u001b[0mnextfire\u001b[0m \u001b[0;34m=\u001b[0m \u001b[0msoon\u001b[0m\u001b[0;34m.\u001b[0m\u001b[0mearlierDate_\u001b[0m\u001b[0;34m(\u001b[0m\u001b[0mnextfire\u001b[0m\u001b[0;34m)\u001b[0m\u001b[0;34m\u001b[0m\u001b[0;34m\u001b[0m\u001b[0m\n\u001b[0;32m--> 263\u001b[0;31m             \u001b[0;32mif\u001b[0m \u001b[0;32mnot\u001b[0m \u001b[0mrunLoop\u001b[0m\u001b[0;34m.\u001b[0m\u001b[0mrunMode_beforeDate_\u001b[0m\u001b[0;34m(\u001b[0m\u001b[0mmode\u001b[0m\u001b[0;34m,\u001b[0m \u001b[0mnextfire\u001b[0m\u001b[0;34m)\u001b[0m\u001b[0;34m:\u001b[0m\u001b[0;34m\u001b[0m\u001b[0;34m\u001b[0m\u001b[0m\n\u001b[0m\u001b[1;32m    264\u001b[0m                 \u001b[0mstopper\u001b[0m\u001b[0;34m.\u001b[0m\u001b[0mstop\u001b[0m\u001b[0;34m(\u001b[0m\u001b[0;34m)\u001b[0m\u001b[0;34m\u001b[0m\u001b[0;34m\u001b[0m\u001b[0m\n\u001b[1;32m    265\u001b[0m \u001b[0;34m\u001b[0m\u001b[0m\n",
      "\u001b[0;32m~/opt/anaconda3/lib/python3.9/site-packages/pyttsx3/drivers/nsss.py\u001b[0m in \u001b[0;36mspeechSynthesizer_willSpeakWord_ofString_\u001b[0;34m(self, tts, rng, text)\u001b[0m\n\u001b[1;32m    107\u001b[0m         \u001b[0mself\u001b[0m\u001b[0;34m.\u001b[0m\u001b[0m_proxy\u001b[0m\u001b[0;34m.\u001b[0m\u001b[0msetBusy\u001b[0m\u001b[0;34m(\u001b[0m\u001b[0;32mFalse\u001b[0m\u001b[0;34m)\u001b[0m\u001b[0;34m\u001b[0m\u001b[0;34m\u001b[0m\u001b[0m\n\u001b[1;32m    108\u001b[0m \u001b[0;34m\u001b[0m\u001b[0m\n\u001b[0;32m--> 109\u001b[0;31m     \u001b[0;32mdef\u001b[0m \u001b[0mspeechSynthesizer_willSpeakWord_ofString_\u001b[0m\u001b[0;34m(\u001b[0m\u001b[0mself\u001b[0m\u001b[0;34m,\u001b[0m \u001b[0mtts\u001b[0m\u001b[0;34m,\u001b[0m \u001b[0mrng\u001b[0m\u001b[0;34m,\u001b[0m \u001b[0mtext\u001b[0m\u001b[0;34m)\u001b[0m\u001b[0;34m:\u001b[0m\u001b[0;34m\u001b[0m\u001b[0;34m\u001b[0m\u001b[0m\n\u001b[0m\u001b[1;32m    110\u001b[0m         self._proxy.notify('started-word', location=rng.location,\n\u001b[1;32m    111\u001b[0m                            length=rng.length)\n",
      "\u001b[0;31mKeyboardInterrupt\u001b[0m: "
     ]
    }
   ],
   "source": [
    "# Decide on the pages you want it to read\n",
    "for page_num in range (1,2):\n",
    "    pages = file.getPage(page_num)\n",
    "    text = pages.extractText() # extracting the text from file\n",
    "    engine.say(text)\n",
    "    engine.save_to_file(text,'LOM.mp3')\n",
    "    engine.runAndWait()\n",
    "    engine.stop()\n"
   ]
  },
  {
   "cell_type": "code",
   "execution_count": 6,
   "id": "8dc1b443-50c6-4c97-8983-79291cd44bce",
   "metadata": {},
   "outputs": [],
   "source": []
  },
  {
   "cell_type": "markdown",
   "id": "11288c52-9f90-425d-b8b6-0988fe66022a",
   "metadata": {},
   "source": [
    "## Summary\n",
    "\n",
    "- For voice, 1 is the largest and 0 means no sound.\n",
    "- For changing the gender, I kept on getting the error `KeyError: 'VoiceAge'` \n",
    "    - I deleted the voice age parameter in the source file nsss.py but same problem persist - /opt/anaconda3/lib/python3.9/site-packages/pyttsx3/drivers/nsss.py at the 64 line\n",
    "    - It worked the next day\n",
    "- I saved recorded audio but couldn't find it"
   ]
  },
  {
   "cell_type": "code",
   "execution_count": null,
   "id": "1a824e2c-aacb-429c-8c03-bbc86659d3d5",
   "metadata": {},
   "outputs": [],
   "source": []
  }
 ],
 "metadata": {
  "kernelspec": {
   "display_name": "Python 3 (ipykernel)",
   "language": "python",
   "name": "python3"
  },
  "language_info": {
   "codemirror_mode": {
    "name": "ipython",
    "version": 3
   },
   "file_extension": ".py",
   "mimetype": "text/x-python",
   "name": "python",
   "nbconvert_exporter": "python",
   "pygments_lexer": "ipython3",
   "version": "3.9.12"
  }
 },
 "nbformat": 4,
 "nbformat_minor": 5
}
