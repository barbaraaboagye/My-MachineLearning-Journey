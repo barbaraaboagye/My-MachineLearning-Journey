{
 "cells": [
  {
   "cell_type": "markdown",
   "id": "886467ac-de7e-46bc-a55e-6fd21277147b",
   "metadata": {},
   "source": [
    "<div align=\"center\">\n",
    "    <h1> My Machine Learning Journey</h1>\n",
    "Civl Engineer · Researcher Youtuber · Machine Learning Engineer (The Goal)\n",
    "    <br>\n",
    "    Sharing and documenting my progress and journey as I learn machine learning\n",
    "     <br>\n",
    "</div>\n",
    "\n",
    "<br>\n",
    "\n",
    "<div align=\"center\">\n",
    "    <a target=\"_blank\" href=\"https://github.com/barbaraaboagye/My-MachineLearning-Journey\"><img src=\"https://img.shields.io/github/last-commit/barbaraaboagye/My-MachineLearning-Journey\"></a>&nbsp;\n",
    "      <a target=\"_blank\" href=\"https://www.youtube.com/channel/UCEYKFq7ZEg81GYxpzNqYZ4)\"><img src=\"https://img.shields.io/youtube/channel/subscribers/UCEYKFq7ZEg81GYxpzNqYZ4Q?style=social\"></a>&nbsp;\n",
    "    <a target=\"_blank\" href=\"https://fr.linkedin.com/in/barbara-aboagye-233ba8133\"><img src=\"https://img.shields.io/badge/style--5eba00.svg?label=LinkedIn&logo=linkedin&style=social\"></a>&nbsp;\n",
    "    <a target=\"_blank\" href=\"https://twitter.com/awesome_ama\"><img src=\"https://img.shields.io/twitter/follow/awesome_ama?style=social\"></a>\n",
    "    <br>\n",
    "</div>\n",
    "\n",
    "<br>"
   ]
  },
  {
   "attachments": {},
   "cell_type": "markdown",
   "id": "45b714aa-02f9-45ac-b2bf-e83b34b0c093",
   "metadata": {
    "jp-MarkdownHeadingCollapsed": true,
    "tags": []
   },
   "source": [
    "# Installing and understanding frameworks - Day x of x\n",
    " <br>\n",
    "Date : 21st December,2022 <br>\n",
    "Check in time :9 :00am <br>\n",
    "Check out time : 12:00pm<br>\n",
    "Progress :"
   ]
  },
  {
   "attachments": {},
   "cell_type": "markdown",
   "id": "39e4c6e7-9871-4211-8c4e-94bc180dc5f4",
   "metadata": {
    "tags": []
   },
   "source": [
    "# Resources used : \n",
    "\n",
    "- [Udacity : Introduction to statitiscs](https://learn.udacity.com/courses/st101)\n",
    "<br>\n",
    " Hanndwritten notes can be found [here](https://github.com/barbaraaboagye/My-MachineLearning-Journey/blob/30e62224d16039b713b146c9139f0b9afed90a3f/Handwritten%20notes/20_InstallingAndUnderstandingFrameworks.pdf)"
   ]
  },
  {
   "attachments": {},
   "cell_type": "markdown",
   "id": "b322950e-a5a9-4990-9209-51683e2f655f",
   "metadata": {},
   "source": [
    "## Summary\n",
    "\n",
    "- I started a project on [predicting concrete compressive strength](https://github.com/barbaraaboagye/My-MachineLearning-Journey/blob/b7e7013eab3c34fc4452cfd4ddc87c70191dda7f/Projects/predicting-concrete-compressive-strength/README.md)\n",
    "\n",
    "- I watched [concrete strength prediction](https://www.youtube.com/watch?v=NwlPj1JjbQU&list=PLebQgfnH5IqtMMwS48VFG8pRMmRTQ8fn_&index=2) by Gabriel Atkin\n",
    "\n",
    "- I looked at other codes on the same topic.\n",
    "\n",
    "- I installed Visual studio code \n",
    "\n",
    "- Read and use my jupyter notebook in vscode. It took a whole for this to work. I kept on getting this error - `\"Failed to start the Kernel. Kernel Python 3.9.6 is not usable. Check the Jupyter output tab for more information. View Jupyter log for further details.\"`\n",
    "    - Actuaally i needed to [set up an environment](https://code.visualstudio.com/docs/datascience/jupyter-notebooks) . To solve this on the command pallet, i typed **Python : Select Interpreter** and I choose the conda environment since I already had anaconda installed.\n",
    "    <br>\n",
    "<img src = \"attachment:Screenshot 2022-12-21 at 12.01.37 PM.png\" width = \"400\">\n",
    "\n",
    "\n",
    "- I can't seem to view images in vscode markdown."
   ]
  },
  {
   "cell_type": "code",
   "execution_count": null,
   "id": "d5867730",
   "metadata": {},
   "outputs": [],
   "source": []
  }
 ],
 "metadata": {
  "kernelspec": {
   "display_name": "base",
   "language": "python",
   "name": "python3"
  },
  "language_info": {
   "codemirror_mode": {
    "name": "ipython",
    "version": 3
   },
   "file_extension": ".py",
   "mimetype": "text/x-python",
   "name": "python",
   "nbconvert_exporter": "python",
   "pygments_lexer": "ipython3",
   "version": "3.9.12"
  },
  "vscode": {
   "interpreter": {
    "hash": "02ffa660b6f6d9be8cca427b74bc9cb87fea4b28c9e17012788bc534d238c364"
   }
  }
 },
 "nbformat": 4,
 "nbformat_minor": 5
}
