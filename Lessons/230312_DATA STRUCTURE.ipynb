{
 "cells": [
  {
   "cell_type": "markdown",
   "id": "886467ac-de7e-46bc-a55e-6fd21277147b",
   "metadata": {},
   "source": [
    "<div align=\"center\">\n",
    "    <h1> My Machine Learning Journey</h1>\n",
    "Civl Engineer · Researcher Youtuber · Machine Learning Engineer (The Goal)\n",
    "    <br>\n",
    "    Sharing and documenting my progress and journey as I learn machine learning\n",
    "     <br>\n",
    "</div>\n",
    "\n",
    "<br>\n",
    "\n",
    "<div align=\"center\">\n",
    "    <a target=\"_blank\" href=\"https://github.com/barbaraaboagye/My-MachineLearning-Journey\"><img src=\"https://img.shields.io/github/last-commit/barbaraaboagye/My-MachineLearning-Journey\"></a>&nbsp;\n",
    "      <a target=\"_blank\" href=\"https://www.youtube.com/channel/UCEYKFq7ZEg81GYxpzNqYZ4)\"><img src=\"https://img.shields.io/youtube/channel/subscribers/UCEYKFq7ZEg81GYxpzNqYZ4Q?style=social\"></a>&nbsp;\n",
    "    <a target=\"_blank\" href=\"https://fr.linkedin.com/in/barbara-aboagye-233ba8133\"><img src=\"https://img.shields.io/badge/style--5eba00.svg?label=LinkedIn&logo=linkedin&style=social\"></a>&nbsp;\n",
    "    <a target=\"_blank\" href=\"https://twitter.com/awesome_ama\"><img src=\"https://img.shields.io/twitter/follow/awesome_ama?style=social\"></a>\n",
    "    <br>\n",
    "</div>\n",
    "\n",
    "<br>"
   ]
  },
  {
   "attachments": {},
   "cell_type": "markdown",
   "id": "45b714aa-02f9-45ac-b2bf-e83b34b0c093",
   "metadata": {
    "jp-MarkdownHeadingCollapsed": true,
    "tags": []
   },
   "source": [
    "# Notebooks - Day x of x\n",
    "Took along break but I am back. Better late than never. My direction has shifted now. I will be using the resource [Made with ML](https://github.com/barbaraaboagye/Made-With-ML) for the journey  <br>\n",
    "Date : 12 March,2023 <br>\n",
    "HOURS SPENT : 2 HOURS\n",
    "Progress :"
   ]
  },
  {
   "attachments": {},
   "cell_type": "markdown",
   "id": "39e4c6e7-9871-4211-8c4e-94bc180dc5f4",
   "metadata": {
    "jp-MarkdownHeadingCollapsed": true,
    "tags": []
   },
   "source": [
    "# Resources used : \n",
    "\n",
    "- [Toolkits - Notebook](https://madewithml.com/courses/foundations/notebooks/) - I know most of these but a recap is always good.\n",
    "<br>\n",
    " Handwritten notes can be found [here](https://github.com/barbaraaboagye/My-MachineLearning-Journey/blob/fcb1d1d3cb1d144b56d9d05a13a1380c4a86101b/Handwritten%20notes/230312_DATASTRUCTURES.pdf)"
   ]
  },
  {
   "attachments": {},
   "cell_type": "markdown",
   "id": "d905473e",
   "metadata": {},
   "source": [
    "## VARIABLES\n",
    "\n",
    "A container or parameter that stores data. It consists of a name and a value. There are different types of variable and it's always important to know the type of variable you are working with."
   ]
  },
  {
   "cell_type": "code",
   "execution_count": 1,
   "id": "688ee85e",
   "metadata": {},
   "outputs": [
    {
     "name": "stdout",
     "output_type": "stream",
     "text": [
      "10\n",
      "<class 'int'>\n"
     ]
    }
   ],
   "source": [
    "### Integer variable \n",
    "\n",
    "a = 10\n",
    "print (a)\n",
    "print (type(a))\n"
   ]
  },
  {
   "cell_type": "code",
   "execution_count": 2,
   "id": "fe6c4f42",
   "metadata": {},
   "outputs": [
    {
     "name": "stdout",
     "output_type": "stream",
     "text": [
      "10 <class 'int'>\n"
     ]
    }
   ],
   "source": [
    "a = 10\n",
    "print (a,type(a))\n"
   ]
  },
  {
   "cell_type": "code",
   "execution_count": 3,
   "id": "a7478657",
   "metadata": {},
   "outputs": [
    {
     "name": "stdout",
     "output_type": "stream",
     "text": [
      "Welcome <class 'str'>\n"
     ]
    }
   ],
   "source": [
    "### String variable\n",
    "x = \"Welcome\"\n",
    "print (x,type(x))"
   ]
  },
  {
   "cell_type": "code",
   "execution_count": 4,
   "id": "09584fd5",
   "metadata": {},
   "outputs": [
    {
     "name": "stdout",
     "output_type": "stream",
     "text": [
      "5 <class 'int'>\n",
      "5 <class 'str'>\n",
      "5.0 <class 'float'>\n",
      "True <class 'bool'>\n"
     ]
    }
   ],
   "source": [
    "### Types of variables and examples\n",
    "\n",
    "a = 5\n",
    "b = \"5\"\n",
    "c = 5.0\n",
    "d = True\n",
    "print (a,type(a))\n",
    "print (b,type(b))\n",
    "print (c,type(c))\n",
    "print (d,type(d))"
   ]
  },
  {
   "cell_type": "code",
   "execution_count": 6,
   "id": "a51b35cb",
   "metadata": {},
   "outputs": [
    {
     "name": "stdout",
     "output_type": "stream",
     "text": [
      "10.0 <class 'float'>\n"
     ]
    }
   ],
   "source": [
    "## Operations on variables\n",
    "\n",
    "e = a + c\n",
    "print (e, type(e))"
   ]
  },
  {
   "cell_type": "code",
   "execution_count": 7,
   "id": "e4e49bbe",
   "metadata": {},
   "outputs": [
    {
     "name": "stdout",
     "output_type": "stream",
     "text": [
      "58 <class 'str'>\n"
     ]
    }
   ],
   "source": [
    "b = \"5\"\n",
    "f = \"8\"\n",
    "print (b+f, type(b+f))\n",
    "# Addition "
   ]
  },
  {
   "cell_type": "code",
   "execution_count": 8,
   "id": "378af880",
   "metadata": {},
   "outputs": [
    {
     "ename": "TypeError",
     "evalue": "unsupported operand type(s) for +: 'int' and 'str'",
     "output_type": "error",
     "traceback": [
      "\u001b[0;31m---------------------------------------------------------------------------\u001b[0m",
      "\u001b[0;31mTypeError\u001b[0m                                 Traceback (most recent call last)",
      "\u001b[0;32m/var/folders/vw/l5yycdjj5mldk_xp8k2qm3ym0000gn/T/ipykernel_71318/3864629426.py\u001b[0m in \u001b[0;36m<module>\u001b[0;34m\u001b[0m\n\u001b[0;32m----> 1\u001b[0;31m \u001b[0mprint\u001b[0m\u001b[0;34m(\u001b[0m\u001b[0ma\u001b[0m \u001b[0;34m+\u001b[0m \u001b[0mb\u001b[0m\u001b[0;34m)\u001b[0m\u001b[0;34m\u001b[0m\u001b[0;34m\u001b[0m\u001b[0m\n\u001b[0m",
      "\u001b[0;31mTypeError\u001b[0m: unsupported operand type(s) for +: 'int' and 'str'"
     ]
    }
   ],
   "source": [
    "# print(a + b)\n",
    "# Operations can't be performed on integers and string. Yo will get an error"
   ]
  },
  {
   "attachments": {},
   "cell_type": "markdown",
   "id": "a873812d",
   "metadata": {},
   "source": [
    "## LISTS\n",
    "Collection of values, separated by commas and enclosed in a square bracket. They are ordered and changeable. A list can contain different types of variables"
   ]
  },
  {
   "cell_type": "code",
   "execution_count": 13,
   "id": "b36259e5",
   "metadata": {},
   "outputs": [
    {
     "name": "stdout",
     "output_type": "stream",
     "text": [
      "['girl', 5, 5.0, True] <class 'list'> 4\n"
     ]
    },
    {
     "ename": "TypeError",
     "evalue": "'list' object is not callable",
     "output_type": "error",
     "traceback": [
      "\u001b[0;31m---------------------------------------------------------------------------\u001b[0m",
      "\u001b[0;31mTypeError\u001b[0m                                 Traceback (most recent call last)",
      "\u001b[0;32m/var/folders/vw/l5yycdjj5mldk_xp8k2qm3ym0000gn/T/ipykernel_71318/2603086754.py\u001b[0m in \u001b[0;36m<module>\u001b[0;34m\u001b[0m\n\u001b[1;32m      1\u001b[0m \u001b[0mx\u001b[0m \u001b[0;34m=\u001b[0m \u001b[0;34m[\u001b[0m\u001b[0;34m'girl'\u001b[0m\u001b[0;34m,\u001b[0m \u001b[0;36m5\u001b[0m\u001b[0;34m,\u001b[0m \u001b[0;36m5.0\u001b[0m\u001b[0;34m,\u001b[0m \u001b[0;32mTrue\u001b[0m\u001b[0;34m]\u001b[0m\u001b[0;34m\u001b[0m\u001b[0;34m\u001b[0m\u001b[0m\n\u001b[1;32m      2\u001b[0m \u001b[0mprint\u001b[0m\u001b[0;34m(\u001b[0m\u001b[0mx\u001b[0m\u001b[0;34m,\u001b[0m \u001b[0mtype\u001b[0m\u001b[0;34m(\u001b[0m\u001b[0mx\u001b[0m\u001b[0;34m)\u001b[0m\u001b[0;34m,\u001b[0m\u001b[0mlen\u001b[0m\u001b[0;34m(\u001b[0m\u001b[0mx\u001b[0m\u001b[0;34m)\u001b[0m\u001b[0;34m)\u001b[0m\u001b[0;34m\u001b[0m\u001b[0;34m\u001b[0m\u001b[0m\n\u001b[0;32m----> 3\u001b[0;31m \u001b[0mx\u001b[0m\u001b[0;34m(\u001b[0m\u001b[0;36m2\u001b[0m\u001b[0;34m)\u001b[0m\u001b[0;34m\u001b[0m\u001b[0;34m\u001b[0m\u001b[0m\n\u001b[0m",
      "\u001b[0;31mTypeError\u001b[0m: 'list' object is not callable"
     ]
    }
   ],
   "source": [
    "x = ['girl', 5, 5.0, True]\n",
    "print(x, type(x),len(x))"
   ]
  },
  {
   "cell_type": "code",
   "execution_count": 18,
   "id": "81511382",
   "metadata": {},
   "outputs": [
    {
     "name": "stdout",
     "output_type": "stream",
     "text": [
      "['girl', 5, 'boy', True, 2, 2, 2, 2, 2]\n",
      "['girl', 5, 'boy', True, 2, 2, 2, 2, 2]\n",
      "['girl', 5, 'boy', True, 2, 2, 2, 2, 2, 8, 'apple', 'pink', False] <class 'list'> 13\n",
      "['girl', 5, 'boy', True, 2, 2, 2, 2, 2, 5, 8]\n"
     ]
    }
   ],
   "source": [
    "# add elements in a list\n",
    "x.append(2)\n",
    "print(x)\n",
    "\n",
    "# Replace elements in the list\n",
    "x[2] = \"boy\"\n",
    "print(x)\n",
    "\n",
    "#perform operations\n",
    "\n",
    "y =[8, \"apple\" , \"pink\",False]\n",
    "print(x+y,type(x+y), len(x+y))\n",
    "\n",
    "x = x + [5,8] # this is dope i didn't know this #you can use this also to add elements\n",
    "\n",
    "print(x)"
   ]
  },
  {
   "cell_type": "code",
   "execution_count": 19,
   "id": "ea6a29ea",
   "metadata": {},
   "outputs": [
    {
     "data": {
      "text/plain": [
       "['girl', 5, 'boy', True, 2, 2, 2, 2, 2, 5, 8]"
      ]
     },
     "execution_count": 19,
     "metadata": {},
     "output_type": "execute_result"
    }
   ],
   "source": [
    "x"
   ]
  },
  {
   "cell_type": "markdown",
   "id": "7d107a8c",
   "metadata": {},
   "source": [
    "## Tuples\n",
    "They are similar to list but the values never change and they are enclosed in round brackets"
   ]
  },
  {
   "cell_type": "code",
   "execution_count": 22,
   "id": "bf18eac7",
   "metadata": {},
   "outputs": [
    {
     "name": "stdout",
     "output_type": "stream",
     "text": [
      "(1, 2, 3, 'boy') <class 'tuple'>\n",
      "(1, 2, 3, 'boy', 4, 4, False) 7\n"
     ]
    }
   ],
   "source": [
    "#creating a tuple\n",
    "\n",
    "x = (1,2,3, \"boy\")\n",
    "print (x,type(x))\n",
    "\n",
    "#add elements to it - prints an error : AttributeError: 'tuple' object has no attribute 'append'\n",
    "#x.append(\"girl\")\n",
    "#print(x) \n",
    "x = x + (4,4,False)\n",
    "print(x,len(x))"
   ]
  },
  {
   "cell_type": "code",
   "execution_count": 26,
   "id": "88677962",
   "metadata": {},
   "outputs": [
    {
     "data": {
      "text/plain": [
       "(1, 2, 3, 'boy', 4, 4, False, 2, 4)"
      ]
     },
     "execution_count": 26,
     "metadata": {},
     "output_type": "execute_result"
    }
   ],
   "source": [
    "#perform an operation\n",
    "y = (2,4)\n",
    "x = x + y\n",
    "x"
   ]
  },
  {
   "cell_type": "code",
   "execution_count": 25,
   "id": "24f87d70",
   "metadata": {},
   "outputs": [
    {
     "data": {
      "text/plain": [
       "(1, 2, 3, 'boy', 4, 4, False, 2, 4)"
      ]
     },
     "execution_count": 25,
     "metadata": {},
     "output_type": "execute_result"
    }
   ],
   "source": [
    "# try to change an element(error is raised - TypeError: 'tuple' object does not support item assignment)\n",
    "#x[2] = 4\n",
    "\n"
   ]
  },
  {
   "cell_type": "markdown",
   "id": "94f4b9e6",
   "metadata": {},
   "source": []
  },
  {
   "cell_type": "markdown",
   "id": "9af8bce4",
   "metadata": {},
   "source": [
    "## Sets\n",
    "Collections of data that are unordered and changeable (mutable). EVery item in a set is unique ant not repeatable"
   ]
  },
  {
   "cell_type": "code",
   "execution_count": 56,
   "id": "b063fe46",
   "metadata": {},
   "outputs": [
    {
     "name": "stdout",
     "output_type": "stream",
     "text": [
      "{'l', 'a', 'w', 'i', 'n', 'e', ' ', 'T'}\n",
      "{'l', 'a', 'w', 'i', 'n', 'e', ' ', 'T'} 8\n"
     ]
    },
    {
     "ename": "TypeError",
     "evalue": "'set' object is not subscriptable",
     "output_type": "error",
     "traceback": [
      "\u001b[0;31m---------------------------------------------------------------------------\u001b[0m",
      "\u001b[0;31mTypeError\u001b[0m                                 Traceback (most recent call last)",
      "\u001b[0;32m/var/folders/vw/l5yycdjj5mldk_xp8k2qm3ym0000gn/T/ipykernel_71318/839909862.py\u001b[0m in \u001b[0;36m<module>\u001b[0;34m\u001b[0m\n\u001b[1;32m      5\u001b[0m \u001b[0mprint\u001b[0m\u001b[0;34m(\u001b[0m\u001b[0mset\u001b[0m\u001b[0;34m(\u001b[0m\u001b[0mtext\u001b[0m\u001b[0;34m)\u001b[0m\u001b[0;34m,\u001b[0m \u001b[0mlen\u001b[0m\u001b[0;34m(\u001b[0m\u001b[0mset\u001b[0m\u001b[0;34m(\u001b[0m\u001b[0mtext\u001b[0m\u001b[0;34m)\u001b[0m\u001b[0;34m)\u001b[0m\u001b[0;34m)\u001b[0m \u001b[0;31m#even prints space lol\u001b[0m\u001b[0;34m\u001b[0m\u001b[0;34m\u001b[0m\u001b[0m\n\u001b[1;32m      6\u001b[0m \u001b[0ma\u001b[0m \u001b[0;34m=\u001b[0m \u001b[0mset\u001b[0m\u001b[0;34m(\u001b[0m\u001b[0mtext\u001b[0m\u001b[0;34m)\u001b[0m\u001b[0;34m\u001b[0m\u001b[0;34m\u001b[0m\u001b[0m\n\u001b[0;32m----> 7\u001b[0;31m \u001b[0ma\u001b[0m \u001b[0;34m[\u001b[0m\u001b[0;36m2\u001b[0m\u001b[0;34m]\u001b[0m\u001b[0;34m\u001b[0m\u001b[0;34m\u001b[0m\u001b[0m\n\u001b[0m",
      "\u001b[0;31mTypeError\u001b[0m: 'set' object is not subscriptable"
     ]
    }
   ],
   "source": [
    "#sets \n",
    "#to access or store an element you need to use the set command\n",
    "text = \"Till we all win\"\n",
    "print(set(text)) #it takes the unique identifiers in the sentence and stored in a curly bracket. As you can see, it's unorded, the results doesn't start with T even though the sentence does\n",
    "print(set(text), len(set(text))) #even prints space lol\n",
    "a = set(text)\n",
    "# a [2] ( you will get an error because set objects are not indexable)"
   ]
  },
  {
   "attachments": {},
   "cell_type": "markdown",
   "id": "2d464689",
   "metadata": {},
   "source": [
    "## Indexing\n",
    "Indexing and slicing allows once to access elements from a list. Index can be positive or negative.\n",
    "Positive index accesses the first element in the data set and starts from 0.\n",
    "Negative index accesses the last element in the data set and starts from -1.\n"
   ]
  },
  {
   "cell_type": "code",
   "execution_count": 41,
   "id": "6f810f94",
   "metadata": {},
   "outputs": [
    {
     "name": "stdout",
     "output_type": "stream",
     "text": [
      "x[0]:  1\n",
      "x[-3]: 1\n",
      "x[1]: 2\n",
      "x[-2]: 2\n",
      "x[2]: 3\n",
      "x[-1]: 3\n"
     ]
    },
    {
     "data": {
      "text/plain": [
       "list"
      ]
     },
     "execution_count": 41,
     "metadata": {},
     "output_type": "execute_result"
    }
   ],
   "source": [
    "x = [1,2,3]\n",
    "#Indexing\n",
    "\n",
    "print(\"x[0]: \", x[0]) #the first item in the list\n",
    "print(\"x[-3]:\", x[-3])#the first item in the list\n",
    "print(\"x[1]:\", x[1]) #the second item in the list\n",
    "print(\"x[-2]:\", x[-2] )#the second item in the list\n",
    "print(\"x[2]:\", x[2])#the last item in the list\n",
    "print(\"x[-1]:\", x[-1] )#the last item in the list\n",
    "type(x)"
   ]
  },
  {
   "cell_type": "code",
   "execution_count": 42,
   "id": "a0383a4e",
   "metadata": {},
   "outputs": [
    {
     "name": "stdout",
     "output_type": "stream",
     "text": [
      "x[:]:  [1, 2, 3]\n",
      "x[1:]:  [2, 3]\n",
      "x[1:2]:  [2]\n",
      "x[:-1]:  [1, 2]\n"
     ]
    }
   ],
   "source": [
    "# Slicing\n",
    "\n",
    "print (\"x[:]: \", x[:]) # all indices\n",
    "print (\"x[1:]: \", x[1:]) # index 1 to the end of the list\n",
    "print (\"x[1:2]: \", x[1:2]) # index 1 to index 2 (not including index 2)\n",
    "print (\"x[:-1]: \", x[:-1]) # index 0 to last index (not including last index)\n"
   ]
  },
  {
   "cell_type": "code",
   "execution_count": 43,
   "id": "a77844f6",
   "metadata": {},
   "outputs": [
    {
     "name": "stdout",
     "output_type": "stream",
     "text": [
      "[1, 2, 3] 3\n"
     ]
    }
   ],
   "source": [
    "#What happens if we try to index beyond the length of a list?\n",
    "x=[1,2,3]\n",
    "print(x[:100],len(x[:100]))\n",
    "\n",
    "#it produces results and only gives the data available. This is not good practise. It's advisable to always use the length of the list/data"
   ]
  },
  {
   "cell_type": "markdown",
   "id": "78262d9e",
   "metadata": {},
   "source": [
    "## Dictionaries\n",
    "Always been pretty difficult to understand.\n",
    "Dictionaries are similar to set (unique identifiers) but contain a key-value pair.\n",
    "Dictionaries are an unordered, mutable collection of key-value pairs. You can retrieve values based on the key and a dictionary cannot have two of the same keys.\n",
    "\n",
    "\n"
   ]
  },
  {
   "cell_type": "code",
   "execution_count": 45,
   "id": "2276770e",
   "metadata": {},
   "outputs": [
    {
     "name": "stdout",
     "output_type": "stream",
     "text": [
      "Barbara\n",
      "7\n",
      "black\n"
     ]
    }
   ],
   "source": [
    "## creating a dictionary \n",
    "\n",
    "person ={\"name\" : \"Barbara\", \"color\" : \"black\", \"age\" : 7}\n",
    "person\n",
    "print(person[\"name\"])\n",
    "print(person[\"age\"])\n",
    "print (person[\"color\"])"
   ]
  },
  {
   "cell_type": "code",
   "execution_count": 51,
   "id": "2f874f82",
   "metadata": {},
   "outputs": [
    {
     "name": "stdout",
     "output_type": "stream",
     "text": [
      "20\n",
      "{'name': 'Barbara', 'color': 'black', 'age': 20, 'no_children': 2}\n"
     ]
    },
    {
     "data": {
      "text/plain": [
       "4"
      ]
     },
     "execution_count": 51,
     "metadata": {},
     "output_type": "execute_result"
    }
   ],
   "source": [
    "#changing the value of a key\n",
    "person[\"age\"] = 20\n",
    "print(person[\"age\"])\n",
    "person\n",
    "\n",
    "#adding new key-value pair\n",
    "person[\"no_children\"] =2\n",
    "print(person)\n",
    "\n",
    "len(person)"
   ]
  },
  {
   "cell_type": "code",
   "execution_count": 58,
   "id": "233f63e7",
   "metadata": {},
   "outputs": [
    {
     "name": "stdout",
     "output_type": "stream",
     "text": [
      "{'name': 'Ama', 'job': 'student ', 'age': '30 '}\n",
      "<built-in method items of dict object at 0x7fa1f8a23a40>\n"
     ]
    }
   ],
   "source": [
    "## Dictionary key-value pair are not ordered. It's possible to order then using the library OrderedDict\n",
    "\n",
    "from collections import OrderedDict\n",
    "\n",
    "#creating an empty library\n",
    "d = { }\n",
    "\n",
    "#adding key-value pairs\n",
    "d[\"name\"]  = \"Ama\"\n",
    "d[\"job\"] = \"student \"\n",
    "d[\"age\"] = \"30 \"\n",
    "\n",
    "print (d)\n",
    "\n"
   ]
  },
  {
   "cell_type": "code",
   "execution_count": 62,
   "id": "8ada8229",
   "metadata": {},
   "outputs": [
    {
     "name": "stdout",
     "output_type": "stream",
     "text": [
      "dict_items([('name', 'Ama'), ('job', 'student '), ('age', '30 ')])\n",
      "OrderedDict([('age', '30 '), ('job', 'student '), ('name', 'Ama')])\n",
      "OrderedDict([('age', '30 '), ('name', 'Ama'), ('job', 'student ')])\n"
     ]
    }
   ],
   "source": [
    "#Dictionary items\n",
    "print(d.items())\n",
    "\n",
    "#Order by Keys\n",
    "print(OrderedDict(sorted(d.items())))\n",
    "\n"
   ]
  },
  {
   "cell_type": "code",
   "execution_count": null,
   "id": "1f9ee6f2",
   "metadata": {},
   "outputs": [],
   "source": [
    "#Order by values\n",
    "print(OrderedDict(sorted(d.items(), key =lambda x:x[1])))"
   ]
  },
  {
   "attachments": {},
   "cell_type": "markdown",
   "id": "4806af61",
   "metadata": {},
   "source": [
    "Explanation of the code\n",
    "\n",
    "sorted(d.items(), key=lambda x:x[1]) sorts the items of the dictionary d based on their values. The items() method returns a list of the dictionary's key-value pairs as tuples. The key argument specifies a function that takes each tuple as input and returns the value to use for sorting. In this case, lambda x:x[1] is a shorthand function that returns the second element of the tuple (x[1]), which is the value.\n",
    "\n",
    "The sorted() function returns a list of the sorted items, which is then used to create a new OrderedDict.\n",
    "\n",
    "OrderedDict() creates a new dictionary object that retains the order of the items as they were added. The sorted items list is passed as an argument to the OrderedDict() constructor, which initializes the new dictionary with the sorted items.\n",
    "\n",
    "Finally, the print() function is used to display the ordered dictionary in the console."
   ]
  },
  {
   "attachments": {},
   "cell_type": "markdown",
   "id": "089e3a31",
   "metadata": {},
   "source": [
    "## Lambda\n",
    "\n",
    "lambda is a keyword in Python used to define anonymous functions. These are small, one-line functions that can be defined without using the def keyword.\n",
    "\n",
    "In the line of code you provided, lambda x:x[1] defines an anonymous function that takes a single argument x and returns the second element of that argument x[1].\n",
    "\n",
    "The purpose of this anonymous function is to tell the sorted() function how to sort the items in the dictionary. Specifically, it's telling sorted() to use the values of the dictionary items for sorting, rather than the keys. The x[1] extracts the value from each tuple of key-value pairs (x), so sorted() sorts the items by their values.\n",
    "\n",
    "Here's an example to illustrate how lambda works:"
   ]
  },
  {
   "cell_type": "code",
   "execution_count": null,
   "id": "e3ecf275",
   "metadata": {},
   "outputs": [],
   "source": [
    "# Define an anonymous function that adds two numbers\n",
    "add = lambda x, y: x + y\n",
    "\n",
    "# Call the anonymous function\n",
    "result = add(3, 5)\n",
    "\n",
    "# Output the result\n",
    "print(result)  # Output: 8\n"
   ]
  },
  {
   "attachments": {},
   "cell_type": "markdown",
   "id": "f41d4a16",
   "metadata": {},
   "source": [
    "In this example, the lambda keyword defines an anonymous function that takes two arguments (x and y) and returns their sum. The add variable is assigned to this anonymous function, and it can be called like any other function. In this case, it's called with arguments 3 and 5, and the result 8 is stored in the result variable."
   ]
  },
  {
   "attachments": {},
   "cell_type": "markdown",
   "id": "24121a87",
   "metadata": {},
   "source": [
    "## Questions\n",
    "\n",
    "1. Why do we need sets? <br>\n",
    "Can be used to find the unique elements in a dataset.Helps to avoid duplicates"
   ]
  },
  {
   "attachments": {},
   "cell_type": "markdown",
   "id": "c8aa86a0",
   "metadata": {},
   "source": [
    "Summary -\n",
    "\n",
    "1. I looked at notebooks and the data structures present in python. There are a number of them but in this session I looked at ,<br>\n",
    "-  Lists [ ] - ordered, mutuable, indexable but not unique\n",
    "-  Tuple ( ) - ordered, **UNCHANGEABLE/NOT MUTABLE** , indexable and not unique\n",
    "- Sets { } - unordered, mutuable,  **UNIQUE** and **NOT INDEXABLE**\n",
    "- Dictionaries { } - unordered, mutuable,  **keys are UNIQUE, values are not unique** and **NOT INDEXABLE**\n"
   ]
  },
  {
   "cell_type": "markdown",
   "id": "0b45eee1",
   "metadata": {},
   "source": []
  }
 ],
 "metadata": {
  "kernelspec": {
   "display_name": "base",
   "language": "python",
   "name": "python3"
  },
  "language_info": {
   "codemirror_mode": {
    "name": "ipython",
    "version": 3
   },
   "file_extension": ".py",
   "mimetype": "text/x-python",
   "name": "python",
   "nbconvert_exporter": "python",
   "pygments_lexer": "ipython3",
   "version": "3.9.12"
  },
  "vscode": {
   "interpreter": {
    "hash": "02ffa660b6f6d9be8cca427b74bc9cb87fea4b28c9e17012788bc534d238c364"
   }
  }
 },
 "nbformat": 4,
 "nbformat_minor": 5
}
