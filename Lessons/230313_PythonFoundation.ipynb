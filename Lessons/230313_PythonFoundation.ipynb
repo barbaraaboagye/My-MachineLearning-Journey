{
 "cells": [
  {
   "cell_type": "markdown",
   "id": "886467ac-de7e-46bc-a55e-6fd21277147b",
   "metadata": {},
   "source": [
    "<div align=\"center\">\n",
    "    <h1> My Machine Learning Journey</h1>\n",
    "Civl Engineer · Researcher Youtuber · Machine Learning Engineer (The Goal)\n",
    "    <br>\n",
    "    Sharing and documenting my progress and journey as I learn machine learning\n",
    "     <br>\n",
    "</div>\n",
    "\n",
    "<br>\n",
    "\n",
    "<div align=\"center\">\n",
    "    <a target=\"_blank\" href=\"https://github.com/barbaraaboagye/My-MachineLearning-Journey\"><img src=\"https://img.shields.io/github/last-commit/barbaraaboagye/My-MachineLearning-Journey\"></a>&nbsp;\n",
    "      <a target=\"_blank\" href=\"https://www.youtube.com/channel/UCEYKFq7ZEg81GYxpzNqYZ4)\"><img src=\"https://img.shields.io/youtube/channel/subscribers/UCEYKFq7ZEg81GYxpzNqYZ4Q?style=social\"></a>&nbsp;\n",
    "    <a target=\"_blank\" href=\"https://fr.linkedin.com/in/barbara-aboagye-233ba8133\"><img src=\"https://img.shields.io/badge/style--5eba00.svg?label=LinkedIn&logo=linkedin&style=social\"></a>&nbsp;\n",
    "    <a target=\"_blank\" href=\"https://twitter.com/awesome_ama\"><img src=\"https://img.shields.io/twitter/follow/awesome_ama?style=social\"></a>\n",
    "    <br>\n",
    "</div>\n",
    "\n",
    "<br>"
   ]
  },
  {
   "attachments": {},
   "cell_type": "markdown",
   "id": "45b714aa-02f9-45ac-b2bf-e83b34b0c093",
   "metadata": {
    "jp-MarkdownHeadingCollapsed": true,
    "tags": []
   },
   "source": [
    "# Topic - Day x of x\n",
    "\n",
    "This is the template I will use to document my journey.  <br>\n",
    "Date : 13 March,2023 <br>\n",
    "Hours spent : 1 hour <br>\n"
   ]
  },
  {
   "attachments": {},
   "cell_type": "markdown",
   "id": "39e4c6e7-9871-4211-8c4e-94bc180dc5f4",
   "metadata": {
    "jp-MarkdownHeadingCollapsed": true,
    "tags": []
   },
   "source": [
    "# Resources used : \n",
    "\n",
    "- [Foundation- Python](https://madewithml.com/courses/foundations/python/)\n",
    "<br>\n",
    " Handwritten notes can be found [here](https://github.com/barbaraaboagye/My-MachineLearning-Journey/blob/0142c1f7bf82021e90efe1b3f2387be6506f05e9/Handwritten%20notes/230313_PythonFoundation.pdf)
    [here](https://github.com/barbaraaboagye/My-MachineLearning-Journey/blob/0142c1f7bf82021e90efe1b3f2387be6506f05e9/Handwritten%20notes/230313_PythonFoundation.pdf)"
   ]
  },
  {
   "attachments": {},
   "cell_type": "markdown",
   "id": "3ed00561",
   "metadata": {},
   "source": [
    "# IF STATEMENT\n",
    "Used for conditions. Syntax use <br>\n",
    "   \n",
    "**if condition** : <br>\n",
    "    something happens <br>\n",
    "**elif condition** : <br>\n",
    "    something happens <br>\n",
    "**elif condition** : <br>\n",
    "    something happens <br>\n",
    "**else**:<br>\n",
    "    something happens<br>"
   ]
  },
  {
   "cell_type": "code",
   "execution_count": 15,
   "id": "646feb4e",
   "metadata": {},
   "outputs": [
    {
     "name": "stdout",
     "output_type": "stream",
     "text": [
      "Pass\n"
     ]
    }
   ],
   "source": [
    "## IF STATAMENT\n",
    "\n",
    "# KNUST GRADING SYSTEM\n",
    "\n",
    "x = 30\n",
    "\n",
    "if x >= 70 :\n",
    "    grade = \"First class\"\n",
    "elif x >= 60:\n",
    "    grade = \"Second class upper\"\n",
    "elif x>= 59 :\n",
    "    grade = \"Second class lower\"\n",
    "else :\n",
    "    grade = \"Pass\"\n",
    "\n",
    "print (grade)"
   ]
  },
  {
   "cell_type": "markdown",
   "id": "47fc72f1",
   "metadata": {},
   "source": [
    "## LOOPS \n",
    "Used to iterate through lists, tuple, sets, dictionaries, etc\n",
    "\n",
    "Can be either for or while loops"
   ]
  },
  {
   "cell_type": "code",
   "execution_count": 16,
   "id": "f22dea65",
   "metadata": {},
   "outputs": [
    {
     "name": "stdout",
     "output_type": "stream",
     "text": [
      "tomatoes\n",
      "onions\n",
      "mushrooms\n"
     ]
    }
   ],
   "source": [
    "# For loops\n",
    "\n",
    "vegetables = [\"tomatoes\", \"onions\", \"mushrooms\"]\n",
    "\n",
    "for veggies in vegetables :\n",
    "    print (veggies)\n"
   ]
  },
  {
   "attachments": {},
   "cell_type": "markdown",
   "id": "1f5c1b33",
   "metadata": {},
   "source": [
    "**break** : when the loop encounters the break command. It stops. Other items in the list will not be presented.\n",
    "💡 Foor loop can be used to search for items in a list and take them out"
   ]
  },
  {
   "cell_type": "code",
   "execution_count": 17,
   "id": "574afdb0",
   "metadata": {},
   "outputs": [
    {
     "name": "stdout",
     "output_type": "stream",
     "text": [
      "tomatoes\n"
     ]
    }
   ],
   "source": [
    "vegetables = [\"tomatoes\", \"onions\", \"mushrooms\"]\n",
    "\n",
    "for veggies in vegetables :\n",
    "    if veggies == \"onions\" :\n",
    "        break\n",
    "    print (veggies) # only items before tomatoes are printed"
   ]
  },
  {
   "attachments": {},
   "cell_type": "markdown",
   "id": "58b7c196",
   "metadata": {},
   "source": [
    "**continue** : When the loop encounters the continue command, the loop will skip all other operations for that item in the list only. If there were more items in the list, the loop will continue normally.\n"
   ]
  },
  {
   "cell_type": "code",
   "execution_count": 18,
   "id": "b22124bd",
   "metadata": {},
   "outputs": [
    {
     "name": "stdout",
     "output_type": "stream",
     "text": [
      "tomatoes\n",
      "mushrooms\n"
     ]
    }
   ],
   "source": [
    "egetables = [\"tomatoes\", \"onions\", \"mushrooms\"]\n",
    "\n",
    "for veggies in vegetables :\n",
    "    if veggies == \"onions\" :\n",
    "       continue\n",
    "    print (veggies) #onions are skipped"
   ]
  },
  {
   "attachments": {},
   "cell_type": "markdown",
   "id": "57fe0378",
   "metadata": {},
   "source": [
    "## While loop\n",
    "\n",
    "The loop continues to run as far as the condition stays true. The *continue* and *break* command can still be used in a while loop"
   ]
  },
  {
   "cell_type": "code",
   "execution_count": 19,
   "id": "71aeab7b",
   "metadata": {},
   "outputs": [
    {
     "name": "stdout",
     "output_type": "stream",
     "text": [
      "2\n",
      "1\n",
      "0\n"
     ]
    }
   ],
   "source": [
    "# While loop\n",
    "x = 3\n",
    "\n",
    "while x > 0 :\n",
    "    x = x - 1 #same as x-=1\n",
    "    print (x)"
   ]
  },
  {
   "attachments": {},
   "cell_type": "markdown",
   "id": "129f5ede",
   "metadata": {},
   "source": [
    "### List Comprehensions\n",
    "\n",
    "Knowledge of list and loops are combined to leverage list comprehension to create succint code. List comprehensions are **nested for loops**"
   ]
  },
  {
   "cell_type": "code",
   "execution_count": 20,
   "id": "859189c1",
   "metadata": {},
   "outputs": [
    {
     "name": "stdout",
     "output_type": "stream",
     "text": [
      "[3, 4, 5]\n"
     ]
    }
   ],
   "source": [
    "# For loop\n",
    "x = [1, 2, 3, 4, 5]\n",
    "y = []\n",
    "\n",
    "for item in x:\n",
    "    if item > 2:\n",
    "        y.append(item)\n",
    "print (y)"
   ]
  },
  {
   "cell_type": "code",
   "execution_count": 21,
   "id": "4e83e59b",
   "metadata": {},
   "outputs": [
    {
     "name": "stdout",
     "output_type": "stream",
     "text": [
      "[3, 4, 5]\n"
     ]
    }
   ],
   "source": [
    "# List comprehension\n",
    "\n",
    "y = [item for item in x if item > 2]\n",
    "print (y)\n",
    "\n",
    "#They are straightforward and they are like copying the nested for loops from top to button"
   ]
  },
  {
   "attachments": {},
   "cell_type": "markdown",
   "id": "abe9c426",
   "metadata": {},
   "source": [
    "## Questions\n",
    "\n",
    "1. When is a while and for loop used ? <br>"
   ]
  },
  {
   "cell_type": "markdown",
   "id": "7dba4a19",
   "metadata": {},
   "source": []
  }
 ],
 "metadata": {
  "kernelspec": {
   "display_name": "base",
   "language": "python",
   "name": "python3"
  },
  "language_info": {
   "codemirror_mode": {
    "name": "ipython",
    "version": 3
   },
   "file_extension": ".py",
   "mimetype": "text/x-python",
   "name": "python",
   "nbconvert_exporter": "python",
   "pygments_lexer": "ipython3",
   "version": "3.9.12"
  },
  "vscode": {
   "interpreter": {
    "hash": "02ffa660b6f6d9be8cca427b74bc9cb87fea4b28c9e17012788bc534d238c364"
   }
  }
 },
 "nbformat": 4,
 "nbformat_minor": 5
}
