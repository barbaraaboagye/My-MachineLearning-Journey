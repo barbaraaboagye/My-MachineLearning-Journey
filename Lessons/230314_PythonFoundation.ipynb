{
 "cells": [
  {
   "cell_type": "markdown",
   "id": "886467ac-de7e-46bc-a55e-6fd21277147b",
   "metadata": {},
   "source": [
    "<div align=\"center\">\n",
    "    <h1> My Machine Learning Journey</h1>\n",
    "Civl Engineer · Researcher Youtuber · Machine Learning Engineer (The Goal)\n",
    "    <br>\n",
    "    Sharing and documenting my progress and journey as I learn machine learning\n",
    "     <br>\n",
    "</div>\n",
    "\n",
    "<br>\n",
    "\n",
    "<div align=\"center\">\n",
    "    <a target=\"_blank\" href=\"https://github.com/barbaraaboagye/My-MachineLearning-Journey\"><img src=\"https://img.shields.io/github/last-commit/barbaraaboagye/My-MachineLearning-Journey\"></a>&nbsp;\n",
    "      <a target=\"_blank\" href=\"https://www.youtube.com/channel/UCEYKFq7ZEg81GYxpzNqYZ4)\"><img src=\"https://img.shields.io/youtube/channel/subscribers/UCEYKFq7ZEg81GYxpzNqYZ4Q?style=social\"></a>&nbsp;\n",
    "    <a target=\"_blank\" href=\"https://fr.linkedin.com/in/barbara-aboagye-233ba8133\"><img src=\"https://img.shields.io/badge/style--5eba00.svg?label=LinkedIn&logo=linkedin&style=social\"></a>&nbsp;\n",
    "    <a target=\"_blank\" href=\"https://twitter.com/awesome_ama\"><img src=\"https://img.shields.io/twitter/follow/awesome_ama?style=social\"></a>\n",
    "    <br>\n",
    "</div>\n",
    "\n",
    "<br>"
   ]
  },
  {
   "attachments": {},
   "cell_type": "markdown",
   "id": "45b714aa-02f9-45ac-b2bf-e83b34b0c093",
   "metadata": {
    "jp-MarkdownHeadingCollapsed": true,
    "tags": []
   },
   "source": [
    "# Functions et al - Day x of x\n",
    "\n",
    "Date : 14th March,2023 <br>\n",
    "Hours completed: 1 hour <br>\n",
    " <br>\n"
   ]
  },
  {
   "attachments": {},
   "cell_type": "markdown",
   "id": "39e4c6e7-9871-4211-8c4e-94bc180dc5f4",
   "metadata": {
    "jp-MarkdownHeadingCollapsed": true,
    "tags": []
   },
   "source": [
    "# Resources used : \n",
    "\n",
    "- [Foundation- Python](https://madewithml.com/courses/foundations/python/)\n",
    "<br>\n",
    " Handwritten notes can be found [here](https://github.com/barbaraaboagye/My-MachineLearning-Journey/blob/65e57a8f631356f0a161f98a54e2e26d80e33684/Handwritten%20notes/230314_PythonFoundation.pdf)"
   ]
  },
  {
   "attachments": {},
   "cell_type": "markdown",
   "id": "35d6a778",
   "metadata": {},
   "source": [
    "## Functions\n",
    "\n",
    "They allow one to re-use a code several times. The syntax is *def* which means definition. Then the name of the function and the input parameters. Then you explain what that function should do when called"
   ]
  },
  {
   "cell_type": "code",
   "execution_count": 7,
   "id": "2eb99f49",
   "metadata": {},
   "outputs": [
    {
     "data": {
      "text/plain": [
       "16"
      ]
     },
     "execution_count": 7,
     "metadata": {},
     "output_type": "execute_result"
    }
   ],
   "source": [
    "def add_three (x):\n",
    "    \" \" \"Increase x by 3\" \" \"\n",
    "    x+=3\n",
    "    return x\n",
    "\n",
    "score = 5\n",
    "\n",
    "new_score = add_three(x = score) + add_three(x=score) # one can perform operations on score\n",
    "new_score"
   ]
  },
  {
   "cell_type": "code",
   "execution_count": 11,
   "id": "d1ef4155",
   "metadata": {},
   "outputs": [
    {
     "data": {
      "text/plain": [
       "'Barbara Aboagye'"
      ]
     },
     "execution_count": 11,
     "metadata": {},
     "output_type": "execute_result"
    }
   ],
   "source": [
    "### Function with multiple inputs and outputs\n",
    "\n",
    "def combine_name(first_name, last_name):\n",
    "    \" \" \" Combine first and last name \" \" \"\n",
    "    full_name = first_name + \" \" + last_name\n",
    "    return full_name\n",
    "\n",
    "# Use the function\n",
    "first_name = \"Barbara\"\n",
    "last_name = \"Aboagye\"\n",
    "\n",
    "combine_name (first_name = first_name, last_name = last_name)\n"
   ]
  },
  {
   "attachments": {},
   "cell_type": "markdown",
   "id": "ea00fdf9",
   "metadata": {},
   "source": [
    "### Positional and keyword argument\n",
    "It's good practice to always use keyword argument (*kwargs*) when using a function so that it's very clear what input variable belongs to what function input parameter. On a related note, you will often see the terms *args and **kwargs which stand for arguments and keyword arguments. You can extract them when they are passed into a function. The significance of the * is that any number of arguments and keyword arguments can be passed into the function. <br>\n",
    "\n",
    "Positional arguments are passed in the order that the parameters are defined in the function. For example, if you have a function add_numbers(a, b) that adds two numbers together, you can call it with positional arguments like this: add_numbers(3, 5). In this case, 3 will be assigned to the parameter a, and 5 will be assigned to the parameter b.\n",
    "\n",
    "Keyword arguments, on the other hand, are passed with a label or name of the parameter that they correspond to. For example, you could call the same add_numbers function using keyword arguments like this: add_numbers(a=3, b=5). Here, 3 is assigned to the a parameter and 5 is assigned to the b parameter.\n",
    "\n",
    "Keyword arguments are useful when a function has many parameters or when you want to make it clear which value corresponds to which parameter. Also, you can use positional arguments and keyword arguments together in a single function call.\n",
    "\n",
    "In summary, positional arguments are passed in the order that the parameters are defined in the function, while keyword arguments are passed with the parameter names.\n",
    "\n",
    "### Syntax : *args, **kwargs\n",
    "\n",
    "In Python, *args and **kwargs are special syntax that allow a function to accept an arbitrary number of arguments.\n",
    "\n",
    "*args is used to pass a variable number of positional arguments to a function. When you use *args in the function definition, it tells Python to collect any additional positional arguments beyond the ones that have already been specified in the parameter list, and pack them into a tuple. Here's an example:\n",
    "\n"
   ]
  },
  {
   "cell_type": "code",
   "execution_count": 15,
   "id": "8cbd08fb",
   "metadata": {},
   "outputs": [
    {
     "name": "stdout",
     "output_type": "stream",
     "text": [
      "1\n",
      "2\n",
      "3\n",
      "hello\n"
     ]
    }
   ],
   "source": [
    "## *args example\n",
    "\n",
    "def my_func(*args):\n",
    "    for arg in args:\n",
    "        print(arg)\n",
    "\n",
    "my_func(1, 2, 3, \"hello\")\n",
    "\n",
    "#In this example, the my_func function takes in any number of positional arguments and then prints them out one by one."
   ]
  },
  {
   "cell_type": "code",
   "execution_count": 16,
   "id": "01e50d5d",
   "metadata": {},
   "outputs": [
    {
     "name": "stdout",
     "output_type": "stream",
     "text": [
      "a  1\n",
      "b  2\n",
      "c  hello\n"
     ]
    }
   ],
   "source": [
    "# **kwargs example\n",
    "def my_func(**kwargs) :\n",
    "    for key,value in kwargs.items():\n",
    "        print(f\"{key}  {value}\")\n",
    "\n",
    "my_func(a=1, b=2, c=\"hello\")\n",
    "\n",
    "#In this example, the my_func function takes in any number of keyword arguments and then prints out each key-value pair in the dictionary."
   ]
  },
  {
   "cell_type": "code",
   "execution_count": 30,
   "id": "1407eb67",
   "metadata": {},
   "outputs": [
    {
     "name": "stdout",
     "output_type": "stream",
     "text": [
      "1\n",
      "2\n",
      "3\n",
      "hello\n",
      "a  1\n",
      "b  2\n",
      "c  hello\n"
     ]
    }
   ],
   "source": [
    "# Combined example\n",
    "def my_func(*args, **kwargs):\n",
    "    for arg in args:\n",
    "        print(arg)\n",
    "    for key,value in kwargs.items(): \n",
    "        print(f\"{key}  {value}\")\n",
    "\n",
    "my_func(1, 2, 3, \"hello\",a=1, b=2, c=\"hello\")"
   ]
  },
  {
   "cell_type": "code",
   "execution_count": 29,
   "id": "2848d7f4",
   "metadata": {},
   "outputs": [
    {
     "name": "stdout",
     "output_type": "stream",
     "text": [
      "x: 10, y: 40, z : hello\n",
      "x: (5, 4, 6, 7), y: 40, z : hello\n"
     ]
    }
   ],
   "source": [
    "# Combined example\n",
    "# You can use *args and **kwargs together in the same function definition, \n",
    "# and they will work together to allow you to accept any combination of positional and keyword arguments\n",
    "\n",
    "def f(*args, **kwargs):\n",
    "    x = args[0]\n",
    "    y = kwargs.get(\"y\")\n",
    "    z = kwargs.get(\"z\")\n",
    "    print (f\"x: {x}, y: {y}, z : {z}\")\n",
    "\n",
    "x = 10,20,30\n",
    "y= (2,3)\n",
    "\n",
    "f(10, 20, 30, y=40, z=\"hello\")\n",
    "f (x, y=40, z=\"hello\") \n",
    "#x is assigned to a tuple containing the values 10, 20, 30\n",
    "#When the function f is called with x as the first argument, the entire tuple (5, 4, 6, 7) \n",
    "# is passed as a single positional argument and will be stored in the args tuple.\n",
    "# y and z are passed as keyword arguments"
   ]
  },
  {
   "cell_type": "code",
   "execution_count": null,
   "id": "1f6dff66",
   "metadata": {},
   "outputs": [],
   "source": []
  }
 ],
 "metadata": {
  "kernelspec": {
   "display_name": "base",
   "language": "python",
   "name": "python3"
  },
  "language_info": {
   "codemirror_mode": {
    "name": "ipython",
    "version": 3
   },
   "file_extension": ".py",
   "mimetype": "text/x-python",
   "name": "python",
   "nbconvert_exporter": "python",
   "pygments_lexer": "ipython3",
   "version": "3.9.12"
  },
  "vscode": {
   "interpreter": {
    "hash": "02ffa660b6f6d9be8cca427b74bc9cb87fea4b28c9e17012788bc534d238c364"
   }
  }
 },
 "nbformat": 4,
 "nbformat_minor": 5
}
