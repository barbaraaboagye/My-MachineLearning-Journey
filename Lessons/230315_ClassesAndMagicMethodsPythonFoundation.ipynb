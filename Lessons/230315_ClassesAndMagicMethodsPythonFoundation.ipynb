{
 "cells": [
  {
   "cell_type": "markdown",
   "id": "886467ac-de7e-46bc-a55e-6fd21277147b",
   "metadata": {},
   "source": [
    "<div align=\"center\">\n",
    "    <h1> My Machine Learning Journey</h1>\n",
    "Civl Engineer · Researcher Youtuber · Machine Learning Engineer (The Goal)\n",
    "    <br>\n",
    "    Sharing and documenting my progress and journey as I learn machine learning\n",
    "     <br>\n",
    "</div>\n",
    "\n",
    "<br>\n",
    "\n",
    "<div align=\"center\">\n",
    "    <a target=\"_blank\" href=\"https://github.com/barbaraaboagye/My-MachineLearning-Journey\"><img src=\"https://img.shields.io/github/last-commit/barbaraaboagye/My-MachineLearning-Journey\"></a>&nbsp;\n",
    "      <a target=\"_blank\" href=\"https://www.youtube.com/channel/UCEYKFq7ZEg81GYxpzNqYZ4)\"><img src=\"https://img.shields.io/youtube/channel/subscribers/UCEYKFq7ZEg81GYxpzNqYZ4Q?style=social\"></a>&nbsp;\n",
    "    <a target=\"_blank\" href=\"https://fr.linkedin.com/in/barbara-aboagye-233ba8133\"><img src=\"https://img.shields.io/badge/style--5eba00.svg?label=LinkedIn&logo=linkedin&style=social\"></a>&nbsp;\n",
    "    <a target=\"_blank\" href=\"https://twitter.com/awesome_ama\"><img src=\"https://img.shields.io/twitter/follow/awesome_ama?style=social\"></a>\n",
    "    <br>\n",
    "</div>\n",
    "\n",
    "<br>"
   ]
  },
  {
   "attachments": {},
   "cell_type": "markdown",
   "id": "45b714aa-02f9-45ac-b2bf-e83b34b0c093",
   "metadata": {
    "jp-MarkdownHeadingCollapsed": true,
    "tags": []
   },
   "source": [
    "# Classes and Magic methods - Day x of x\n",
    "\n",
    "This is the template I will use to document my journey.  <br>\n",
    "Date : 15 March,2023 <br>\n",
    "Hours completed : 1hr 20mins\n",
    "<br>\n",
    "\n"
   ]
  },
  {
   "attachments": {},
   "cell_type": "markdown",
   "id": "39e4c6e7-9871-4211-8c4e-94bc180dc5f4",
   "metadata": {
    "jp-MarkdownHeadingCollapsed": true,
    "tags": []
   },
   "source": [
    "# Resources used : \n",
    "\n",
    "- [Foundation- Python](https://madewithml.com/courses/foundations/python/)\n",
    "<br>\n",
    "\n",
    "Handwritten notes can be found [here][def]\n",
    "\n",
    "[def]: https://github.com/barbaraaboagye/My-MachineLearning-Journey/blob/cb21fc09586fa371d6776e9672fe41621281df64/Handwritten%20notes/230315_ClassesAndMagicMethodsPythonFoundation.pdf"
   ]
  },
  {
   "attachments": {},
   "cell_type": "markdown",
   "id": "3ba800cd",
   "metadata": {},
   "source": [
    "### Classes\n",
    "They are fundamental concepts of object oriented programming (OOP). They consist of a set of functions that defines the object attributes and it's function/operation/behaviour. Classes are blueprints/templates and offers a way of organising and structuring codes that allows one to create a complex and reusable data structure. <br>\n",
    "\n",
    "To create a class in python, you need to use the `class` keyword followed by the name of the class. This is an example: \n"
   ]
  },
  {
   "cell_type": "code",
   "execution_count": 1,
   "id": "e672526e",
   "metadata": {},
   "outputs": [],
   "source": [
    "class Car :\n",
    "    # Class attributes\n",
    "    color = \"red\"\n",
    "    speed = 0\n",
    "\n",
    "    # Class methods\n",
    "    def accelerate(self, mph):\n",
    "        self.speed += mph\n",
    "\n",
    "    def brake(self, mph):\n",
    "        self.speed -= mph\n",
    "\n",
    "    def get_speed(self):\n",
    "        return self.speed\n",
    "\n",
    "# Create instance of class car\n",
    "my_car = Car()\n",
    "\n",
    "# Call the class method on each instance\n",
    "# Call the class method on each instance"
   ]
  },
  {
   "attachments": {},
   "cell_type": "markdown",
   "id": "659d6f26",
   "metadata": {},
   "source": [
    "In this example, **a class** called **Car** with 2 class attributes (color and speed) and three class methods (accelerate, brake, and get_speed) is defined.\n",
    "\n",
    "- The **class attributes** define properties of the class that are shared among all instances of the class. In this example, all Car objects will have a color attribute set to \"red\" and a speed attribute set to 0.\n",
    "\n",
    "- The **class methods** define behaviors that can be performed by objects of the class. In this example, accelerate and brake change the speed of the car by a certain amount, while get_speed returns the current speed of the car.\n",
    "\n",
    "To create an instance of a class, you use the class name followed by parentheses. Here's an example:"
   ]
  },
  {
   "cell_type": "code",
   "execution_count": 2,
   "id": "a2b3a7ec",
   "metadata": {},
   "outputs": [],
   "source": [
    "my_car = Car()"
   ]
  },
  {
   "attachments": {},
   "cell_type": "markdown",
   "id": "ba33c4a4",
   "metadata": {},
   "source": [
    "This creates a new instance of the Car class and assigns it to the variable my_car. You can then call the methods of the my_car object like this:"
   ]
  },
  {
   "cell_type": "code",
   "execution_count": 3,
   "id": "953d5ad9",
   "metadata": {},
   "outputs": [
    {
     "name": "stdout",
     "output_type": "stream",
     "text": [
      "10\n",
      "5\n"
     ]
    }
   ],
   "source": [
    "# Accelerate and print the speed\n",
    "my_car.accelerate(10)\n",
    "print(my_car.get_speed()) # Output: 10\n",
    "\n",
    "# Brake and print the speed \n",
    "my_car.brake(5)\n",
    "print(my_car.get_speed()) # Output: 5\n"
   ]
  },
  {
   "cell_type": "markdown",
   "id": "b0e117f9",
   "metadata": {},
   "source": [
    "This modifies the speed of the my_car object and prints out the current speed.\n",
    "\n",
    "In summary, classes in Python allow you to define the properties and behaviors of objects, and to create new instances of those objects with the same properties and behaviors."
   ]
  },
  {
   "cell_type": "code",
   "execution_count": 4,
   "id": "a7b4cacc",
   "metadata": {},
   "outputs": [
    {
     "name": "stdout",
     "output_type": "stream",
     "text": [
      "25\n",
      "20\n"
     ]
    }
   ],
   "source": [
    "# Accelerate and print the speed\n",
    "my_car.accelerate(20)\n",
    "print(my_car.get_speed()) # Output: 25. The previous speed after the brake method was 5\n",
    "\n",
    "# Brake and print the speed \n",
    "my_car.brake(5)\n",
    "print(my_car.get_speed()) # Output: 20. 25-5"
   ]
  },
  {
   "attachments": {},
   "cell_type": "markdown",
   "id": "2ffd2ef8",
   "metadata": {},
   "source": [
    "### Magic methods\n",
    "\n",
    "Magic methods in Python are special methods that start and end with double underscores (also known as \"dunder\" methods), such as __init__, __str__, __len__, and many others. These methods are called automatically by the Python interpreter in response to certain operations or events, such as object instantiation, arithmetic operations, attribute access, and more.\n",
    "\n",
    "The purpose of magic methods is to allow classes to define their own behavior for certain language constructs or operations, making it easier to customize and extend their functionality. For example, the __init__ method is called when an object is created and can be used to initialize its attributes, while the __str__ method is called when the str function is used to convert an object to a string, and can be used to provide a human-readable representation of the object.\n",
    "\n",
    "Here are some examples of magic methods and their purposes:\n",
    "\n",
    "- __init__(self, ...) is called when an object is created and can be used to initialize its attributes.\n",
    "\n",
    "- __str__(self) is called when the str function is used to convert an object to a string and can be used to provide a human-readable representation of the object.\n",
    "- __len__(self) is called when the len function is used to get the length of an object, and can be used to return the number of elements in the object.\n",
    "- __add__(self, other) is called when the + operator is used to add two objects together, and can be used to define custom behavior for this operation.\n",
    "- __getattr__(self, name) is called when an attribute is accessed that doesn't exist, and can be used to provide custom behavior for attribute access.\n",
    "\n",
    "By implementing these and other magic methods in your own classes, you can make your code more powerful and expressive, and more closely match the behavior of built-in Python types.\n",
    "\n",
    "NOTE : <BR>\n",
    "\n",
    "In Python, self is a reference to the instance of the class that the method is being called on. It is the first parameter of all instance methods, including magic methods, and is used to access the attributes and methods of the instance. It should always be included as the first parameter of these methods. When a magic method is called on an instance of the class, Python automatically passes a reference to the instance as the self parameter, so you don't need to pass it explicitly.\n",
    "\n",
    "For example, in the __init__ method, self refers to the newly created instance of the class, and is used to set its attributes.  "
   ]
  },
  {
   "cell_type": "code",
   "execution_count": 5,
   "id": "78f06ec8",
   "metadata": {},
   "outputs": [
    {
     "name": "stdout",
     "output_type": "stream",
     "text": [
      "<__main__.Pet object at 0x7ff1114403d0>\n",
      "Scooby\n"
     ]
    }
   ],
   "source": [
    "## Example of __init__ funct \n",
    "\n",
    "# Creating the class\n",
    "class Pet(object):\n",
    "    \"\"\"Class object for a pet.\"\"\"\n",
    "\n",
    "    def __init__(self, species, name):\n",
    "        \"\"\"Initialize a Pet.\"\"\"\n",
    "        self.species = species\n",
    "        self.name = name\n",
    "\n",
    "# Creating an instance of a class\n",
    "my_dog = Pet(species=\"dog\",\n",
    "             name=\"Scooby\")\n",
    "print (my_dog)\n",
    "print (my_dog.name)\n"
   ]
  },
  {
   "attachments": {},
   "cell_type": "markdown",
   "id": "4f7b06eb",
   "metadata": {},
   "source": [
    "The output of the print (my_dog) command is not so relevant to us or can't be understood. Thic can be fixed by using the __str__ function to convert to human Readable form.\n",
    "\n",
    "\n"
   ]
  },
  {
   "cell_type": "code",
   "execution_count": 6,
   "id": "0f744b31",
   "metadata": {},
   "outputs": [
    {
     "name": "stdout",
     "output_type": "stream",
     "text": [
      "dog named Scooby\n",
      "Scooby\n"
     ]
    }
   ],
   "source": [
    "# Creating the class\n",
    "# Creating the class\n",
    "class Pet(object):\n",
    "    \"\"\"Class object for a pet.\"\"\"\n",
    "\n",
    "    def __init__(self, species, name):\n",
    "        \"\"\"Initialize a Pet.\"\"\"\n",
    "        self.species = species\n",
    "        self.name = name\n",
    "\n",
    "    def __str__(self):\n",
    "        \"\"\"Output when printing an instance of a Pet.\"\"\"\n",
    "        return f\"{self.species} named {self.name}\"\n",
    "\n",
    "# Creating an instance of a class\n",
    "my_dog = Pet(species=\"dog\",\n",
    "             name=\"Scooby\")\n",
    "print (my_dog)\n",
    "print (my_dog.name)\n",
    "\n"
   ]
  },
  {
   "cell_type": "code",
   "execution_count": 7,
   "id": "9a64c9d3",
   "metadata": {},
   "outputs": [
    {
     "name": "stdout",
     "output_type": "stream",
     "text": [
      "Toyota Camry (2020)\n",
      "Honda Civic (2021)\n"
     ]
    }
   ],
   "source": [
    "class Car:\n",
    "    def __init__(self, make, model, year):\n",
    "        self.make = make\n",
    "        self.model = model\n",
    "        self.year = year\n",
    "       \n",
    "    def __str__(self):\n",
    "        return f\"{self.make} {self.model} ({self.year})\"\n",
    "\n",
    "my_car = Car(\"Toyota\", \"Camry\", 2020)\n",
    "your_car = Car(\"Honda\", \"Civic\", 2021)\n",
    "\n",
    "print(my_car)\n",
    "print(your_car)"
   ]
  },
  {
   "cell_type": "code",
   "execution_count": null,
   "id": "afa43736",
   "metadata": {},
   "outputs": [],
   "source": []
  }
 ],
 "metadata": {
  "kernelspec": {
   "display_name": "base",
   "language": "python",
   "name": "python3"
  },
  "language_info": {
   "codemirror_mode": {
    "name": "ipython",
    "version": 3
   },
   "file_extension": ".py",
   "mimetype": "text/x-python",
   "name": "python",
   "nbconvert_exporter": "python",
   "pygments_lexer": "ipython3",
   "version": "3.9.12"
  },
  "vscode": {
   "interpreter": {
    "hash": "02ffa660b6f6d9be8cca427b74bc9cb87fea4b28c9e17012788bc534d238c364"
   }
  }
 },
 "nbformat": 4,
 "nbformat_minor": 5
}
