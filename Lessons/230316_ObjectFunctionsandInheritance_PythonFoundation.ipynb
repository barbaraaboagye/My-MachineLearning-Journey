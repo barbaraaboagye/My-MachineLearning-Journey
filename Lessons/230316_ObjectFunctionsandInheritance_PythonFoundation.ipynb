{
 "cells": [
  {
   "cell_type": "markdown",
   "id": "886467ac-de7e-46bc-a55e-6fd21277147b",
   "metadata": {},
   "source": [
    "<div align=\"center\">\n",
    "    <h1> My Machine Learning Journey</h1>\n",
    "Civl Engineer · Researcher Youtuber · Machine Learning Engineer (The Goal)\n",
    "    <br>\n",
    "    Sharing and documenting my progress and journey as I learn machine learning\n",
    "     <br>\n",
    "</div>\n",
    "\n",
    "<br>\n",
    "\n",
    "<div align=\"center\">\n",
    "    <a target=\"_blank\" href=\"https://github.com/barbaraaboagye/My-MachineLearning-Journey\"><img src=\"https://img.shields.io/github/last-commit/barbaraaboagye/My-MachineLearning-Journey\"></a>&nbsp;\n",
    "      <a target=\"_blank\" href=\"https://www.youtube.com/channel/UCEYKFq7ZEg81GYxpzNqYZ4)\"><img src=\"https://img.shields.io/youtube/channel/subscribers/UCEYKFq7ZEg81GYxpzNqYZ4Q?style=social\"></a>&nbsp;\n",
    "    <a target=\"_blank\" href=\"https://fr.linkedin.com/in/barbara-aboagye-233ba8133\"><img src=\"https://img.shields.io/badge/style--5eba00.svg?label=LinkedIn&logo=linkedin&style=social\"></a>&nbsp;\n",
    "    <a target=\"_blank\" href=\"https://twitter.com/awesome_ama\"><img src=\"https://img.shields.io/twitter/follow/awesome_ama?style=social\"></a>\n",
    "    <br>\n",
    "</div>\n",
    "\n",
    "<br>"
   ]
  },
  {
   "attachments": {},
   "cell_type": "markdown",
   "id": "45b714aa-02f9-45ac-b2bf-e83b34b0c093",
   "metadata": {
    "jp-MarkdownHeadingCollapsed": true,
    "tags": []
   },
   "source": [
    "# Object Function, Inheritance - Day x of x\n",
    " <br>\n",
    "Date : 16th March,2023 <br>\n",
    "Hours completed : 1 hr\n",
    "\n"
   ]
  },
  {
   "attachments": {},
   "cell_type": "markdown",
   "id": "39e4c6e7-9871-4211-8c4e-94bc180dc5f4",
   "metadata": {
    "jp-MarkdownHeadingCollapsed": true,
    "tags": []
   },
   "source": [
    "# Resources used : \n",
    "\n",
    "- [Foundation- Python](https://madewithml.com/courses/foundations/python/)\n",
    "<br>\n",
    "\n",
    "Handwritten notes can be found [here][def]\n",
    "\n",
    "[def]:https://github.com/barbaraaboagye/My-MachineLearning-Journey/blob/c8d4c6e1c746f6f2378df821aa03d529a97909ed/Handwritten%20notes/230316_ObjectFunctionAndInheritance_%20PythonFoundation.pdf"
   ]
  },
  {
   "attachments": {},
   "cell_type": "markdown",
   "id": "8402f2d8",
   "metadata": {},
   "source": [
    "## Object functions\n",
    "\n",
    "These are built in methods/functions in python. This is not strictly necessary in Python 3, as all classes implicitly inherit from object, but it is considered good practice to include it for clarity and compatibility with older versions of Python.\n",
    "\n",
    "By inheriting from object, the Pet class gets access to some default behaviors, such as the ability to be used in boolean expressions, to have attributes dynamically added or deleted, and to have a string representation defined using the __str__ method.\n",
    "\n",
    "In summary, including object when defining a class is not strictly necessary, but it can provide some default behaviors and compatibility with older versions of Python."
   ]
  },
  {
   "cell_type": "code",
   "execution_count": 20,
   "id": "0be24a20",
   "metadata": {},
   "outputs": [
    {
     "name": "stdout",
     "output_type": "stream",
     "text": [
      "dog named Scooby\n",
      "Scooby\n",
      "dog named Scrappy\n",
      "Scrappy\n"
     ]
    }
   ],
   "source": [
    "# Creating the class\n",
    "class Pet(object):\n",
    "    \"\"\"Class object for a pet.\"\"\"\n",
    "\n",
    "    def __init__(self, species, name):\n",
    "        \"\"\"Initialize a Pet.\"\"\"\n",
    "        self.species = species\n",
    "        self.name = name\n",
    "\n",
    "    def __str__(self):\n",
    "        \"\"\"Output when printing an instance of a Pet.\"\"\"\n",
    "        return f\"{self.species} named {self.name}\"\n",
    "\n",
    "    def change_name(self, new_name):\n",
    "        \"\"\"Change the name of your Pet.\"\"\"\n",
    "        self.name = new_name\n",
    "\n",
    "# Creating an instance of a class\n",
    "my_dog = Pet(species=\"dog\", name=\"Scooby\")\n",
    "print (my_dog)\n",
    "print (my_dog.name)\n",
    "\n",
    "# Using a class's function\n",
    "my_dog.change_name(new_name=\"Scrappy\")\n",
    "print (my_dog)\n",
    "print (my_dog.name)\n"
   ]
  },
  {
   "attachments": {},
   "cell_type": "markdown",
   "id": "af63299a",
   "metadata": {},
   "source": [
    "### Inheritance\n",
    "\n",
    "Inheritance is a feature in object-oriented programming that allows you to define a new class based on an existing class. The new class is called the \"subclass\" or \"derived class\", and it inherits all the attributes and methods of the existing class, called the \"base class\" or \"superclass\". The subclass can then add new attributes and methods or override existing ones as needed.\n",
    "\n",
    "Inheritance provides a way to reuse code and avoid duplication. Instead of creating a new class from scratch, you can start with an existing class and modify it as needed to create a new class that shares some or all of the characteristics of the original class.\n",
    "\n",
    "For example, consider the following code:"
   ]
  },
  {
   "cell_type": "code",
   "execution_count": 21,
   "id": "1a338d6a",
   "metadata": {},
   "outputs": [
    {
     "name": "stdout",
     "output_type": "stream",
     "text": [
      " A  Great Dane doggo named Cheater\n",
      " A  Great Dane doggo named Scooby Doo\n"
     ]
    }
   ],
   "source": [
    "#inherited class from main class Pet\n",
    "class Dog (Pet):\n",
    "    def __init__(self,name,breed) :\n",
    "        super().__init__(species =\"dog\", name =name)\n",
    "        self.breed = breed\n",
    "    def __str__(self):\n",
    "        return f\" A {self.breed} doggo named {self.name}\"\n",
    "\n",
    "#Create an instance of the class\n",
    "\n",
    "Cheater = Dog(name = \"Cheater\", breed = \" Great Dane\")\n",
    "print (Cheater)\n",
    "\n",
    "Cheater.change_name(\"Scooby Doo\")\n",
    "print (Cheater)"
   ]
  },
  {
   "attachments": {},
   "cell_type": "markdown",
   "id": "0262d69e",
   "metadata": {},
   "source": [
    "The dog class inherited the initialized variables from the parent Pet class like species and name. We also inherited functions such as change_name()"
   ]
  },
  {
   "attachments": {},
   "cell_type": "markdown",
   "id": "ff4b3248",
   "metadata": {},
   "source": [
    "Another example :"
   ]
  },
  {
   "cell_type": "code",
   "execution_count": 22,
   "id": "27e0199d",
   "metadata": {},
   "outputs": [],
   "source": [
    "## Base class/ Super class\n",
    "class Animal:\n",
    "    def __init__(self, name, species):\n",
    "        self.name = name\n",
    "        self.species = species\n",
    "        \n",
    "    def eat(self):\n",
    "        print(f\"{self.name} is eating.\")\n",
    "\n",
    "#subclass or derived class\n",
    "#         \n",
    "class Cat(Animal):\n",
    "    def __init__(self, name):\n",
    "        super().__init__(name, \"cat\") #Animal class has 2 attributes ,name and species that has to be present\n",
    "        \n",
    "    def meow(self):\n",
    "        print(\"Meow!\")\n"
   ]
  },
  {
   "attachments": {},
   "cell_type": "markdown",
   "id": "739cfa23",
   "metadata": {},
   "source": [
    "In this example, the Animal class defines the common attributes and behavior of all animals. The Cat class is a subclass of Animal, and it inherits the name and species attributes and the eat method from the Animal class. The Cat class also adds a new meow method that is specific to cats.\n",
    "\n",
    "When you create a new Cat object, it will have both the eat method inherited from the Animal class and the meow method defined in the Cat class:"
   ]
  },
  {
   "cell_type": "code",
   "execution_count": 23,
   "id": "44e8c359",
   "metadata": {},
   "outputs": [
    {
     "name": "stdout",
     "output_type": "stream",
     "text": [
      "Fluffy is eating.\n",
      "Meow!\n"
     ]
    }
   ],
   "source": [
    "my_cat = Cat(\"Fluffy\")\n",
    "my_cat.eat()  # prints \"Fluffy is eating\n",
    "my_cat.meow()"
   ]
  },
  {
   "attachments": {},
   "cell_type": "markdown",
   "id": "226c654a",
   "metadata": {},
   "source": [
    "Which function is executed if the parent and child functions have functions with the same name? <br>\n",
    "\n",
    "As you can see, both our parent class (Pet) and the child class (Dog) have different __str__ functions defined but share the same function name. The child class inherits everything from the parent classes but when there is conflict between function names, the child class' functions take precedence and overwrite the parent class' functions.\n"
   ]
  }
 ],
 "metadata": {
  "kernelspec": {
   "display_name": "base",
   "language": "python",
   "name": "python3"
  },
  "language_info": {
   "codemirror_mode": {
    "name": "ipython",
    "version": 3
   },
   "file_extension": ".py",
   "mimetype": "text/x-python",
   "name": "python",
   "nbconvert_exporter": "python",
   "pygments_lexer": "ipython3",
   "version": "3.9.12"
  },
  "vscode": {
   "interpreter": {
    "hash": "02ffa660b6f6d9be8cca427b74bc9cb87fea4b28c9e17012788bc534d238c364"
   }
  }
 },
 "nbformat": 4,
 "nbformat_minor": 5
}
