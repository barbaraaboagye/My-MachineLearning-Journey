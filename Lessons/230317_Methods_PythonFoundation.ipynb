{
 "cells": [
  {
   "cell_type": "markdown",
   "id": "886467ac-de7e-46bc-a55e-6fd21277147b",
   "metadata": {},
   "source": [
    "<div align=\"center\">\n",
    "    <h1> My Machine Learning Journey</h1>\n",
    "Civl Engineer · Researcher Youtuber · Machine Learning Engineer (The Goal)\n",
    "    <br>\n",
    "    Sharing and documenting my progress and journey as I learn machine learning\n",
    "     <br>\n",
    "</div>\n",
    "\n",
    "<br>\n",
    "\n",
    "<div align=\"center\">\n",
    "    <a target=\"_blank\" href=\"https://github.com/barbaraaboagye/My-MachineLearning-Journey\"><img src=\"https://img.shields.io/github/last-commit/barbaraaboagye/My-MachineLearning-Journey\"></a>&nbsp;\n",
    "      <a target=\"_blank\" href=\"https://www.youtube.com/channel/UCEYKFq7ZEg81GYxpzNqYZ4)\"><img src=\"https://img.shields.io/youtube/channel/subscribers/UCEYKFq7ZEg81GYxpzNqYZ4Q?style=social\"></a>&nbsp;\n",
    "    <a target=\"_blank\" href=\"https://fr.linkedin.com/in/barbara-aboagye-233ba8133\"><img src=\"https://img.shields.io/badge/style--5eba00.svg?label=LinkedIn&logo=linkedin&style=social\"></a>&nbsp;\n",
    "    <a target=\"_blank\" href=\"https://twitter.com/awesome_ama\"><img src=\"https://img.shields.io/twitter/follow/awesome_ama?style=social\"></a>\n",
    "    <br>\n",
    "</div>\n",
    "\n",
    "<br>"
   ]
  },
  {
   "attachments": {},
   "cell_type": "markdown",
   "id": "45b714aa-02f9-45ac-b2bf-e83b34b0c093",
   "metadata": {
    "jp-MarkdownHeadingCollapsed": true,
    "tags": []
   },
   "source": [
    "# Method - Day x of x\n",
    "\n",
    "Hours completed : 1 hr 15 mins <br>\n",
    "\n",
    "PS: I forgot to save earlier code so I needed to re-do again that's why I spent more hours\n"
   ]
  },
  {
   "attachments": {},
   "cell_type": "markdown",
   "id": "39e4c6e7-9871-4211-8c4e-94bc180dc5f4",
   "metadata": {
    "jp-MarkdownHeadingCollapsed": true,
    "tags": []
   },
   "source": [
    "# Resources used : \n",
    "\n",
    "- [Foundation- Python](https://madewithml.com/courses/foundations/python/)\n",
    "<br>\n",
    "\n",
    "Handwritten notes can be found [here][def]\n",
    "\n",
    "[def]: https://github.com/barbaraaboagye/My-MachineLearning-Journey/blob/13edf341c2b2e94f9ee85b7ff846c50d0a441269/Handwritten%20notes/230317_Methods_PythonFoundation.pdf"
   ]
  },
  {
   "attachments": {},
   "cell_type": "markdown",
   "id": "0dd1ee3d",
   "metadata": {},
   "source": [
    "### Class Methods\n",
    "\n",
    "A class method is a type of method that is defined on the class itself, rather than on an instance of the class. It can be called on the class itself, rather than on an instance of the class.\n",
    "\n",
    "One of the key features of class methods is that they have access to the class-level variables and attributes. This can be useful if you want to create a method that applies to the class as a whole, rather than to individual instances of the class.\n",
    "\n",
    "In Python, you can define a class method by using the @classmethod decorator before the method definition. The first argument to a class method is conventionally named cls (short for \"class\"), and it refers to the class itself rather than an instance of the class. Class methods are often used to create alternative constructors for a class, or to perform operations that apply to the class as a whole rather than to individual instances.\n",
    "\n",
    "There are two important decorator methods to know about when it comes to classes: *@classmethod* and *@staticmethod*\n",
    "\n",
    "Here's a simple example of a class method in Python:"
   ]
  },
  {
   "cell_type": "code",
   "execution_count": 9,
   "id": "409dd568",
   "metadata": {},
   "outputs": [],
   "source": [
    "# Creating the class\n",
    "class Pet(object):\n",
    "    \"\"\"Class object for a pet.\"\"\"\n",
    "\n",
    "    def __init__(self, species, name):\n",
    "        \"\"\"Initialize a Pet.\"\"\"\n",
    "        self.species = species\n",
    "        self.name = name\n",
    "\n",
    "    def __str__(self):\n",
    "        \"\"\"Output when printing an instance of a Pet.\"\"\"\n",
    "        return f\"{self.species} named {self.name}\"\n",
    "\n",
    "    def change_name(self, new_name):\n",
    "        \"\"\"Change the name of your Pet.\"\"\"\n",
    "        self.name = new_name\n",
    "\n",
    "\n",
    "class Dog(Pet):\n",
    "    def __init__(self, name, breed):\n",
    "        super().__init__(species=\"dog\", name=name)\n",
    "        self.breed = breed\n",
    "\n",
    "    def __str__(self):\n",
    "        return f\"{self.breed} named {self.name}\"\n",
    "\n",
    "    @classmethod\n",
    "    def from_dict(cls, d):\n",
    "        return cls(name=d[\"name\"], breed=d[\"breed\"])\n",
    "\n",
    "    @staticmethod\n",
    "    def is_cute(breed):\n",
    "        return True  # all animals are cute!\n"
   ]
  },
  {
   "attachments": {},
   "cell_type": "markdown",
   "id": "b4dc2960",
   "metadata": {},
   "source": [
    "A @classmethod allows us to create class instances by passing in the uninstantiated class itself (cls). This is a great way to create (or load) classes from objects (ie. dictionaries). Usually when onjects are created, they are instances and start with self. For @classmethods, they take the whole class instead of just an instance"
   ]
  },
  {
   "cell_type": "markdown",
   "id": "78385461",
   "metadata": {},
   "source": [
    "### Explanation of code - @classmethod\n",
    "\n",
    "This method is a class method because it takes the class itself (cls) as the first argument. The purpose of this method is to create a new Dog object from a dictionary (d) that contains the dog's name and breed. We use the cls argument to create a new instance of the Dog class and return it."
   ]
  },
  {
   "cell_type": "code",
   "execution_count": 10,
   "id": "c1fbd353",
   "metadata": {},
   "outputs": [
    {
     "name": "stdout",
     "output_type": "stream",
     "text": [
      "Border Collie named Cassie\n"
     ]
    }
   ],
   "source": [
    "## Create instance\n",
    "\n",
    "d = {\"name\" : \"Cassie\", \"breed\" : \"Border Collie\"}\n",
    "cassie =Dog.from_dict(d)\n",
    "print (cassie)"
   ]
  },
  {
   "cell_type": "markdown",
   "id": "f06997ff",
   "metadata": {},
   "source": [
    "This code creates a dictionary d with keys \"name\" and \"breed\" and values \"Cassie\" and \"Border Collie\", respectively.\n",
    "\n",
    "Then, it creates a new Dog object named cassie by calling the class method from_dict on the Dog class. This method takes a dictionary (d) as an argument and returns a new instance of the Dog class with the name and breed extracted from the dictionary. In this case, it creates a new Dog object with the name \"Cassie\" and the breed \"Border Collie\".\n",
    "\n",
    "Finally, it prints out the string representation of the cassie object by calling the __str__ method on it. The __str__ method is defined in the Dog class and returns a string that describes the dog's breed and name. In this case, it will print out \"Border Collie named Cassie\"."
   ]
  },
  {
   "attachments": {},
   "cell_type": "markdown",
   "id": "8d2ab3c3",
   "metadata": {},
   "source": [
    "### Static methods \n",
    "Static methods are methods that don't depend on the instance or the class itself. They are similar to regular functions, but defined inside a class. They don't have access to instance or class-level attributes, so they are mostly used for utility functions. To define a static method, we use the @staticmethod decorator before the method definition."
   ]
  },
  {
   "attachments": {},
   "cell_type": "markdown",
   "id": "f534b8f4",
   "metadata": {},
   "source": [
    "### Explanation of code - @staticmethod\n",
    "\n",
    "This method is a static method because it doesn't take either self or cls as the first argument. It's just a utility function that returns True for any given breed. This method doesn't depend on any instance or class-level attributes, so we can define it as a static method."
   ]
  },
  {
   "cell_type": "code",
   "execution_count": 11,
   "id": "bc4c49d6",
   "metadata": {},
   "outputs": [
    {
     "data": {
      "text/plain": [
       "True"
      ]
     },
     "execution_count": 11,
     "metadata": {},
     "output_type": "execute_result"
    }
   ],
   "source": [
    "# Static method\n",
    "Dog.is_cute(breed=\"Border Collie\")\n"
   ]
  },
  {
   "attachments": {},
   "cell_type": "markdown",
   "id": "8210a6c9",
   "metadata": {},
   "source": [
    "This code calls the static method is_cute on the Dog class. This method takes a breed argument and returns True, indicating that all animals are cute, regardless of their breed. In this case, it's called with the breed argument \"Border Collie\". Since this method always returns True, the code will simply evaluate to True\n"
   ]
  },
  {
   "cell_type": "code",
   "execution_count": 12,
   "id": "109a4147",
   "metadata": {},
   "outputs": [
    {
     "name": "stdout",
     "output_type": "stream",
     "text": [
      "Result 1: 15\n",
      "Result 2: 15\n",
      "Result 3: 21\n",
      "Result 4 : 0.5\n"
     ]
    }
   ],
   "source": [
    "## Another example\n",
    "\n",
    "class Calculator:\n",
    "    @classmethod\n",
    "    def add(cls, a, b):\n",
    "        return a + b\n",
    "    \n",
    "    @classmethod\n",
    "    def subtract(cls, a, b):\n",
    "        return a - b\n",
    "    \n",
    "    @classmethod\n",
    "    def multiply(cls,a, b):\n",
    "        return a * b\n",
    "    \n",
    "    @staticmethod\n",
    "    def divide(a,b) :\n",
    "        return a/b\n",
    "    \n",
    "# Create an instance of the Calculator class with initial values\n",
    "calc = Calculator()\n",
    "\n",
    "# Use the class methods and static method to perform calculations\n",
    "result1 = calc.add(5, 10)\n",
    "result2 = calc.subtract(20, 5)\n",
    "result3 = Calculator.multiply(3, 7)\n",
    "result4 = Calculator.divide(2,4)\n",
    "\n",
    "\n",
    "# Print the results\n",
    "print(\"Result 1:\", result1)\n",
    "print(\"Result 2:\", result2)\n",
    "print(\"Result 3:\", result3)\n",
    "print (\"Result 4 :\", result4)"
   ]
  },
  {
   "attachments": {},
   "cell_type": "markdown",
   "id": "fdd9c1ed",
   "metadata": {},
   "source": [
    "In this example, we create an instance of the Calculator class using the default constructor (since we didn't define one explicitly), which doesn't take any arguments. We then call the class methods add and subtract on the instance calc, and the static method multiply on the class itself.\n",
    "- Class methods can be called either on the class itself (ClassName.method()) or on an instance of the class (instance.method()). However, it is more common to call them on instances.\n",
    "- Static methods are called directly on the class, using the class name (ClassName.method()).\n"
   ]
  }
 ],
 "metadata": {
  "kernelspec": {
   "display_name": "base",
   "language": "python",
   "name": "python3"
  },
  "language_info": {
   "codemirror_mode": {
    "name": "ipython",
    "version": 3
   },
   "file_extension": ".py",
   "mimetype": "text/x-python",
   "name": "python",
   "nbconvert_exporter": "python",
   "pygments_lexer": "ipython3",
   "version": "3.9.12"
  },
  "vscode": {
   "interpreter": {
    "hash": "02ffa660b6f6d9be8cca427b74bc9cb87fea4b28c9e17012788bc534d238c364"
   }
  }
 },
 "nbformat": 4,
 "nbformat_minor": 5
}
