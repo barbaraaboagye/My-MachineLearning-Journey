{
 "cells": [
  {
   "cell_type": "markdown",
   "id": "886467ac-de7e-46bc-a55e-6fd21277147b",
   "metadata": {},
   "source": [
    "<div align=\"center\">\n",
    "    <h1> My Machine Learning Journey</h1>\n",
    "Civl Engineer · Researcher Youtuber · Machine Learning Engineer (The Goal)\n",
    "    <br>\n",
    "    Sharing and documenting my progress and journey as I learn machine learning\n",
    "     <br>\n",
    "</div>\n",
    "\n",
    "<br>\n",
    "\n",
    "<div align=\"center\">\n",
    "    <a target=\"_blank\" href=\"https://github.com/barbaraaboagye/My-MachineLearning-Journey\"><img src=\"https://img.shields.io/github/last-commit/barbaraaboagye/My-MachineLearning-Journey\"></a>&nbsp;\n",
    "      <a target=\"_blank\" href=\"https://www.youtube.com/channel/UCEYKFq7ZEg81GYxpzNqYZ4)\"><img src=\"https://img.shields.io/youtube/channel/subscribers/UCEYKFq7ZEg81GYxpzNqYZ4Q?style=social\"></a>&nbsp;\n",
    "    <a target=\"_blank\" href=\"https://fr.linkedin.com/in/barbara-aboagye-233ba8133\"><img src=\"https://img.shields.io/badge/style--5eba00.svg?label=LinkedIn&logo=linkedin&style=social\"></a>&nbsp;\n",
    "    <a target=\"_blank\" href=\"https://twitter.com/awesome_ama\"><img src=\"https://img.shields.io/twitter/follow/awesome_ama?style=social\"></a>\n",
    "    <br>\n",
    "</div>\n",
    "\n",
    "<br>"
   ]
  },
  {
   "attachments": {},
   "cell_type": "markdown",
   "id": "45b714aa-02f9-45ac-b2bf-e83b34b0c093",
   "metadata": {
    "jp-MarkdownHeadingCollapsed": true,
    "tags": []
   },
   "source": [
    "# Decorators and call backs- Day x of x\n",
    "\n",
    "Hours completed : 1hr 20mins<br>"
   ]
  },
  {
   "attachments": {},
   "cell_type": "markdown",
   "id": "39e4c6e7-9871-4211-8c4e-94bc180dc5f4",
   "metadata": {
    "jp-MarkdownHeadingCollapsed": true,
    "tags": []
   },
   "source": [
    "# Resources used : \n",
    "\n",
    "- [Foundation- Python](https://madewithml.com/courses/foundations/python/)\n",
    "<br>\n",
    "\n",
    "Handwritten notes can be found [here][def]\n",
    "\n",
    "[def]: https://github.com/barbaraaboagye/My-MachineLearning-Journey/blob/55c5f214613024ae272adaab86e5fee484eb71fc/Handwritten%20notes/230319_DecoratorsAndCallbacks_PythonFoundation.pdf"
   ]
  },
  {
   "attachments": {},
   "cell_type": "markdown",
   "id": "409dd568",
   "metadata": {},
   "source": [
    "### Decorators\n",
    "\n",
    "A decorator is a special kind of function that can be used to modify or extend the behavior of another function or class without directly modifying its source code. Decorators are a powerful feature of Python and are often used in frameworks and libraries to add new functionality to existing code.\n",
    "\n",
    "Decorators are indicated in Python using the \"@\" symbol followed by the name of the decorator function.  Decorators wrap around the main function and allow us to operate on the inputs and or outputs.\n",
    "Suppose there is a function  called operations which increments the input value x by 1.\n",
    "\n",
    "\n"
   ]
  },
  {
   "cell_type": "code",
   "execution_count": 1,
   "id": "a9869b81",
   "metadata": {},
   "outputs": [
    {
     "data": {
      "text/plain": [
       "2"
      ]
     },
     "execution_count": 1,
     "metadata": {},
     "output_type": "execute_result"
    }
   ],
   "source": [
    "# Initial code\n",
    "def operations (x):\n",
    "    \"\"\" Basic operations \"\"\"\n",
    "    x +=1\n",
    "    return x\n",
    "\n",
    "operations(x=1)\n"
   ]
  },
  {
   "attachments": {},
   "cell_type": "markdown",
   "id": "c13f75b5",
   "metadata": {},
   "source": [
    "Now we want to increment the input x by 1 before and after the operations function executes and, to illustrate this example, let's say the increments have to be separate steps. Here's how we would do it by changing the original code:\n",
    "\n",
    "\n"
   ]
  },
  {
   "cell_type": "code",
   "execution_count": 2,
   "id": "70ad8bd8",
   "metadata": {},
   "outputs": [
    {
     "data": {
      "text/plain": [
       "4"
      ]
     },
     "execution_count": 2,
     "metadata": {},
     "output_type": "execute_result"
    }
   ],
   "source": [
    "def operations(x) :\n",
    "    \"\"\" Basic operations \"\"\"\n",
    "    x += 1\n",
    "    x += 1\n",
    "    x +=1\n",
    "    return x\n",
    "\n",
    "operations (x =1 )"
   ]
  },
  {
   "attachments": {},
   "cell_type": "markdown",
   "id": "b7c19c11",
   "metadata": {},
   "source": [
    "The code works unfortunately, the size of the functions `operations` has increased and the approach is not too efficient. <br>\n",
    "\n",
    "To solve this, a decorator called `add` which increments x by 1 before and after the main function `f` executes is created."
   ]
  },
  {
   "attachments": {},
   "cell_type": "markdown",
   "id": "7e7a2752",
   "metadata": {},
   "source": [
    "### Creating a decorator\n",
    "\n",
    "The decorator function `add` accepts a function `f` which is the original function we wish to wrap around, in our case, it's operations(). The output of the decorator is its wrapper function which receives the positional arguments (*args) and keyword arguments(**kwargs) passed to function `f`. <br>\n",
    "\n",
    "Inside the wrapper function, we can: \n",
    "1. extract the input parameters passed to function f i.e x in our case. \n",
    "2. make any changes we want to the function inputs. \n",
    "3. function f is executed \n",
    "4. make any changes to the function outputs \n",
    "5. wrapper function returns some value(s), which is what the decorator returns as well since it returns wrapper. \n",
    "\n",
    "Here is an example :"
   ]
  },
  {
   "cell_type": "code",
   "execution_count": 3,
   "id": "30f2ad2c",
   "metadata": {},
   "outputs": [],
   "source": [
    " ## Decorator\n",
    "\n",
    "def add (f) :\n",
    "    def wrapper (*args, **kwargs) :\n",
    "        \"\"\" Wrapper function for @add\"\"\"\n",
    "        x = kwargs.pop(\"x\") # get ( ) if not altering x\n",
    "        x += 1 # executes before function f\n",
    "        x = f(*args, **kwargs, x =x)\n",
    "        x += 1 # executes after function f\n",
    "        return x\n",
    "    return wrapper"
   ]
  },
  {
   "attachments": {},
   "cell_type": "markdown",
   "id": "84035641",
   "metadata": {},
   "source": [
    "The decorator can be used by adding it to the top of the main function `operations` preceded by the @ symbol i.e `@add`"
   ]
  },
  {
   "cell_type": "code",
   "execution_count": 4,
   "id": "58c52a10",
   "metadata": {},
   "outputs": [
    {
     "name": "stdout",
     "output_type": "stream",
     "text": [
      "4\n"
     ]
    }
   ],
   "source": [
    "@add\n",
    "def operations(x):\n",
    "    \"\"\"Basic operations.\"\"\"\n",
    "    x += 1\n",
    "    return x\n",
    "\n",
    "results = operations(x=1)\n",
    "print (results)"
   ]
  },
  {
   "attachments": {},
   "cell_type": "markdown",
   "id": "44089e2c",
   "metadata": {},
   "source": [
    "Suppose we wanted to debug and see what function actually executed with `operations()`"
   ]
  },
  {
   "cell_type": "code",
   "execution_count": 5,
   "id": "aee42a47",
   "metadata": {},
   "outputs": [
    {
     "data": {
      "text/plain": [
       "('wrapper', ' Wrapper function for @add')"
      ]
     },
     "execution_count": 5,
     "metadata": {},
     "output_type": "execute_result"
    }
   ],
   "source": [
    "operations.__name__, operations.__doc__\n"
   ]
  },
  {
   "attachments": {},
   "cell_type": "markdown",
   "id": "65985be6",
   "metadata": {},
   "source": [
    "The function name and docstring are not what we're looking for but it appears this way because the wrapper function is what was executed. In order to fix this, Python offers functools.wraps which carries the main function's metadata."
   ]
  },
  {
   "cell_type": "code",
   "execution_count": 6,
   "id": "109d9ce9",
   "metadata": {},
   "outputs": [],
   "source": [
    "# Decorator\n",
    "def add(f):\n",
    "    @wraps(f)\n",
    "    def wrap(*args, **kwargs):\n",
    "        \"\"\"Wrapper function for @add.\"\"\"\n",
    "        x = kwargs.pop(\"x\")\n",
    "        x += 1\n",
    "        x = f(*args, **kwargs, x=x)\n",
    "        x += 1\n",
    "        return x\n",
    "    return wrap\n"
   ]
  },
  {
   "attachments": {},
   "cell_type": "markdown",
   "id": "117093b4",
   "metadata": {},
   "source": [
    "This is an example of a decorator function that takes a function `f` as its argument and returns a new function `wrap` that wraps around `f`.\n",
    "\n",
    "The `add` decorator function modifies the input argument `x` before and after calling the function `f`. Specifically, it increments the value of `x` by 1 before calling `f` by popping the value of `x` from the `kwargs` dictionary using `x = kwargs.pop(\"x\")`, incrementing its value using `x += 1,` and then passing it to `f` as a keyword argument using `x=x` in `f(*args, **kwargs, x=x)`.\n",
    "\n",
    "After `f` has been called, the `add` decorator function increments the value of `x` by 1 again by using `x += 1.` Finally, it returns the new value of `x`.\n",
    "\n",
    "In summary, this decorator function adds 1 to the `x` keyword argument before and after the original function is called, effectively incrementing the value of `x` by `2`.\n",
    "\n",
    "The `@wraps(f)` decorator is used to ensure that the `wrap` function has the same name and docstring as the original function `f`.\n",
    "\n"
   ]
  },
  {
   "cell_type": "code",
   "execution_count": 7,
   "id": "4007d1f9",
   "metadata": {},
   "outputs": [
    {
     "name": "stdout",
     "output_type": "stream",
     "text": [
      "4\n"
     ]
    }
   ],
   "source": [
    "results = operations(x=1)\n",
    "print (results)"
   ]
  },
  {
   "attachments": {},
   "cell_type": "markdown",
   "id": "7c4cf679",
   "metadata": {},
   "source": [
    "A simplified decorator function doing the same thing is as below :"
   ]
  },
  {
   "cell_type": "code",
   "execution_count": 8,
   "id": "a5130aad",
   "metadata": {},
   "outputs": [],
   "source": [
    "def increment_decorator(func):\n",
    "    def wrapper(x):\n",
    "        x += 1 \n",
    "        x = func(x) # main function\n",
    "        x += 1\n",
    "        return x\n",
    "    return wrapper\n"
   ]
  },
  {
   "attachments": {},
   "cell_type": "markdown",
   "id": "7fe4bf34",
   "metadata": {},
   "source": [
    "In this decorator function, we define a new function `wrapper` that takes the input value `x` as an argument. Inside the `wrapper` function, we first increment `x` by 1, then call the original `operations` function with the new value of `x`, and finally increment `x` by 1 again before returning the result `x`.\n",
    "\n",
    "\n",
    "Using the decorator function"
   ]
  },
  {
   "cell_type": "code",
   "execution_count": 9,
   "id": "2a23c466",
   "metadata": {},
   "outputs": [
    {
     "name": "stdout",
     "output_type": "stream",
     "text": [
      "4\n"
     ]
    }
   ],
   "source": [
    "@increment_decorator\n",
    "def operations(x):\n",
    "    \"\"\"Basic operations.\"\"\"\n",
    "    x += 1\n",
    "    return x\n",
    "results = operations(x=1)\n",
    "print (results)"
   ]
  },
  {
   "attachments": {},
   "cell_type": "markdown",
   "id": "79814bca",
   "metadata": {},
   "source": [
    "In this example, we pass the value `3` as the argument `x` to the `operations` function. Since we have applied the `increment_decorator` decorator to the `operations` function using the `@` symbol, the `increment_decorator` decorator will automatically be called with the `operations` function as its argument, and will modify the input value of `x` before and after calling the `operations` function.\n",
    "\n",
    "The `operations` function will then increment the value of `x` by 1, resulting in a new value of `4`. This value will be returned by the function and assigned to the variable `result`. Finally, we print the value of `result`, which will be `5`."
   ]
  },
  {
   "attachments": {},
   "cell_type": "markdown",
   "id": "4031bf8d",
   "metadata": {},
   "source": [
    " ## Callbacks\n",
    "\n",
    "Decorators make customisation of codes before and after the main fucntions possible but what about in between? Suppose one wants to conditionally/situationally do some operations. Instead of writing if-statements, one can use callbacks.\n",
    "\n",
    "A callback is like a phone call. Imagine you're making a phone call to a friend and you want them to call you back once they have completed a task. That's exactly what a callback does in programming! so **CALLBACKS** are conditional/situational processing within the function."
   ]
  },
  {
   "attachments": {},
   "cell_type": "markdown",
   "id": "113a64aa",
   "metadata": {},
   "source": [
    "Our callbacks will be classes that have functions with key names that will execute at various periods during the main function's execution. The function names are up to us but we need to invoke the same callback functions within our main function."
   ]
  },
  {
   "cell_type": "code",
   "execution_count": 10,
   "id": "e3b76121",
   "metadata": {},
   "outputs": [],
   "source": [
    "# Callback\n",
    "\n",
    "class x_tracker (object) :\n",
    "    def __init__ (self,x):\n",
    "        self.history =[]\n",
    "    def at_start(self,x) :\n",
    "        self.history.append(x)\n",
    "    def at_end(self,x) :\n",
    "        self.history.append(x)"
   ]
  },
  {
   "attachments": {},
   "cell_type": "markdown",
   "id": "939190ea",
   "metadata": {},
   "source": [
    "The `x_tracker` class is designed to keep track of the values of `x` at the beginning and end of a process.\n",
    "\n",
    "The `__init__` method is a special method that is called when an instance of the class is created. In this case, it initializes an empty list called `history` which will be used to store the values of `x`.\n",
    "\n",
    "The `at_start` method takes a value of `x` as an argument and appends it to the `history` list. This method is called at the beginning of the process to store the initial value of `x`.\n",
    "\n",
    "The `at_end` method takes a value of `x` as an argument and appends it to the `history` list. This method is called at the end of the process to store the final value of `x`.\n",
    "\n",
    "One can pass as many callbacks as they want and because they have appropriately named functions, they will be invoked at the appropriate time"
   ]
  },
  {
   "cell_type": "code",
   "execution_count": 11,
   "id": "72b29502",
   "metadata": {},
   "outputs": [
    {
     "name": "stdout",
     "output_type": "stream",
     "text": [
      "2\n"
     ]
    },
    {
     "data": {
      "text/plain": [
       "[1, 2]"
      ]
     },
     "execution_count": 11,
     "metadata": {},
     "output_type": "execute_result"
    }
   ],
   "source": [
    "def operations(x, callbacks=[]):\n",
    "    \"\"\"Basic operations.\"\"\"\n",
    "    for callback in callbacks:\n",
    "        callback.at_start(x) #invoking the at_start callback\n",
    "    x += 1\n",
    "    for callback in callbacks:\n",
    "        callback.at_end(x)   #invoking the at_end callback\n",
    "    return x\n",
    "\n",
    "\n",
    "x = 1 # Define a value of x\n",
    "tracker = x_tracker(x=x)  # Create an instance of the x_tracker class with an initial value of x\n",
    "a = operations(x=x, callbacks=[tracker])\n",
    "print (a)\n",
    "tracker.history\n"
   ]
  },
  {
   "attachments": {},
   "cell_type": "markdown",
   "id": "8ffe312b",
   "metadata": {},
   "source": [
    "This is a function called `operations` that takes an input `x` and a list of `callbacks` as arguments. The `callbacks` are a list of functions that are executed before and after the `operations` function is executed.\n",
    "\n",
    "Inside the function, a for loop iterates over the list of `callbacks`. For each callback, the `at_start` method of the callback object is invoked with the current value of `x` as the argument.\n",
    "\n",
    "Then the value of `x` is incremented by 1. After that, another for loop iterates over the list of `callbacks` again. For each callback, the `at_end` method of the callback object is invoked with the updated value of `x` as the argument.\n",
    "\n",
    "Finally, the updated value of `x` is returned from the `operations` function"
   ]
  },
  {
   "attachments": {},
   "cell_type": "markdown",
   "id": "53e3958d",
   "metadata": {},
   "source": [
    "Another example of callbacks. Imagine you have a function that adds two numbers together:"
   ]
  },
  {
   "cell_type": "code",
   "execution_count": 12,
   "id": "7646a77b",
   "metadata": {},
   "outputs": [],
   "source": [
    "def add_numbers(a, b):\n",
    "    \"\"\" Adds two numbers\"\"\"\n",
    "    return a + b\n"
   ]
  },
  {
   "attachments": {},
   "cell_type": "markdown",
   "id": "e8368312",
   "metadata": {},
   "source": [
    "If you want to customize the behavior of this function, you can pass a callback as an argument:"
   ]
  },
  {
   "cell_type": "code",
   "execution_count": 13,
   "id": "1758c01b",
   "metadata": {},
   "outputs": [
    {
     "name": "stdout",
     "output_type": "stream",
     "text": [
      "8\n",
      "15\n"
     ]
    }
   ],
   "source": [
    "def multiply_numbers(a, b):\n",
    "    return a * b\n",
    "\n",
    "def apply_operation(func, a, b):\n",
    "    return func(a, b)\n",
    "\n",
    "result1 = apply_operation(add_numbers, 5, 3)    # returns 8\n",
    "result2 = apply_operation(multiply_numbers, 5, 3)   # returns 15\n",
    "print (result1)\n",
    "print (result2)"
   ]
  },
  {
   "cell_type": "code",
   "execution_count": 14,
   "id": "503d06be",
   "metadata": {},
   "outputs": [
    {
     "name": "stdout",
     "output_type": "stream",
     "text": [
      "Main function is executed\n",
      "Callback function is executed\n"
     ]
    }
   ],
   "source": [
    "#Another example of callback\n",
    "def my_callback_function():\n",
    "    print(\"Callback function is executed\")\n",
    "\n",
    "def my_main_function(callback):\n",
    "    print(\"Main function is executed\")\n",
    "    callback()\n",
    "\n",
    "my_main_function(my_callback_function)\n"
   ]
  },
  {
   "attachments": {},
   "cell_type": "markdown",
   "id": "b7ac3553",
   "metadata": {},
   "source": [
    "In this example, we define two functions `add_numbers` and `multiply_numbers` that perform addition and multiplication, respectively. We also define a function called `apply_operation` that takes a function `func` and two arguments `a` and `b`, and applies the function `func` to the two arguments. We then call the `apply_operation` function twice, passing `add_numbers` and `multiply_numbers` as the func argument, and `5` and `3` as the `a` and `b` arguments. The `apply_operation` function then calls the `add_numbers` and `multiply_numbers` functions, respectively, passing `5` and `3` as the arguments, and returns the result."
   ]
  },
  {
   "attachments": {},
   "cell_type": "markdown",
   "id": "85763700",
   "metadata": {},
   "source": [
    "### What's the difference between a decorator and a callback?\n",
    "\n",
    "Let's use a cooking analogy to explain the difference between a decorator and a callback.\n",
    "\n",
    "A `decorator` is like adding seasoning to a dish. Imagine you're cooking a simple pasta dish, but you want to make it a bit more flavorful. So, you add some salt, pepper, and garlic to the dish. These ingredients don't fundamentally change the pasta, but they enhance the flavor and make it more enjoyable to eat. Similarly, a decorator adds extra functionality to a function without changing its core functionality.\n",
    "\n",
    "A `callback` is like a notification on your phone. You're busy doing something else, but you want to be notified when something important happens, such as receiving a message or an email. So, you set up your phone to notify you when these events occur. When they do, your phone interrupts whatever you're doing to notify you of the event. Similarly, a callback is a function that is passed as an argument to another function or method, and is called at a specific point during the execution of that function or method. It notifies you of a specific event or condition during the execution of the function or method.\n",
    "\n",
    "So, the main difference between a `decorator` and a `callback` is that a decorator modifies the behavior of a function from within that function, while a callback allows the calling code to modify the behavior of a function from outside that function"
   ]
  },
  {
   "attachments": {},
   "cell_type": "markdown",
   "id": "901bfc67",
   "metadata": {},
   "source": [
    "### Putting it all together\n",
    "\n",
    "Decorators + Callbacks = powerful customization before, during and after the main function’s execution without increasing the complexity of the code.This duo can be used to create powerful ML training scripts that are highly customizable in future lessons."
   ]
  },
  {
   "cell_type": "code",
   "execution_count": 15,
   "id": "1146af16",
   "metadata": {},
   "outputs": [
    {
     "name": "stdout",
     "output_type": "stream",
     "text": [
      "3\n"
     ]
    },
    {
     "data": {
      "text/plain": [
       "[1, 2, 3]"
      ]
     },
     "execution_count": 15,
     "metadata": {},
     "output_type": "execute_result"
    }
   ],
   "source": [
    "from functools import wraps\n",
    "\n",
    "# Decorator\n",
    "def add(f):\n",
    "    @wraps(f)\n",
    "    def wrap(*args, **kwargs):\n",
    "        \"\"\"Wrapper function for @add.\"\"\"\n",
    "        x = kwargs.pop(\"x\") # .get() if not altering x\n",
    "        x += 1 # executes before function f\n",
    "        x = f(*args, **kwargs, x=x)\n",
    "        # can do things post function f as well\n",
    "        return x\n",
    "    return wrap\n",
    "\n",
    "# Callback\n",
    "class x_tracker(object):\n",
    "    def __init__(self, x):\n",
    "        self.history = [x]\n",
    "    def at_start(self, x):\n",
    "        self.history.append(x)\n",
    "    def at_end(self, x):\n",
    "        self.history.append(x)\n",
    "\n",
    "# Main function\n",
    "@add\n",
    "def operations(x, callbacks=[]):\n",
    "    \"\"\"Basic operations.\"\"\"\n",
    "    for callback in callbacks:\n",
    "        callback.at_start(x)\n",
    "    x += 1\n",
    "    for callback in callbacks:\n",
    "        callback.at_end(x)\n",
    "    return x\n",
    "\n",
    "x = 1\n",
    "tracker = x_tracker(x=x)\n",
    "a = operations(x=x, callbacks=[tracker])\n",
    "print (a)\n",
    "\n",
    "tracker.history\n",
    "\n"
   ]
  }
 ],
 "metadata": {
  "kernelspec": {
   "display_name": "base",
   "language": "python",
   "name": "python3"
  },
  "language_info": {
   "codemirror_mode": {
    "name": "ipython",
    "version": 3
   },
   "file_extension": ".py",
   "mimetype": "text/x-python",
   "name": "python",
   "nbconvert_exporter": "python",
   "pygments_lexer": "ipython3",
   "version": "3.9.12"
  },
  "vscode": {
   "interpreter": {
    "hash": "02ffa660b6f6d9be8cca427b74bc9cb87fea4b28c9e17012788bc534d238c364"
   }
  }
 },
 "nbformat": 4,
 "nbformat_minor": 5
}
