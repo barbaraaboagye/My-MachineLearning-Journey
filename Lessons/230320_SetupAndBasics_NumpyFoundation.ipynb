{
 "cells": [
  {
   "cell_type": "markdown",
   "id": "886467ac-de7e-46bc-a55e-6fd21277147b",
   "metadata": {},
   "source": [
    "<div align=\"center\">\n",
    "    <h1> My Machine Learning Journey</h1>\n",
    "Civl Engineer · Researcher Youtuber · Machine Learning Engineer (The Goal)\n",
    "    <br>\n",
    "    Sharing and documenting my progress and journey as I learn machine learning\n",
    "     <br>\n",
    "</div>\n",
    "\n",
    "<br>\n",
    "\n",
    "<div align=\"center\">\n",
    "    <a target=\"_blank\" href=\"https://github.com/barbaraaboagye/My-MachineLearning-Journey\"><img src=\"https://img.shields.io/github/last-commit/barbaraaboagye/My-MachineLearning-Journey\"></a>&nbsp;\n",
    "      <a target=\"_blank\" href=\"https://www.youtube.com/channel/UCEYKFq7ZEg81GYxpzNqYZ4)\"><img src=\"https://img.shields.io/youtube/channel/subscribers/UCEYKFq7ZEg81GYxpzNqYZ4Q?style=social\"></a>&nbsp;\n",
    "    <a target=\"_blank\" href=\"https://fr.linkedin.com/in/barbara-aboagye-233ba8133\"><img src=\"https://img.shields.io/badge/style--5eba00.svg?label=LinkedIn&logo=linkedin&style=social\"></a>&nbsp;\n",
    "    <a target=\"_blank\" href=\"https://twitter.com/awesome_ama\"><img src=\"https://img.shields.io/twitter/follow/awesome_ama?style=social\"></a>\n",
    "    <br>\n",
    "</div>\n",
    "\n",
    "<br>"
   ]
  },
  {
   "attachments": {},
   "cell_type": "markdown",
   "id": "45b714aa-02f9-45ac-b2bf-e83b34b0c093",
   "metadata": {
    "jp-MarkdownHeadingCollapsed": true,
    "tags": []
   },
   "source": [
    "# Topic - Day x of x\n",
    "\n",
    "Hours completed : 1 hour <br>\n",
    "\n",
    "I went over last weeks lessons and started the basics of numpy"
   ]
  },
  {
   "attachments": {},
   "cell_type": "markdown",
   "id": "39e4c6e7-9871-4211-8c4e-94bc180dc5f4",
   "metadata": {
    "jp-MarkdownHeadingCollapsed": true,
    "tags": []
   },
   "source": [
    "# Resources used : \n",
    "\n",
    "- [Foundation- Numpy](https://madewithml.com/courses/foundations/numpy/)\n",
    "<br>\n",
    "\n",
    "Handwritten notes can be found [here][def]\n",
    "\n",
    "[def]: https://github.com/barbaraaboagye/My-MachineLearning-Journey/blob/2e5cb0bf0dd262ee28e85f0b6cdbc91441a57423/Handwritten%20notes/230320_SetupAndBasics_NumpyFoundation.pdf"
   ]
  },
  {
   "attachments": {},
   "cell_type": "markdown",
   "id": "9ad6871e",
   "metadata": {},
   "source": [
    "### Numpy\n",
    "This package is used for performing numerical analysis"
   ]
  },
  {
   "attachments": {},
   "cell_type": "markdown",
   "id": "48cdb024",
   "metadata": {},
   "source": [
    "### Setup\n",
    "\n",
    "Import the `numpy` package and set seed of reproducibility. This ensures that everytime a randomm bumber is generated, the same results are obtained"
   ]
  },
  {
   "cell_type": "code",
   "execution_count": 1,
   "id": "0dd1ee3d",
   "metadata": {},
   "outputs": [],
   "source": [
    "import numpy as np"
   ]
  },
  {
   "attachments": {},
   "cell_type": "markdown",
   "id": "cdf4d7c2",
   "metadata": {},
   "source": [
    "### Random numbers generation\n",
    "When you generate random numbers using a computer program, the numbers are not truly random, but are instead generated using a deterministic algorithm. The example below has different random numbers for `a` and `b`. Whenever the code is run. The values of `a` and `b` keeps on changing. To solve this a seed can be defined\n"
   ]
  },
  {
   "cell_type": "code",
   "execution_count": 18,
   "id": "b472c812",
   "metadata": {},
   "outputs": [
    {
     "name": "stdout",
     "output_type": "stream",
     "text": [
      "a : [0.26800864 0.24307673 0.7893055  0.37798441 0.79447948]\n",
      "b : [0.86733103 0.79581463 0.91718092 0.27112277 0.76085495]\n"
     ]
    }
   ],
   "source": [
    "a = np.random.rand(5)\n",
    "b = np.random.rand(5)\n",
    "print (\"a :\", a)\n",
    "print (\"b :\", b)\n"
   ]
  },
  {
   "attachments": {},
   "cell_type": "markdown",
   "id": "0d781102",
   "metadata": {},
   "source": [
    "The algorithm is initialized with a starting value, known as the `seed`. By setting the `seed` to a fixed value, you can ensure that the sequence of random numbers generated is reproducible - i.e., if you run the same program with the same `seed`, you will get the same sequence of random numbers every time. The `seed` is a set of arbitrary numbers that the user defines. The `seed` should be intialised every time the random number generator is executed. In the case of np.random.seed(seed=1234) in the example belpw, the np.random.seed() function is a method provided by the NumPy library that sets the seed value for the NumPy random number generator. This means that any subsequent calls to NumPy's random number generator will produce the same sequence of random numbers as long as the seed is not changed.\n",
    "\n",
    "For example, if you call np.random.rand(5) after setting the seed to 1234, you will get the same sequence of 5 random numbers every time you run the program:"
   ]
  },
  {
   "cell_type": "code",
   "execution_count": 19,
   "id": "186fce89",
   "metadata": {},
   "outputs": [
    {
     "name": "stdout",
     "output_type": "stream",
     "text": [
      "[0.19151945 0.62210877 0.43772774 0.78535858 0.77997581]\n",
      "[0.19151945 0.62210877 0.43772774 0.78535858 0.77997581]\n"
     ]
    }
   ],
   "source": [
    "## Generate random numbers and initialise the seed. \n",
    "\n",
    "np.random.seed(seed =1234)\n",
    "print(np.random.rand(5)) # Output : [0.19151945 0.62210877 0.43772774 0.78535858 0.77997581]\n",
    "np.random.seed(seed =1234)\n",
    "print(np.random.rand(5)) # Output : [0.19151945 0.62210877 0.43772774 0.78535858 0.77997581]"
   ]
  },
  {
   "cell_type": "code",
   "execution_count": 9,
   "id": "5836c1d3",
   "metadata": {},
   "outputs": [
    {
     "name": "stdout",
     "output_type": "stream",
     "text": [
      "[0.0955492  0.9250037  0.34357342 0.31047694 0.00200984]\n"
     ]
    }
   ],
   "source": []
  },
  {
   "attachments": {},
   "cell_type": "markdown",
   "id": "409dd568",
   "metadata": {},
   "source": [
    "### Mathematical objects in linear algebra - Basic\n",
    "\n",
    "- Scalar (0D tensor) : a single value. Eg. 6\n",
    "- Vector (1D tensor) : row or column of values. Eg : [1 2 3] - row vector, $[1 2 3]^T$ - column vector\n",
    "- Matrix (2D tensor) : and array of rows and columnns of values with different sizes. \n",
    "- 3D  tensor         : arrays of rows and columns with 3 dimensions\n"
   ]
  }
 ],
 "metadata": {
  "kernelspec": {
   "display_name": "base",
   "language": "python",
   "name": "python3"
  },
  "language_info": {
   "codemirror_mode": {
    "name": "ipython",
    "version": 3
   },
   "file_extension": ".py",
   "mimetype": "text/x-python",
   "name": "python",
   "nbconvert_exporter": "python",
   "pygments_lexer": "ipython3",
   "version": "3.9.12"
  },
  "vscode": {
   "interpreter": {
    "hash": "02ffa660b6f6d9be8cca427b74bc9cb87fea4b28c9e17012788bc534d238c364"
   }
  }
 },
 "nbformat": 4,
 "nbformat_minor": 5
}
