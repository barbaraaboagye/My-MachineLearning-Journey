{
 "cells": [
  {
   "cell_type": "markdown",
   "id": "886467ac-de7e-46bc-a55e-6fd21277147b",
   "metadata": {},
   "source": [
    "<div align=\"center\">\n",
    "    <h1> My Machine Learning Journey</h1>\n",
    "Civl Engineer · Researcher Youtuber · Machine Learning Engineer (The Goal)\n",
    "    <br>\n",
    "    Sharing and documenting my progress and journey as I learn machine learning\n",
    "     <br>\n",
    "</div>\n",
    "\n",
    "<br>\n",
    "\n",
    "<div align=\"center\">\n",
    "    <a target=\"_blank\" href=\"https://github.com/barbaraaboagye/My-MachineLearning-Journey\"><img src=\"https://img.shields.io/github/last-commit/barbaraaboagye/My-MachineLearning-Journey\"></a>&nbsp;\n",
    "      <a target=\"_blank\" href=\"https://www.youtube.com/channel/UCEYKFq7ZEg81GYxpzNqYZ4)\"><img src=\"https://img.shields.io/youtube/channel/subscribers/UCEYKFq7ZEg81GYxpzNqYZ4Q?style=social\"></a>&nbsp;\n",
    "    <a target=\"_blank\" href=\"https://fr.linkedin.com/in/barbara-aboagye-233ba8133\"><img src=\"https://img.shields.io/badge/style--5eba00.svg?label=LinkedIn&logo=linkedin&style=social\"></a>&nbsp;\n",
    "    <a target=\"_blank\" href=\"https://twitter.com/awesome_ama\"><img src=\"https://img.shields.io/twitter/follow/awesome_ama?style=social\"></a>\n",
    "    <br>\n",
    "</div>\n",
    "\n",
    "<br>"
   ]
  },
  {
   "attachments": {},
   "cell_type": "markdown",
   "id": "45b714aa-02f9-45ac-b2bf-e83b34b0c093",
   "metadata": {
    "jp-MarkdownHeadingCollapsed": true,
    "tags": []
   },
   "source": [
    "# Indexing and Arithmetic - Day x of x\n",
    "\n",
    "Hours completed : 1 hour <br>\n"
   ]
  },
  {
   "attachments": {},
   "cell_type": "markdown",
   "id": "39e4c6e7-9871-4211-8c4e-94bc180dc5f4",
   "metadata": {
    "jp-MarkdownHeadingCollapsed": true,
    "tags": []
   },
   "source": [
    "# Resources used : \n",
    "\n",
    "- [Foundation- Numpy](https://madewithml.com/courses/foundations/numpy/)\n",
    "<br>\n",
    "\n",
    "Handwritten notes can be found [here][def]\n",
    "\n",
    "[def]: https://github.com/barbaraaboagye/My-MachineLearning-Journey/blob/22935dfb6f501cf161bf059921b1a2693c99ae80/Handwritten%20notes/230321_IndexingAndArithmetic_NumpyFoundation.pdf "
   ]
  },
  {
   "attachments": {},
   "cell_type": "markdown",
   "id": "9ad6871e",
   "metadata": {},
   "source": [
    "### Numpy\n",
    "This package is used for performing numerical analysis"
   ]
  },
  {
   "attachments": {},
   "cell_type": "markdown",
   "id": "48cdb024",
   "metadata": {},
   "source": [
    "### Setup\n",
    "\n",
    "Import the `numpy` package and set seed of reproducibility. This ensures that everytime a random number is generated, the same results are obtained"
   ]
  },
  {
   "cell_type": "code",
   "execution_count": 2,
   "id": "0dd1ee3d",
   "metadata": {},
   "outputs": [],
   "source": [
    "import numpy as np"
   ]
  },
  {
   "cell_type": "code",
   "execution_count": 3,
   "id": "186fce89",
   "metadata": {},
   "outputs": [
    {
     "name": "stdout",
     "output_type": "stream",
     "text": [
      "[0.19151945 0.62210877 0.43772774 0.78535858 0.77997581]\n",
      "[0.19151945 0.62210877 0.43772774 0.78535858 0.77997581]\n"
     ]
    }
   ],
   "source": [
    "## Generate random numbers and initialise the seed. \n",
    "\n",
    "np.random.seed(seed =1234)\n",
    "print(np.random.rand(5)) # Output : [0.19151945 0.62210877 0.43772774 0.78535858 0.77997581]\n",
    "np.random.seed(seed =1234)\n",
    "print(np.random.rand(5)) # Output : [0.19151945 0.62210877 0.43772774 0.78535858 0.77997581]"
   ]
  },
  {
   "attachments": {},
   "cell_type": "markdown",
   "id": "409dd568",
   "metadata": {},
   "source": [
    "### Mathematical objects in linear algebra - Basic\n",
    "\n",
    "- Scalar (0D tensor) : a single value. Eg. 6\n",
    "- Vector (1D tensor) : row or column of values. Eg : [1 2 3] - row vector, $[1 2 3]^T$ - column vector\n",
    "- Matrix (2D tensor) : and array of rows and columnns of values with different sizes. \n",
    "- 3D  tensor         : arrays of rows and columns with 3 dimensions\n",
    "\n",
    "Note : When np.array([]) is not used. Element is not considered to be an array. could be a list or tuple, etc"
   ]
  },
  {
   "cell_type": "code",
   "execution_count": 6,
   "id": "766b373b",
   "metadata": {},
   "outputs": [
    {
     "name": "stdout",
     "output_type": "stream",
     "text": [
      "x: 6\n",
      "x ndim: 0\n",
      "x shape: ()\n",
      "x size: 1\n",
      "x dtype: int64\n"
     ]
    }
   ],
   "source": [
    "# Scalar\n",
    "x = np.array(6)\n",
    "print (\"x:\", x)\n",
    "print(\"x ndim:\",x.ndim) #number of dimensions\n",
    "print (\"x shape:\", x.shape) #dimensions\n",
    "print (\"x size:\", x.size) #size of elements\n",
    "print (\"x dtype:\", x.dtype) #data type"
   ]
  },
  {
   "cell_type": "code",
   "execution_count": 7,
   "id": "2f62e5ee",
   "metadata": {},
   "outputs": [
    {
     "name": "stdout",
     "output_type": "stream",
     "text": [
      "x: [1.2 2.2 3.3]\n",
      "x ndim: 1\n",
      "x shape: (3,)\n",
      "x size: 3\n",
      "x dtype: float64\n"
     ]
    }
   ],
   "source": [
    "# Vector\n",
    "x = np.array([1.2, 2.2 ,3.3]) #vectors are in square brackets\n",
    "print (\"x:\", x)\n",
    "print(\"x ndim:\",x.ndim) #number of dimensions\n",
    "print (\"x shape:\", x.shape) #dimensions\n",
    "print (\"x size:\", x.size) #size of elements\n",
    "print (\"x dtype:\", x.dtype) #data type #float datatype"
   ]
  },
  {
   "cell_type": "code",
   "execution_count": 11,
   "id": "512cb5cf",
   "metadata": {},
   "outputs": [
    {
     "name": "stdout",
     "output_type": "stream",
     "text": [
      "x:\n",
      " [[1 2]\n",
      " [3 4]\n",
      " [4 5]]\n",
      "x ndim: 2\n",
      "x shape: (3, 2)\n",
      "x size: 6\n",
      "x dtype: int64\n"
     ]
    }
   ],
   "source": [
    "# Matrix\n",
    "x = np.array([[1,2],[3,4],[4,5]])\n",
    "\n",
    "print (\"x:\\n\", x)\n",
    "print(\"x ndim:\",x.ndim) #number of dimensions\n",
    "print (\"x shape:\", x.shape) #dimensions = number of rows x number of columns\n",
    "print (\"x size:\", x.size) #size of elements\n",
    "print (\"x dtype:\", x.dtype) #data type #float datatype"
   ]
  },
  {
   "cell_type": "code",
   "execution_count": 15,
   "id": "9eeea66c",
   "metadata": {},
   "outputs": [
    {
     "name": "stdout",
     "output_type": "stream",
     "text": [
      "x:\n",
      " [[[1 2]\n",
      "  [3 4]\n",
      "  [4 5]\n",
      "  [6 7]\n",
      "  [7 8]]]\n",
      "x ndim: 3\n",
      "x shape: (1, 5, 2)\n",
      "x size: 10\n",
      "x dtype: int64\n"
     ]
    }
   ],
   "source": [
    "# 3-D tensor\n",
    "x = np.array([[[1,2],[3,4],[4,5],[6,7],[7,8]]]) #number of square brackets determines the dimension\n",
    "print (\"x:\\n\", x)\n",
    "print(\"x ndim:\",x.ndim) #number of dimensions\n",
    "print (\"x shape:\", x.shape) #dimensions = number of rows x number of columns\n",
    "print (\"x size:\", x.size) #size of elements\n",
    "print (\"x dtype:\", x.dtype) #data type #float datatype"
   ]
  },
  {
   "attachments": {},
   "cell_type": "markdown",
   "id": "eb2eaacb",
   "metadata": {},
   "source": [
    "Here, `x` is a 3-D array with dimensions, because the array is enclosed in three sets of square brackets which gives the shape `(1, 5, 2)`, indicating one block of five rows and two columns, and a total of 10 elements.  \n",
    "\n",
    "Each element in the array corresponds to a single value in the block, which gives a total of 5*2=10 elements"
   ]
  },
  {
   "attachments": {},
   "cell_type": "markdown",
   "id": "3cacd630",
   "metadata": {},
   "source": [
    "In NumPy, the number of square brackets used to create an array can be used to determine its number of dimensions. Here's a summary of the number of square brackets used for creating arrays of different dimensions:\n",
    "\n",
    "- Scalar: A scalar is represented by a 0-dimensional array, and it has no square brackets. For example, `x = np.array(3)` creates a scalar with the value 3.\n",
    "\n",
    "- Vector: A vector is represented by a 1-dimensional array, and it has one set of square brackets. For example, `x = np.array([1, 2, 3])` creates a vector with three elements.\n",
    "\n",
    "- Matrix: A matrix is represented by a 2-dimensional array, and it has two sets of square brackets. For example, `x = np.array([[1, 2], [3, 4]])` creates a matrix with two rows and two columns.\n",
    "\n",
    "- Tensor: A tensor is represented by an array with more than two dimensions, and it has more than two sets of square brackets. For example, `x = np.array([[[1, 2], [3, 4]], [[5, 6], [7, 8]]])` creates a 3-dimensional tensor with two 2x2 matrices.\n",
    "\n",
    "So, to summarize:\n",
    "\n",
    "- Scalar: 0 sets of square brackets\n",
    "- Vector: 1 set of square brackets\n",
    "- Matrix: 2 sets of square brackets\n",
    "- Tensor: more than 2 sets of square bracket"
   ]
  },
  {
   "cell_type": "markdown",
   "id": "c5496b55",
   "metadata": {},
   "source": [
    "There are several inbuilt functions in numpy to allow for the easy creation of tensors"
   ]
  },
  {
   "cell_type": "code",
   "execution_count": 16,
   "id": "f77864d8",
   "metadata": {},
   "outputs": [
    {
     "name": "stdout",
     "output_type": "stream",
     "text": [
      "np.zeros((2,2)):\n",
      " [[0. 0.]\n",
      " [0. 0.]]\n",
      "np.ones((2,2)):\n",
      " [[1. 1.]\n",
      " [1. 1.]]\n",
      "np.eye((2)):\n",
      " [[1. 0.]\n",
      " [0. 1.]]\n",
      "np.random.random((2,2)):\n",
      " [[0.27259261 0.27646426]\n",
      " [0.80187218 0.95813935]]\n"
     ]
    }
   ],
   "source": [
    "# Functions\n",
    "print (\"np.zeros((2,2)):\\n\", np.zeros((2,2)))\n",
    "print (\"np.ones((2,2)):\\n\", np.ones((2,2)))\n",
    "print (\"np.eye((2)):\\n\", np.eye((2))) # identity matrix\n",
    "print (\"np.random.random((2,2)):\\n\", np.random.random((2,2)))\n"
   ]
  },
  {
   "cell_type": "markdown",
   "id": "8846aaf0",
   "metadata": {},
   "source": [
    "## Indexing\n",
    "\n",
    "Specific values can be extracted using indexing. Indices start with 0 and one can use negative indices as well where -1 is the last item"
   ]
  },
  {
   "cell_type": "code",
   "execution_count": 30,
   "id": "db895305",
   "metadata": {},
   "outputs": [
    {
     "name": "stdout",
     "output_type": "stream",
     "text": [
      "[[ 1  2  3  4]\n",
      " [ 5  6  7  8]\n",
      " [ 9 10 11 12]]\n"
     ]
    },
    {
     "data": {
      "text/plain": [
       "array([[2, 3],\n",
       "       [6, 7]])"
      ]
     },
     "execution_count": 30,
     "metadata": {},
     "output_type": "execute_result"
    }
   ],
   "source": [
    "# Indexing\n",
    "x = np.array([[1,2,3,4], [5,6,7,8] , [9,10,11,12]])\n",
    "print (x)\n",
    "x.shape\n",
    "x[0:2,1:3] # last element mentioned is not included. Interested in elements in row 0 and 1 and column 1 and 2"
   ]
  },
  {
   "cell_type": "code",
   "execution_count": 32,
   "id": "478d9f17",
   "metadata": {},
   "outputs": [
    {
     "name": "stdout",
     "output_type": "stream",
     "text": [
      "x: [1 2 3]\n",
      "x[0] : 1\n",
      "x: [0 2 3]\n"
     ]
    }
   ],
   "source": [
    "x = np.array([1,2,3])\n",
    "print (\"x:\",x)\n",
    "print(\"x[0] :\",x[0])\n",
    "x[0] = 0 # changing the value of x[0]\n",
    "print (\"x:\",x)"
   ]
  },
  {
   "cell_type": "code",
   "execution_count": 33,
   "id": "d1d3ca85",
   "metadata": {},
   "outputs": [
    {
     "name": "stdout",
     "output_type": "stream",
     "text": [
      "[[ 1  2  3  4]\n",
      " [ 5  6  7  8]\n",
      " [ 9 10 11 12]]\n",
      "x column 1:  [ 2  6 10]\n",
      "x row 0:  [1 2 3 4]\n",
      "x rows 0,1 & cols 1,2: \n",
      " [[2 3]\n",
      " [6 7]]\n"
     ]
    }
   ],
   "source": [
    "# Slicing\n",
    "\n",
    "x = np.array([[1,2,3,4], [5,6,7,8], [9,10,11,12]])\n",
    "print (x)\n",
    "print (\"x column 1: \", x[:, 1])\n",
    "print (\"x row 0: \", x[0, :])\n",
    "print (\"x rows 0,1 & cols 1,2: \\n\", x[0:2, 1:3])\n"
   ]
  },
  {
   "cell_type": "code",
   "execution_count": 34,
   "id": "21886cb6",
   "metadata": {},
   "outputs": [
    {
     "name": "stdout",
     "output_type": "stream",
     "text": [
      "[[ 1  2  3  4]\n",
      " [ 5  6  7  8]\n",
      " [ 9 10 11 12]]\n",
      "rows_to_get:  [0 1 2]\n",
      "cols_to_get:  [0 2 1]\n",
      "indexed values:  [ 1  7 10]\n"
     ]
    }
   ],
   "source": [
    "# Integer array indexing\n",
    "\n",
    "print (x)\n",
    "rows_to_get = np.array([0, 1, 2])\n",
    "print (\"rows_to_get: \", rows_to_get)\n",
    "cols_to_get = np.array([0, 2, 1])\n",
    "print (\"cols_to_get: \", cols_to_get)\n",
    "# Combine sequences above to get values to get\n",
    "print (\"indexed values: \", x[rows_to_get, cols_to_get]) # (0, 0), (1, 2), (2, 1)\n"
   ]
  },
  {
   "cell_type": "code",
   "execution_count": 35,
   "id": "c21a394a",
   "metadata": {},
   "outputs": [
    {
     "name": "stdout",
     "output_type": "stream",
     "text": [
      "x:\n",
      " [[1 2]\n",
      " [3 4]\n",
      " [5 6]]\n",
      "x > 2:\n",
      " [[False False]\n",
      " [ True  True]\n",
      " [ True  True]]\n",
      "x[x > 2]:\n",
      " [3 4 5 6]\n"
     ]
    }
   ],
   "source": [
    "# Boolean array indexing\n",
    "\n",
    "x = np.array([[1, 2], [3, 4], [5, 6]])\n",
    "print (\"x:\\n\", x)\n",
    "print (\"x > 2:\\n\", x > 2)\n",
    "print (\"x[x > 2]:\\n\", x[x > 2])\n"
   ]
  },
  {
   "cell_type": "markdown",
   "id": "00e91073",
   "metadata": {},
   "source": [
    "### Arithmetic\n"
   ]
  },
  {
   "cell_type": "code",
   "execution_count": 43,
   "id": "f14af31d",
   "metadata": {},
   "outputs": [
    {
     "name": "stdout",
     "output_type": "stream",
     "text": [
      "x+y = \n",
      " [[2. 4.]\n",
      " [6. 8.]]\n",
      "x-y = \n",
      " [[0. 0.]\n",
      " [0. 0.]]\n",
      "x*y = \n",
      " [[ 1.  4.]\n",
      " [ 9. 16.]]\n"
     ]
    }
   ],
   "source": [
    "# Basic math\n",
    "\n",
    "x = np.array([[1,2],[3,4]],dtype=np.float64)\n",
    "y = np.array([[1,2],[3,4]],dtype =np.float64)\n",
    "print(\"x+y = \\n\", np.add(x,y))\n",
    "print(\"x-y = \\n\", np.subtract(x,y))\n",
    "print(\"x*y = \\n\", np.multiply(x,y))\n"
   ]
  },
  {
   "cell_type": "code",
   "execution_count": 55,
   "id": "f5e9232f",
   "metadata": {},
   "outputs": [
    {
     "data": {
      "text/plain": [
       "12"
      ]
     },
     "execution_count": 55,
     "metadata": {},
     "output_type": "execute_result"
    }
   ],
   "source": [
    "\n"
   ]
  },
  {
   "cell_type": "markdown",
   "id": "eb3f9ea0",
   "metadata": {},
   "source": []
  }
 ],
 "metadata": {
  "kernelspec": {
   "display_name": "base",
   "language": "python",
   "name": "python3"
  },
  "language_info": {
   "codemirror_mode": {
    "name": "ipython",
    "version": 3
   },
   "file_extension": ".py",
   "mimetype": "text/x-python",
   "name": "python",
   "nbconvert_exporter": "python",
   "pygments_lexer": "ipython3",
   "version": "3.9.12"
  },
  "vscode": {
   "interpreter": {
    "hash": "02ffa660b6f6d9be8cca427b74bc9cb87fea4b28c9e17012788bc534d238c364"
   }
  }
 },
 "nbformat": 4,
 "nbformat_minor": 5
}
