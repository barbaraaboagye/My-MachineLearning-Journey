{
 "cells": [
  {
   "cell_type": "markdown",
   "id": "886467ac-de7e-46bc-a55e-6fd21277147b",
   "metadata": {},
   "source": [
    "<div align=\"center\">\n",
    "    <h1> My Machine Learning Journey</h1>\n",
    "Civl Engineer · Researcher Youtuber · Machine Learning Engineer (The Goal)\n",
    "    <br>\n",
    "    Sharing and documenting my progress and journey as I learn machine learning\n",
    "     <br>\n",
    "</div>\n",
    "\n",
    "<br>\n",
    "\n",
    "<div align=\"center\">\n",
    "    <a target=\"_blank\" href=\"https://github.com/barbaraaboagye/My-MachineLearning-Journey\"><img src=\"https://img.shields.io/github/last-commit/barbaraaboagye/My-MachineLearning-Journey\"></a>&nbsp;\n",
    "      <a target=\"_blank\" href=\"https://www.youtube.com/channel/UCEYKFq7ZEg81GYxpzNqYZ4)\"><img src=\"https://img.shields.io/youtube/channel/subscribers/UCEYKFq7ZEg81GYxpzNqYZ4Q?style=social\"></a>&nbsp;\n",
    "    <a target=\"_blank\" href=\"https://fr.linkedin.com/in/barbara-aboagye-233ba8133\"><img src=\"https://img.shields.io/badge/style--5eba00.svg?label=LinkedIn&logo=linkedin&style=social\"></a>&nbsp;\n",
    "    <a target=\"_blank\" href=\"https://twitter.com/awesome_ama\"><img src=\"https://img.shields.io/twitter/follow/awesome_ama?style=social\"></a>\n",
    "    <br>\n",
    "</div>\n",
    "\n",
    "<br>"
   ]
  },
  {
   "attachments": {},
   "cell_type": "markdown",
   "id": "45b714aa-02f9-45ac-b2bf-e83b34b0c093",
   "metadata": {
    "jp-MarkdownHeadingCollapsed": true,
    "tags": []
   },
   "source": [
    "# Dot product, Axis Operation and Broadcating - Day x of x\n",
    "\n",
    "Hours completed : 1 hr 20mins <br>\n",
    "\n"
   ]
  },
  {
   "attachments": {},
   "cell_type": "markdown",
   "id": "39e4c6e7-9871-4211-8c4e-94bc180dc5f4",
   "metadata": {
    "jp-MarkdownHeadingCollapsed": true,
    "tags": []
   },
   "source": [
    "# Resources used : \n",
    "\n",
    "- [Foundation- Numpy](https://madewithml.com/courses/foundations/numpy/)\n",
    "<br>\n",
    "\n",
    "Handwritten notes can be found [here][def]\n",
    "\n",
    "[def]: https://github.com/barbaraaboagye/My-MachineLearning-Journey/blob/55efe34e3ae6057fdca704ffdd69321298b2372c/Handwritten%20notes/230322_DotProductAxisOperationAndBroadcast_NumpyFoundation.ipynb"
   ]
  },
  {
   "attachments": {},
   "cell_type": "markdown",
   "id": "0dd1ee3d",
   "metadata": {},
   "source": [
    "### Dot product\n",
    "\n",
    "The inside dimension of the matrix must match."
   ]
  },
  {
   "cell_type": "code",
   "execution_count": 66,
   "id": "1b74e738",
   "metadata": {},
   "outputs": [],
   "source": [
    "import numpy as np"
   ]
  },
  {
   "cell_type": "code",
   "execution_count": 67,
   "id": "409dd568",
   "metadata": {},
   "outputs": [
    {
     "name": "stdout",
     "output_type": "stream",
     "text": [
      "(2, 3) . (3, 2) = (2, 2)\n",
      "[[ 58  64]\n",
      " [139 154]]\n"
     ]
    }
   ],
   "source": [
    "# Dot product\n",
    "a = np.array([[1,2,3],[4,5,6]])\n",
    "b = np.array([[7,8],[9,10],[11,12]]) \n",
    "c = a.dot(b)\n",
    "\n",
    "print(f\"{a.shape} . {b.shape} = {c.shape}\")\n",
    "print(c)"
   ]
  },
  {
   "attachments": {},
   "cell_type": "markdown",
   "id": "37d82bc7",
   "metadata": {},
   "source": [
    "The inner dimensions of `a` and `b` are the same, that is `3` so a dot product can be performeed. The results is a `2 x 2` matrix "
   ]
  },
  {
   "cell_type": "code",
   "execution_count": 68,
   "id": "2d304af6",
   "metadata": {},
   "outputs": [
    {
     "name": "stdout",
     "output_type": "stream",
     "text": [
      "(2, 3)\n",
      "(1, 4)\n"
     ]
    }
   ],
   "source": [
    "# When the inner dimensions are not the same. \n",
    "b = np.array([[1,2,3,4]])\n",
    "print(a.shape)\n",
    "print(b.shape)\n",
    "# a.dot(b) An error message : ValueError: shapes (2,2) and (1,4) not aligned: 2 (dim 1) != 1 (dim 0)\n",
    "a = np.array([[1,2],[3,4]])\n"
   ]
  },
  {
   "attachments": {},
   "cell_type": "markdown",
   "id": "d8280e4c",
   "metadata": {},
   "source": [
    "### Axis operation\n",
    "\n",
    "This is cool. It's possible to do operations across axis, i.e. sum all elements in the matric or sum only the rows or columns"
   ]
  },
  {
   "cell_type": "code",
   "execution_count": 69,
   "id": "cf279657",
   "metadata": {},
   "outputs": [
    {
     "name": "stdout",
     "output_type": "stream",
     "text": [
      "[[1 2]\n",
      " [3 4]]\n",
      "sum all: 10\n",
      "sum the comlumn(axis=0): [4 6]\n",
      "sum the row(axis=1): [3 7]\n"
     ]
    }
   ],
   "source": [
    "# Sum across a dimension\n",
    "x = np.array([[1,2],[3,4]])\n",
    "print(x)\n",
    "print (\"sum all:\", np.sum(x)) #add all elements in the matrix\n",
    "print (\"sum the comlumn(axis=0):\",np.sum(x,axis =0)) # sum along rows\n",
    "print (\"sum the row(axis=1):\",np.sum(x,axis =1)) # sum along column"
   ]
  },
  {
   "attachments": {},
   "cell_type": "markdown",
   "id": "38e1c237",
   "metadata": {},
   "source": [
    "When `axis=0`, the operation is performed vertically, i.e., along the rows. For example, if you have a 2-dimensional array `arr` of shape (3, 4), `axis=0` means that the operation is performed on the 3 rows, resulting in a 1-dimensional array of length 4.\n",
    "\n",
    "When `axis=1`, the operation is performed horizontally, i.e., along the columns. For example, if you have the same 2-dimensional array `arr` of shape (3, 4), `axis=1` means that the operation is performed on the 4 columns, resulting in a 1-dimensional array of length 3."
   ]
  },
  {
   "cell_type": "code",
   "execution_count": 70,
   "id": "ae219131",
   "metadata": {},
   "outputs": [
    {
     "name": "stdout",
     "output_type": "stream",
     "text": [
      "min: 1\n",
      "max: 6\n",
      "min axis =0  [1 2 3]\n",
      "min axis =1  [1 4]\n"
     ]
    }
   ],
   "source": [
    "# Min/Max\n",
    "x = np.array([[1,2,3],[4,5,6]])\n",
    "print (\"min:\",x.min())\n",
    "print (\"max:\",x.max())\n",
    "print ('min axis =0 ',x.min(axis = 0)) #operation done vertically (along the columns)\n",
    "print ('min axis =1 ',x.min(axis = 1)) #operation done horiazontally (along the rows)\n",
    "\n"
   ]
  },
  {
   "attachments": {},
   "cell_type": "markdown",
   "id": "8f6c9993",
   "metadata": {},
   "source": [
    "### Broadcast\n",
    "\n",
    "Broadcast allows operations to be performed for tensors with incompatible/different shape, i.e. their inner dimensions are different without the need of copying the data.\n",
    "\n",
    "The basic idea of broadcasting is to perform operations between two arrays of different shapes by \"stretching\" one or both of the arrays to match the shape of the other, so that element-wise operations can be carried out.\n",
    "\n",
    "Here's an example to illustrate how broadcasting works:"
   ]
  },
  {
   "cell_type": "code",
   "execution_count": 71,
   "id": "c0635a5e",
   "metadata": {},
   "outputs": [
    {
     "name": "stdout",
     "output_type": "stream",
     "text": [
      "[2 4 6]\n"
     ]
    }
   ],
   "source": [
    "a = np.array([1, 2, 3]) # vector\n",
    "b = 2  #scalar\n",
    "\n",
    "# Multiply each element of 'a' by 'b'\n",
    "c = a * b\n",
    "\n",
    "print(c)  # Output: [2, 4, 6]\n"
   ]
  },
  {
   "attachments": {},
   "cell_type": "markdown",
   "id": "e06c65ce",
   "metadata": {},
   "source": [
    "In this example, we have an array `a` of shape (3,) and a scalar `b`. We perform element-wise multiplication between `a` and `b` by simply writing `a * b`.\n",
    "\n",
    "Broadcasting allows the scalar `b` to be \"stretched\" or broadcast to match the shape of `a`. In this case, the scalar `b` is \"stretched\" to an array of shape (3,), with each element having the same value as the original scalar. The multiplication operation is then performed element-wise between the two arrays `a` and `b` that now have the same shape. The result is an array `c` of shape (3,) with each element being the product of the corresponding elements in `a` and `b`.\n",
    "\n",
    "Broadcasting can be used to perform operations between arrays of different shapes, as long as the dimensions of the arrays are compatible. The rules of broadcasting are:\n",
    "\n",
    "- If the arrays have the same number of dimensions, but different shapes, NumPy will \"stretch\" the dimensions of the smaller array to match the larger array.\n",
    "\n",
    "- If the arrays have different numbers of dimensions, NumPy will \"stretch\" the smaller array to match the larger array by adding dimensions of size 1 to its shape until the shapes of the two arrays match.\n",
    "\n",
    "- If the arrays have different shapes and cannot be broadcast, NumPy will raise a ValueError.\n",
    "\n",
    "Broadcasting is a very useful feature in NumPy that allows for efficient and concise code when working with arrays of different shapes."
   ]
  },
  {
   "cell_type": "code",
   "execution_count": 72,
   "id": "7b13daee",
   "metadata": {},
   "outputs": [
    {
     "name": "stdout",
     "output_type": "stream",
     "text": [
      "z:\n",
      " [4 5]\n"
     ]
    }
   ],
   "source": [
    "# Another example of broadcasting - The scalar is broadcast across the vector so that they have compatible shapes.\n",
    "\n",
    "x = np.array([1,2]) # vector\n",
    "y = np.array(3) # scalar\n",
    "z = x + y\n",
    "print (\"z:\\n\", z)\n"
   ]
  },
  {
   "cell_type": "code",
   "execution_count": 73,
   "id": "3329ee51",
   "metadata": {},
   "outputs": [
    {
     "name": "stdout",
     "output_type": "stream",
     "text": [
      "[[ 6  7  8]\n",
      " [ 7  8  9]\n",
      " [ 8  9 10]]\n"
     ]
    }
   ],
   "source": [
    "a = np.array((3, 4, 5))\n",
    "b = np.expand_dims(a, axis=1)\n",
    "c = a + b\n",
    "b\n",
    "b.shape\n",
    "#a.shape\n",
    "b.ndim\n",
    "print (c)\n"
   ]
  },
  {
   "attachments": {},
   "cell_type": "markdown",
   "id": "25c0ba23",
   "metadata": {},
   "source": [
    "### Broadcasting problems\n",
    "\n",
    "In the situation below, what is the value of c and what are its dimensions?\n"
   ]
  },
  {
   "cell_type": "code",
   "execution_count": 74,
   "id": "be3a2306",
   "metadata": {},
   "outputs": [
    {
     "name": "stdout",
     "output_type": "stream",
     "text": [
      "[[ 6  7  8]\n",
      " [ 7  8  9]\n",
      " [ 8  9 10]]\n"
     ]
    }
   ],
   "source": [
    "a = np.array((3, 4, 5))\n",
    "b = np.expand_dims(a, axis=1)\n",
    "c = a + b\n",
    "print (c)"
   ]
  },
  {
   "attachments": {},
   "cell_type": "markdown",
   "id": "e50ae52b",
   "metadata": {},
   "source": [
    "Two NumPy arrays `a` and `b` are created, an arithmetic operation is performed on them.\n",
    "\n",
    "The first line creates a NumPy array `a` with the values (3, 4, 5).\n",
    "\n",
    "The second line uses the `np.expand_dims()` function to add a new axis to `a` along axis 1, resulting in a new array `b` with shape (3, 1).\n",
    "\n",
    "Finally, the third line performs an element-wise addition between `a` and `b`. Since `b` has only one column, NumPy broadcasts it to match the shape of `a`, resulting in an array `c` with shape (3, 3) where each element of `a` is added to the corresponding element in `b`. "
   ]
  },
  {
   "attachments": {},
   "cell_type": "markdown",
   "id": "05799ede",
   "metadata": {},
   "source": [
    "If one is not looking to broadcast, it's importatnt to ensure the shape of `a` is the same as the shape of `b`. This is important to avoid unintentioan broadcasting behaviour. To solve this, the shape of a is reshaped"
   ]
  },
  {
   "cell_type": "code",
   "execution_count": 75,
   "id": "8134ad11",
   "metadata": {},
   "outputs": [
    {
     "name": "stdout",
     "output_type": "stream",
     "text": [
      "c\n",
      ": [[ 6]\n",
      " [ 8]\n",
      " [10]]\n",
      "shape of a: (3, 1)\n",
      "shape of b: (3, 1)\n",
      "shape of c: (3, 1)\n"
     ]
    }
   ],
   "source": [
    "a = np.array((3, 4, 5))\n",
    "b = np.expand_dims(a, axis=1)\n",
    "a = a.reshape(-1, 1)\n",
    "c = a + b\n",
    "print (\"c\\n:\",c)\n",
    "print (\"shape of a:\",a.shape) # (3, 1)\n",
    "print (\"shape of b:\", b.shape)\n",
    "print (\"shape of c:\",c.shape) # (3, 1)\n",
    "\n"
   ]
  },
  {
   "attachments": {},
   "cell_type": "markdown",
   "id": "3b4f961a",
   "metadata": {},
   "source": [
    "The code `a.reshape(-1, 1)` is used to reshape the NumPy array `a` into a 2-dimensional array with one column and as many rows as needed, while maintaining the same total number of elements. The `-1` in the first argument of `reshape()` means that the number of rows will be automatically determined based on the size of the array and the size of the second dimension (in this case, one column).\n",
    "\n",
    "\n",
    "The code first creates a NumPy array `a` with shape (3,) and values (3, 4, 5).\n",
    "\n",
    "Then, the `np.expand_dims()` function is used to add a new axis to the array `a` at position 1, which results in the shape (3, 1) for the new array `b`. The new axis adds an extra dimension to the array, and it is useful for performing operations that require arrays with matching shapes.\n",
    "\n",
    "The code then uses `a.reshape(-1, 1)` to reshape the original array `a` into a new array with shape (3, 1). This produces the same result as `b`, which means that `a` and `b` have the same shape and can be added element-wise.\n",
    "\n",
    "Finally, the code performs element-wise addition between the arrays `a` and `b` using the `+` operator, and assigns the result to the new array `c`. Since both `a` and `b` have the same shape, the resulting array `c` will also have shape (3, 1)."
   ]
  }
 ],
 "metadata": {
  "kernelspec": {
   "display_name": "base",
   "language": "python",
   "name": "python3"
  },
  "language_info": {
   "codemirror_mode": {
    "name": "ipython",
    "version": 3
   },
   "file_extension": ".py",
   "mimetype": "text/x-python",
   "name": "python",
   "nbconvert_exporter": "python",
   "pygments_lexer": "ipython3",
   "version": "3.9.12"
  },
  "vscode": {
   "interpreter": {
    "hash": "02ffa660b6f6d9be8cca427b74bc9cb87fea4b28c9e17012788bc534d238c364"
   }
  }
 },
 "nbformat": 4,
 "nbformat_minor": 5
}
