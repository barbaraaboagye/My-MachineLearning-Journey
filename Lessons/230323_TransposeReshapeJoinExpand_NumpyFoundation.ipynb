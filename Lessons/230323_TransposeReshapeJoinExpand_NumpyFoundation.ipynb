{
 "cells": [
  {
   "cell_type": "markdown",
   "id": "886467ac-de7e-46bc-a55e-6fd21277147b",
   "metadata": {},
   "source": [
    "<div align=\"center\">\n",
    "    <h1> My Machine Learning Journey</h1>\n",
    "Civl Engineer · Researcher Youtuber · Machine Learning Engineer (The Goal)\n",
    "    <br>\n",
    "    Sharing and documenting my progress and journey as I learn machine learning\n",
    "     <br>\n",
    "</div>\n",
    "\n",
    "<br>\n",
    "\n",
    "<div align=\"center\">\n",
    "    <a target=\"_blank\" href=\"https://github.com/barbaraaboagye/My-MachineLearning-Journey\"><img src=\"https://img.shields.io/github/last-commit/barbaraaboagye/My-MachineLearning-Journey\"></a>&nbsp;\n",
    "      <a target=\"_blank\" href=\"https://www.youtube.com/channel/UCEYKFq7ZEg81GYxpzNqYZ4)\"><img src=\"https://img.shields.io/youtube/channel/subscribers/UCEYKFq7ZEg81GYxpzNqYZ4Q?style=social\"></a>&nbsp;\n",
    "    <a target=\"_blank\" href=\"https://fr.linkedin.com/in/barbara-aboagye-233ba8133\"><img src=\"https://img.shields.io/badge/style--5eba00.svg?label=LinkedIn&logo=linkedin&style=social\"></a>&nbsp;\n",
    "    <a target=\"_blank\" href=\"https://twitter.com/awesome_ama\"><img src=\"https://img.shields.io/twitter/follow/awesome_ama?style=social\"></a>\n",
    "    <br>\n",
    "</div>\n",
    "\n",
    "<br>"
   ]
  },
  {
   "attachments": {},
   "cell_type": "markdown",
   "id": "45b714aa-02f9-45ac-b2bf-e83b34b0c093",
   "metadata": {
    "jp-MarkdownHeadingCollapsed": true,
    "tags": []
   },
   "source": [
    "# Transpose, Reshape, Joining, Expanding and removing - Day x of x\n",
    "\n",
    "Hours completed : 1 hour <br>"
   ]
  },
  {
   "attachments": {},
   "cell_type": "markdown",
   "id": "39e4c6e7-9871-4211-8c4e-94bc180dc5f4",
   "metadata": {
    "jp-MarkdownHeadingCollapsed": true,
    "tags": []
   },
   "source": [
    "# Resources used : \n",
    "\n",
    "- [Foundation- Numpy](https://madewithml.com/courses/foundations/numpy/)\n",
    "<br>\n",
    "\n",
    "Handwritten notes can be found [here][def]\n",
    "\n",
    "[def]: https://github.com/barbaraaboagye/My-MachineLearning-Journey/blob/59a91ab9c136e6d97e3e9564aad7b410bd7b8751/Handwritten%20notes/230323_TransposeReshapeJoinExpand_NumpyFoundation.pdf"
   ]
  },
  {
   "cell_type": "code",
   "execution_count": 27,
   "id": "abc7869c",
   "metadata": {},
   "outputs": [],
   "source": [
    "import numpy as np"
   ]
  },
  {
   "attachments": {},
   "cell_type": "markdown",
   "id": "0dd1ee3d",
   "metadata": {},
   "source": [
    "### Transpose\n",
    "\n",
    "This allows us to change the dimension of the tensor from example an array of `3 x2`, will become `2 x3` when transposed. This is useful when the dot product has to be used. "
   ]
  },
  {
   "cell_type": "code",
   "execution_count": 28,
   "id": "409dd568",
   "metadata": {},
   "outputs": [
    {
     "name": "stdout",
     "output_type": "stream",
     "text": [
      "x:\n",
      " [[1 2 3]\n",
      " [4 5 6]] \n",
      " shape of x: (2, 3)\n",
      "y:\n",
      " [[1 4]\n",
      " [2 5]\n",
      " [3 6]] \n",
      " shape of y: (3, 2)\n"
     ]
    }
   ],
   "source": [
    "# Transposing\n",
    "\n",
    "x = np.array([[1,2,3],[4,5,6]])\n",
    "print (f\"x:\\n {x} \\n shape of x: {x.shape}\")\n",
    "y = np.transpose(x)\n",
    "print (f\"y:\\n {y} \\n shape of y: {y.shape}\")\n"
   ]
  },
  {
   "attachments": {},
   "cell_type": "markdown",
   "id": "03214b2f",
   "metadata": {},
   "source": [
    "### Reshape\n",
    "\n",
    "`Reshape` is a function used to change the shape of a NumPy array without changing its data.\n",
    "\n",
    "The `reshape` function allows you to specify the new shape of the array by passing a tuple of integers as an argument. The tuple should specify the size of each dimension of the array, in the order in which they should appear in the new shape. The reshape tensor has the same number of values as the original tensor. One can also use `-1` on a dimension and NumPy will infer the dimension based on the input tensor.\n",
    "\n",
    "Here's an example:"
   ]
  },
  {
   "cell_type": "code",
   "execution_count": 29,
   "id": "4bae207e",
   "metadata": {},
   "outputs": [
    {
     "name": "stdout",
     "output_type": "stream",
     "text": [
      "[[1 2 3 4 5 6]]\n",
      "x.shape:  (1, 6)\n",
      "y: \n",
      " [[1 2 3]\n",
      " [4 5 6]]\n",
      "y.shape:  (2, 3)\n",
      "z: \n",
      " [[1 2 3]\n",
      " [4 5 6]]\n",
      "z.shape:  (2, 3)\n"
     ]
    }
   ],
   "source": [
    "# Reshaping\n",
    "\n",
    "# create a 2-dimensional array with 6 element\n",
    "x = np.array([[1,2,3,4,5,6]])\n",
    "print (x)\n",
    "print (\"x.shape: \", x.shape)\n",
    "\n",
    "# reshape the array to a 2-dimensional array with 2 rows and 3 columns\n",
    "y = np.reshape(x, (2, 3))\n",
    "print (\"y: \\n\", y)\n",
    "print (\"y.shape: \", y.shape)\n",
    "\n",
    "\n",
    "z = np.reshape(x, (2, -1))\n",
    "print (\"z: \\n\", z)\n",
    "print (\"z.shape: \", z.shape)\n"
   ]
  },
  {
   "attachments": {},
   "cell_type": "markdown",
   "id": "9ec216ae",
   "metadata": {},
   "source": [
    " `z` is created by reshaping `x` to a new shape of `(2, -1)`. The `-1` in this case means that the size of the second dimension is inferred based on the size of the first dimension and the total number of elements in the array. Since `x` has 6 elements and we want 2 rows in `z`, the second dimension is inferred to be 3. The resulting array `z` also has shape `(2, 3)`."
   ]
  },
  {
   "attachments": {},
   "cell_type": "markdown",
   "id": "a448578a",
   "metadata": {},
   "source": [
    "There are pitfalls of reshaping where the reshaped tensor is not what we are looking for.  Sometimes the tensor may have to be transposed before using. When unsure about reshaping, it's important to create a dummy example to cross check instead of blindly going by the tensor shape as this can lead to alot of issues as one progresses."
   ]
  },
  {
   "attachments": {},
   "cell_type": "markdown",
   "id": "4222bfc6",
   "metadata": {},
   "source": [
    "### Joining\n",
    "\n",
    "Tensors or arrays can be joined using `concatenation` or `stacking`. `Stacking` and `concatenating` are two different ways of combining arrays or matrices.\n",
    "\n",
    "`Concatenation` is the process of combining arrays or matrices along an existing axis. For example, if you have two arrays of shape `(3,4)` and you concatenate them along axis 0, you will get an array of shape `(6,4)`.\n",
    "\n",
    "`Stacking`, on the other hand, is the process of joining arrays along a new axis. For example, if you have two arrays of shape `(3,4)` and you stack them along a new axis, you will get an array of shape `(2,3,4)`. This new axis is often called the stacking axis.\n",
    "\n",
    "In summary, `concatenation` is used to combine arrays along an existing axis while `stacking` is used to join arrays along a new axis."
   ]
  },
  {
   "cell_type": "code",
   "execution_count": 30,
   "id": "d65007a8",
   "metadata": {},
   "outputs": [
    {
     "name": "stdout",
     "output_type": "stream",
     "text": [
      "[[0.0955492  0.9250037  0.34357342]\n",
      " [0.31047694 0.00200984 0.23559472]]\n",
      "(2, 3)\n"
     ]
    }
   ],
   "source": [
    "np.random.seed(1111)\n",
    "x = np.random.random((2,3))\n",
    "print (x)\n",
    "print (x.shape)"
   ]
  },
  {
   "cell_type": "code",
   "execution_count": 31,
   "id": "64a1d34c",
   "metadata": {},
   "outputs": [
    {
     "name": "stdout",
     "output_type": "stream",
     "text": [
      "[[0.0955492  0.9250037  0.34357342]\n",
      " [0.31047694 0.00200984 0.23559472]\n",
      " [0.0955492  0.9250037  0.34357342]\n",
      " [0.31047694 0.00200984 0.23559472]]\n",
      "(4, 3)\n"
     ]
    }
   ],
   "source": [
    "## Concatenation\n",
    "y = np.concatenate([x,x], axis = 0) # concat on a specified axis (vertically)\n",
    "print(y)\n",
    "print(y.shape)"
   ]
  },
  {
   "cell_type": "code",
   "execution_count": 32,
   "id": "644853f9",
   "metadata": {},
   "outputs": [
    {
     "name": "stdout",
     "output_type": "stream",
     "text": [
      "[[[0.0955492  0.9250037  0.34357342]\n",
      "  [0.31047694 0.00200984 0.23559472]]\n",
      "\n",
      " [[0.0955492  0.9250037  0.34357342]\n",
      "  [0.31047694 0.00200984 0.23559472]]]\n",
      "(2, 2, 3)\n"
     ]
    }
   ],
   "source": [
    "# Stacking\n",
    "\n",
    "z = np.stack([x,x], axis = 0) # stack on new axis\n",
    "print (z)\n",
    "print(z.shape)\n"
   ]
  },
  {
   "attachments": {},
   "cell_type": "markdown",
   "id": "6eb9eba5",
   "metadata": {},
   "source": [
    "## Expanding/ Reducing\n",
    "\n",
    "It's possible to add and remove dimensions from tensors. This is to allow compatibility of certain operations."
   ]
  },
  {
   "cell_type": "code",
   "execution_count": 33,
   "id": "f8bfc953",
   "metadata": {},
   "outputs": [
    {
     "name": "stdout",
     "output_type": "stream",
     "text": [
      "x:\n",
      " [[1 2 3]\n",
      " [4 5 6]]\n",
      "x.shape:  (2, 3)\n",
      "y: \n",
      " [[[1 2 3]]\n",
      "\n",
      " [[4 5 6]]]\n",
      "y.shape:  (2, 1, 3)\n"
     ]
    }
   ],
   "source": [
    "### Adding dimensions\n",
    "\n",
    "x = np.array([[1,2,3],[4,5,6]])\n",
    "print(\"x:\\n\",x)\n",
    "print(\"x.shape: \", x.shape)\n",
    "y = np.expand_dims(x,axis = 1) #add 1 dim\n",
    "print (\"y: \\n\",y)\n",
    "print(\"y.shape: \", y.shape)"
   ]
  },
  {
   "attachments": {},
   "cell_type": "markdown",
   "id": "2c88e795",
   "metadata": {},
   "source": [
    "The `np.expand_dims()` function to add an extra dimension to `x` along axis 1. This creates a new array `y` with shape (2,1,3), which has an extra dimension at index 1. The `np.expand_dims()` function takes two arguments: the input array and the axis along which to add the new dimension.\n",
    "\n",
    "Notice that `y` has an extra set of brackets compared to `x`, indicating the extra dimension that was added. `y` is a 3D array that contains 2 sub-arrays, each of which contains a single row of data with 3 elements"
   ]
  },
  {
   "cell_type": "code",
   "execution_count": 34,
   "id": "48f3fd6a",
   "metadata": {},
   "outputs": [
    {
     "name": "stdout",
     "output_type": "stream",
     "text": [
      "x:\n",
      " [[[1 2 3]]\n",
      "\n",
      " [[4 5 6]]]\n",
      "x.shape:  (2, 1, 3)\n",
      "y: \n",
      " [[1 2 3]\n",
      " [4 5 6]]\n",
      "y.shape:  (2, 3)\n"
     ]
    }
   ],
   "source": [
    "## Remove dimension\n",
    "\n",
    "# Removing dimensions\n",
    "x = np.array([[[1,2,3]],[[4,5,6]]])\n",
    "print (\"x:\\n\", x)\n",
    "print (\"x.shape: \", x.shape)\n",
    "y = np.squeeze(x, 1) # squeeze dim 1\n",
    "print (\"y: \\n\", y)\n",
    "print (\"y.shape: \", y.shape)  # notice extra set of brackets are gone\n"
   ]
  }
 ],
 "metadata": {
  "kernelspec": {
   "display_name": "base",
   "language": "python",
   "name": "python3"
  },
  "language_info": {
   "codemirror_mode": {
    "name": "ipython",
    "version": 3
   },
   "file_extension": ".py",
   "mimetype": "text/x-python",
   "name": "python",
   "nbconvert_exporter": "python",
   "pygments_lexer": "ipython3",
   "version": "3.9.12"
  },
  "vscode": {
   "interpreter": {
    "hash": "02ffa660b6f6d9be8cca427b74bc9cb87fea4b28c9e17012788bc534d238c364"
   }
  }
 },
 "nbformat": 4,
 "nbformat_minor": 5
}
