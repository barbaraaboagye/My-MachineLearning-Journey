{
 "cells": [
  {
   "cell_type": "markdown",
   "id": "886467ac-de7e-46bc-a55e-6fd21277147b",
   "metadata": {},
   "source": [
    "<div align=\"center\">\n",
    "    <h1> My Machine Learning Journey</h1>\n",
    "Civl Engineer · Researcher Youtuber · Machine Learning Engineer (The Goal)\n",
    "    <br>\n",
    "    Sharing and documenting my progress and journey as I learn machine learning\n",
    "     <br>\n",
    "</div>\n",
    "\n",
    "<br>\n",
    "\n",
    "<div align=\"center\">\n",
    "    <a target=\"_blank\" href=\"https://github.com/barbaraaboagye/My-MachineLearning-Journey\"><img src=\"https://img.shields.io/github/last-commit/barbaraaboagye/My-MachineLearning-Journey\"></a>&nbsp;\n",
    "      <a target=\"_blank\" href=\"https://www.youtube.com/channel/UCEYKFq7ZEg81GYxpzNqYZ4)\"><img src=\"https://img.shields.io/youtube/channel/subscribers/UCEYKFq7ZEg81GYxpzNqYZ4Q?style=social\"></a>&nbsp;\n",
    "    <a target=\"_blank\" href=\"https://fr.linkedin.com/in/barbara-aboagye-233ba8133\"><img src=\"https://img.shields.io/badge/style--5eba00.svg?label=LinkedIn&logo=linkedin&style=social\"></a>&nbsp;\n",
    "    <a target=\"_blank\" href=\"https://twitter.com/awesome_ama\"><img src=\"https://img.shields.io/twitter/follow/awesome_ama?style=social\"></a>\n",
    "    <br>\n",
    "</div>\n",
    "\n",
    "<br>"
   ]
  },
  {
   "attachments": {},
   "cell_type": "markdown",
   "id": "45b714aa-02f9-45ac-b2bf-e83b34b0c093",
   "metadata": {
    "jp-MarkdownHeadingCollapsed": true,
    "tags": []
   },
   "source": [
    "# Exploratory data analysis: Titanic dataset- Day x of x\n",
    "\n",
    "Hours completed : 1 hr 30 min <br>\n"
   ]
  },
  {
   "attachments": {},
   "cell_type": "markdown",
   "id": "39e4c6e7-9871-4211-8c4e-94bc180dc5f4",
   "metadata": {
    "jp-MarkdownHeadingCollapsed": true,
    "tags": []
   },
   "source": [
    "# Resources used : \n",
    "\n",
    "- [Foundation- Pandas](https://madewithml.com/courses/foundations/pandas/)\n",
    "<br>\n",
    "\n",
    "Handwritten notes can be found [here][def]\n",
    "\n",
    "[def]: https://github.com/barbaraaboagye/My-MachineLearning-Journey/blob/192c61b96e18848dec5339cd3db618d3e19470a0/Handwritten%20notes/230324_EDA_TitanicDataset_PandasFoundation.pdf"
   ]
  },
  {
   "attachments": {},
   "cell_type": "markdown",
   "id": "0dd1ee3d",
   "metadata": {},
   "source": [
    "### Set up\n",
    "\n",
    "Import the neccessary libraries : pandas as numpy and set seeds for reproducibility"
   ]
  },
  {
   "cell_type": "code",
   "execution_count": 19,
   "id": "409dd568",
   "metadata": {},
   "outputs": [],
   "source": [
    "## Libraries\n",
    "\n",
    "import numpy as np\n",
    "import pandas as pd\n",
    "import matplotlib.pyplot as plt\n"
   ]
  },
  {
   "cell_type": "code",
   "execution_count": 20,
   "id": "3cca0059",
   "metadata": {},
   "outputs": [],
   "source": [
    "# Set seed of reproducibility\n",
    "np.random.seed(seed =1234)"
   ]
  },
  {
   "attachments": {},
   "cell_type": "markdown",
   "id": "ca323b20",
   "metadata": {},
   "source": [
    "### Load Data\n",
    "\n",
    "The [titanic dataset](https://www.kaggle.com/c/titanic/data) is used. It gives information about individuals who embarked the RMS Titanic in 1912 and whether they survived or not.\n",
    "The data from the [titanic.csv](https://github.com/barbaraaboagye/My-MachineLearning-Journey/blob/main/datasets/titanic.csv) is loaded into a `Pandas dataframe` as `df`. The `header =0` means that that first row is a header row and contains the names of the column in the dataset"
   ]
  },
  {
   "cell_type": "code",
   "execution_count": 21,
   "id": "8a5463da",
   "metadata": {},
   "outputs": [],
   "source": [
    "# Read from CSV to Pandas DataFrame\n",
    "url = \"https://github.com/barbaraaboagye/My-MachineLearning-Journey/raw/main/datasets/titanic.csv\" #copy the raw link\n",
    "df = pd.read_csv(url, header=0)\n"
   ]
  },
  {
   "cell_type": "code",
   "execution_count": 22,
   "id": "3380e062",
   "metadata": {},
   "outputs": [
    {
     "data": {
      "text/html": [
       "<div>\n",
       "<style scoped>\n",
       "    .dataframe tbody tr th:only-of-type {\n",
       "        vertical-align: middle;\n",
       "    }\n",
       "\n",
       "    .dataframe tbody tr th {\n",
       "        vertical-align: top;\n",
       "    }\n",
       "\n",
       "    .dataframe thead th {\n",
       "        text-align: right;\n",
       "    }\n",
       "</style>\n",
       "<table border=\"1\" class=\"dataframe\">\n",
       "  <thead>\n",
       "    <tr style=\"text-align: right;\">\n",
       "      <th></th>\n",
       "      <th>pclass</th>\n",
       "      <th>name</th>\n",
       "      <th>sex</th>\n",
       "      <th>age</th>\n",
       "      <th>sibsp</th>\n",
       "      <th>parch</th>\n",
       "      <th>ticket</th>\n",
       "      <th>fare</th>\n",
       "      <th>cabin</th>\n",
       "      <th>embarked</th>\n",
       "      <th>survived</th>\n",
       "    </tr>\n",
       "  </thead>\n",
       "  <tbody>\n",
       "    <tr>\n",
       "      <th>0</th>\n",
       "      <td>1</td>\n",
       "      <td>Allen, Miss. Elisabeth Walton</td>\n",
       "      <td>female</td>\n",
       "      <td>29.0000</td>\n",
       "      <td>0</td>\n",
       "      <td>0</td>\n",
       "      <td>24160</td>\n",
       "      <td>211.3375</td>\n",
       "      <td>B5</td>\n",
       "      <td>S</td>\n",
       "      <td>1</td>\n",
       "    </tr>\n",
       "    <tr>\n",
       "      <th>1</th>\n",
       "      <td>1</td>\n",
       "      <td>Allison, Master. Hudson Trevor</td>\n",
       "      <td>male</td>\n",
       "      <td>0.9167</td>\n",
       "      <td>1</td>\n",
       "      <td>2</td>\n",
       "      <td>113781</td>\n",
       "      <td>151.5500</td>\n",
       "      <td>C22 C26</td>\n",
       "      <td>S</td>\n",
       "      <td>1</td>\n",
       "    </tr>\n",
       "    <tr>\n",
       "      <th>2</th>\n",
       "      <td>1</td>\n",
       "      <td>Allison, Miss. Helen Loraine</td>\n",
       "      <td>female</td>\n",
       "      <td>2.0000</td>\n",
       "      <td>1</td>\n",
       "      <td>2</td>\n",
       "      <td>113781</td>\n",
       "      <td>151.5500</td>\n",
       "      <td>C22 C26</td>\n",
       "      <td>S</td>\n",
       "      <td>0</td>\n",
       "    </tr>\n",
       "    <tr>\n",
       "      <th>3</th>\n",
       "      <td>1</td>\n",
       "      <td>Allison, Mr. Hudson Joshua Creighton</td>\n",
       "      <td>male</td>\n",
       "      <td>30.0000</td>\n",
       "      <td>1</td>\n",
       "      <td>2</td>\n",
       "      <td>113781</td>\n",
       "      <td>151.5500</td>\n",
       "      <td>C22 C26</td>\n",
       "      <td>S</td>\n",
       "      <td>0</td>\n",
       "    </tr>\n",
       "    <tr>\n",
       "      <th>4</th>\n",
       "      <td>1</td>\n",
       "      <td>Allison, Mrs. Hudson J C (Bessie Waldo Daniels)</td>\n",
       "      <td>female</td>\n",
       "      <td>25.0000</td>\n",
       "      <td>1</td>\n",
       "      <td>2</td>\n",
       "      <td>113781</td>\n",
       "      <td>151.5500</td>\n",
       "      <td>C22 C26</td>\n",
       "      <td>S</td>\n",
       "      <td>0</td>\n",
       "    </tr>\n",
       "  </tbody>\n",
       "</table>\n",
       "</div>"
      ],
      "text/plain": [
       "   pclass                                             name     sex      age  \\\n",
       "0       1                    Allen, Miss. Elisabeth Walton  female  29.0000   \n",
       "1       1                   Allison, Master. Hudson Trevor    male   0.9167   \n",
       "2       1                     Allison, Miss. Helen Loraine  female   2.0000   \n",
       "3       1             Allison, Mr. Hudson Joshua Creighton    male  30.0000   \n",
       "4       1  Allison, Mrs. Hudson J C (Bessie Waldo Daniels)  female  25.0000   \n",
       "\n",
       "   sibsp  parch  ticket      fare    cabin embarked  survived  \n",
       "0      0      0   24160  211.3375       B5        S         1  \n",
       "1      1      2  113781  151.5500  C22 C26        S         1  \n",
       "2      1      2  113781  151.5500  C22 C26        S         0  \n",
       "3      1      2  113781  151.5500  C22 C26        S         0  \n",
       "4      1      2  113781  151.5500  C22 C26        S         0  "
      ]
     },
     "execution_count": 22,
     "metadata": {},
     "output_type": "execute_result"
    }
   ],
   "source": [
    "## Look at first few elements in the dataset\n",
    "\n",
    "df.head()"
   ]
  },
  {
   "attachments": {},
   "cell_type": "markdown",
   "id": "9db7ec33",
   "metadata": {},
   "source": [
    "These are the different features:\n",
    "\n",
    "- class: class of travel\n",
    "- name: full name of the passenger\n",
    "- sex: gender\n",
    "- age: numerical age\n",
    "- sibsp: # of siblings/spouse aboard\n",
    "- parch: number of parents/child aboard\n",
    "- ticket: ticket number\n",
    "- fare: cost of the ticket\n",
    "- cabin: location of room\n",
    "- embarked: port that the passenger embarked at\n",
    "- survived: survival metric (0 - died, 1 - survived)"
   ]
  },
  {
   "attachments": {},
   "cell_type": "markdown",
   "id": "f5596624",
   "metadata": {},
   "source": [
    "### Exploratory data analyis (EDA)\n",
    "\n",
    "Exploratory data analysis (EDA) is the process of examining and summarizing a dataset to understand its main characteristics, identify patterns, and check for anomalies or inconsistencies. This helps to find interesting information in our dataset. Some common tasks that can be performed during EDA include:\n",
    "\n",
    "- Checking the data types and dimensions of the dataset\n",
    "- Calculating basic statistics and summary measures, such as means, medians, standard deviations, and percentiles\n",
    "- Examining the distribution of the data using histograms, box plots, or density plots\n",
    "- Identifying missing values, outliers, or anomalies in the data\n",
    "- Visualizing relationships between variables using scatter plots, heat maps, or correlation matrices\n",
    "- Identifying patterns or trends in the data using time series analysis or clustering techniques.\n"
   ]
  },
  {
   "attachments": {},
   "cell_type": "markdown",
   "id": "f0ef55f3",
   "metadata": {},
   "source": [
    "The `.describe()` method can be used to extract details about the numerical features"
   ]
  },
  {
   "cell_type": "code",
   "execution_count": 23,
   "id": "2f694451",
   "metadata": {},
   "outputs": [
    {
     "data": {
      "text/html": [
       "<div>\n",
       "<style scoped>\n",
       "    .dataframe tbody tr th:only-of-type {\n",
       "        vertical-align: middle;\n",
       "    }\n",
       "\n",
       "    .dataframe tbody tr th {\n",
       "        vertical-align: top;\n",
       "    }\n",
       "\n",
       "    .dataframe thead th {\n",
       "        text-align: right;\n",
       "    }\n",
       "</style>\n",
       "<table border=\"1\" class=\"dataframe\">\n",
       "  <thead>\n",
       "    <tr style=\"text-align: right;\">\n",
       "      <th></th>\n",
       "      <th>pclass</th>\n",
       "      <th>age</th>\n",
       "      <th>sibsp</th>\n",
       "      <th>parch</th>\n",
       "      <th>fare</th>\n",
       "      <th>survived</th>\n",
       "    </tr>\n",
       "  </thead>\n",
       "  <tbody>\n",
       "    <tr>\n",
       "      <th>count</th>\n",
       "      <td>1309.000000</td>\n",
       "      <td>1046.000000</td>\n",
       "      <td>1309.000000</td>\n",
       "      <td>1309.000000</td>\n",
       "      <td>1308.000000</td>\n",
       "      <td>1309.000000</td>\n",
       "    </tr>\n",
       "    <tr>\n",
       "      <th>mean</th>\n",
       "      <td>2.294882</td>\n",
       "      <td>29.881135</td>\n",
       "      <td>0.498854</td>\n",
       "      <td>0.385027</td>\n",
       "      <td>33.295479</td>\n",
       "      <td>0.381971</td>\n",
       "    </tr>\n",
       "    <tr>\n",
       "      <th>std</th>\n",
       "      <td>0.837836</td>\n",
       "      <td>14.413500</td>\n",
       "      <td>1.041658</td>\n",
       "      <td>0.865560</td>\n",
       "      <td>51.758668</td>\n",
       "      <td>0.486055</td>\n",
       "    </tr>\n",
       "    <tr>\n",
       "      <th>min</th>\n",
       "      <td>1.000000</td>\n",
       "      <td>0.166700</td>\n",
       "      <td>0.000000</td>\n",
       "      <td>0.000000</td>\n",
       "      <td>0.000000</td>\n",
       "      <td>0.000000</td>\n",
       "    </tr>\n",
       "    <tr>\n",
       "      <th>25%</th>\n",
       "      <td>2.000000</td>\n",
       "      <td>21.000000</td>\n",
       "      <td>0.000000</td>\n",
       "      <td>0.000000</td>\n",
       "      <td>7.895800</td>\n",
       "      <td>0.000000</td>\n",
       "    </tr>\n",
       "    <tr>\n",
       "      <th>50%</th>\n",
       "      <td>3.000000</td>\n",
       "      <td>28.000000</td>\n",
       "      <td>0.000000</td>\n",
       "      <td>0.000000</td>\n",
       "      <td>14.454200</td>\n",
       "      <td>0.000000</td>\n",
       "    </tr>\n",
       "    <tr>\n",
       "      <th>75%</th>\n",
       "      <td>3.000000</td>\n",
       "      <td>39.000000</td>\n",
       "      <td>1.000000</td>\n",
       "      <td>0.000000</td>\n",
       "      <td>31.275000</td>\n",
       "      <td>1.000000</td>\n",
       "    </tr>\n",
       "    <tr>\n",
       "      <th>max</th>\n",
       "      <td>3.000000</td>\n",
       "      <td>80.000000</td>\n",
       "      <td>8.000000</td>\n",
       "      <td>9.000000</td>\n",
       "      <td>512.329200</td>\n",
       "      <td>1.000000</td>\n",
       "    </tr>\n",
       "  </tbody>\n",
       "</table>\n",
       "</div>"
      ],
      "text/plain": [
       "            pclass          age        sibsp        parch         fare  \\\n",
       "count  1309.000000  1046.000000  1309.000000  1309.000000  1308.000000   \n",
       "mean      2.294882    29.881135     0.498854     0.385027    33.295479   \n",
       "std       0.837836    14.413500     1.041658     0.865560    51.758668   \n",
       "min       1.000000     0.166700     0.000000     0.000000     0.000000   \n",
       "25%       2.000000    21.000000     0.000000     0.000000     7.895800   \n",
       "50%       3.000000    28.000000     0.000000     0.000000    14.454200   \n",
       "75%       3.000000    39.000000     1.000000     0.000000    31.275000   \n",
       "max       3.000000    80.000000     8.000000     9.000000   512.329200   \n",
       "\n",
       "          survived  \n",
       "count  1309.000000  \n",
       "mean      0.381971  \n",
       "std       0.486055  \n",
       "min       0.000000  \n",
       "25%       0.000000  \n",
       "50%       0.000000  \n",
       "75%       1.000000  \n",
       "max       1.000000  "
      ]
     },
     "execution_count": 23,
     "metadata": {},
     "output_type": "execute_result"
    }
   ],
   "source": [
    "# Describe features\n",
    "\n",
    "df.describe() #df is our dataset"
   ]
  },
  {
   "attachments": {},
   "cell_type": "markdown",
   "id": "0c9cea29",
   "metadata": {},
   "source": [
    "The table gives a summary of the descriptive statistics for the dataset. There are 6 features in this study. A brief explanation of each of the variables and the statistics provided:\n",
    "\n",
    "- pclass: passenger class, which takes on integer values between 1 and 3. The mean is 2.294882, which indicates that the average passenger is traveling in second class.\n",
    "- age: age of the passenger in years. The mean age is 29.881135 and the standard deviation is 14.413500. The average age of passengers are 29. A standard deviation of 14 suggests there is a high variation in the ages of passengers. Most of the people in the dataset were between the ages of about 15 and 44 years old\n",
    "- sibsp: number of siblings or spouses traveling with the passenger. The mean is 0.498854, indicating that most passengers did not have any siblings or spouses with them.\n",
    "- parch: number of parents or children traveling with the passenger. The mean is 0.385027, indicating that most passengers did not have any parents or children with them.\n",
    "- fare: fare paid by the passenger. The mean is 33 and the standard deviation is 52, indicating that there is a wide range of fares, with some passengers paying much more than others. The fare range could be between 0 and 85. The range of fares in this dataset could indicate that the Titanic had different ticket classes with different prices. Passengers who paid more might have had access to better amenities and services on board and those who didn't pay could be crew members or staff, who were not required to pay for their passage on the ship\n",
    "- survived: binary variable indicating whether the passenger survived the sinking of the Titanic (1) or not (0). The mean is 0.381971, indicating that 38% of passengers on board survived.\n",
    "\n",
    "From the `count`, some features have missing values.\n"
   ]
  },
  {
   "attachments": {},
   "cell_type": "markdown",
   "id": "214c9a16",
   "metadata": {},
   "source": [
    "## Correlation  matric\n",
    "\n",
    "A correlation matrix is a table that displays the correlation coefficients between a set of variables or features. In statistics, correlation refers to the degree to which two variables are related to each other. A correlation coefficient is a value that indicates the strength and direction of the linear relationship between two variables. The value of a correlation coefficient ranges from -1 to +1, where -1 indicates a perfect negative correlation (as one variable increases, the other decreases), +1 indicates a perfect positive correlation (as one variable increases, the other increases), and 0 indicates no correlation (there is no linear relationship between the variables). A correlation matrix is useful when we have multiple variables and want to examine the relationships between each pair of variables\n"
   ]
  },
  {
   "cell_type": "code",
   "execution_count": 25,
   "id": "3b8493b8",
   "metadata": {},
   "outputs": [
    {
     "data": {
      "image/png": "[encoded data removed]",
      "text/plain": [
       "<Figure size 480x480 with 2 Axes>"
      ]
     },
     "metadata": {},
     "output_type": "display_data"
    }
   ],
   "source": [
    "# Correlation matrix\n",
    "\n",
    "plt.matshow(df.corr())\n",
    "continuous_features = df.describe().columns\n",
    "plt.xticks(range(len(continuous_features)), continuous_features, rotation= 45 )\n",
    "plt.yticks(range(len(continuous_features)), continuous_features, rotation= 45)\n",
    "plt.colorbar()\n",
    "plt.show()"
   ]
  },
  {
   "attachments": {},
   "cell_type": "markdown",
   "id": "216b705c",
   "metadata": {},
   "source": [
    "- The `plt.matshow(df.corr())` function creates a matrix plot of the correlation coefficients between each pair of variables in the dataframe. The correlation coefficients range from -1 (perfect negative correlation) to +1 (perfect positive correlation), with 0 indicating no correlation. \n",
    "\n",
    "- The `continuous_features = df.describe().columns` line creates a list of the column names of the continuous variables in the dataframe. The `.describe()` method returns a summary of the descriptive statistics of the numerical columns, and `.columns` returns the column names.\n",
    "\n",
    "- The `plt.xticks()` and `plt.yticks()` functions are used to set the labels for the x-axis and y-axis, respectively. The `range(len(continuous_features))` argument creates a sequence of integers from 0 to the length of the `continuous_features` list, which is used to set the positions of the tick marks. The `rotation= 45` argument sets the angle of the tick labels to 45 degrees for better readability.\n",
    "\n",
    "- The `plt.colorbar()` function adds a colorbar to the plot, which shows the range of correlation coefficients and their corresponding colors.\n",
    "\n",
    "- The `plt.show()` displays the plot on the screen."
   ]
  },
  {
   "cell_type": "code",
   "execution_count": 27,
   "id": "4971201f",
   "metadata": {},
   "outputs": [
    {
     "data": {
      "text/html": [
       "<div>\n",
       "<style scoped>\n",
       "    .dataframe tbody tr th:only-of-type {\n",
       "        vertical-align: middle;\n",
       "    }\n",
       "\n",
       "    .dataframe tbody tr th {\n",
       "        vertical-align: top;\n",
       "    }\n",
       "\n",
       "    .dataframe thead th {\n",
       "        text-align: right;\n",
       "    }\n",
       "</style>\n",
       "<table border=\"1\" class=\"dataframe\">\n",
       "  <thead>\n",
       "    <tr style=\"text-align: right;\">\n",
       "      <th></th>\n",
       "      <th>pclass</th>\n",
       "      <th>age</th>\n",
       "      <th>sibsp</th>\n",
       "      <th>parch</th>\n",
       "      <th>fare</th>\n",
       "      <th>survived</th>\n",
       "    </tr>\n",
       "  </thead>\n",
       "  <tbody>\n",
       "    <tr>\n",
       "      <th>pclass</th>\n",
       "      <td>1.000000</td>\n",
       "      <td>-0.408106</td>\n",
       "      <td>0.060832</td>\n",
       "      <td>0.018322</td>\n",
       "      <td>-0.558629</td>\n",
       "      <td>-0.312469</td>\n",
       "    </tr>\n",
       "    <tr>\n",
       "      <th>age</th>\n",
       "      <td>-0.408106</td>\n",
       "      <td>1.000000</td>\n",
       "      <td>-0.243699</td>\n",
       "      <td>-0.150917</td>\n",
       "      <td>0.178739</td>\n",
       "      <td>-0.055513</td>\n",
       "    </tr>\n",
       "    <tr>\n",
       "      <th>sibsp</th>\n",
       "      <td>0.060832</td>\n",
       "      <td>-0.243699</td>\n",
       "      <td>1.000000</td>\n",
       "      <td>0.373587</td>\n",
       "      <td>0.160238</td>\n",
       "      <td>-0.027825</td>\n",
       "    </tr>\n",
       "    <tr>\n",
       "      <th>parch</th>\n",
       "      <td>0.018322</td>\n",
       "      <td>-0.150917</td>\n",
       "      <td>0.373587</td>\n",
       "      <td>1.000000</td>\n",
       "      <td>0.221539</td>\n",
       "      <td>0.082660</td>\n",
       "    </tr>\n",
       "    <tr>\n",
       "      <th>fare</th>\n",
       "      <td>-0.558629</td>\n",
       "      <td>0.178739</td>\n",
       "      <td>0.160238</td>\n",
       "      <td>0.221539</td>\n",
       "      <td>1.000000</td>\n",
       "      <td>0.244265</td>\n",
       "    </tr>\n",
       "    <tr>\n",
       "      <th>survived</th>\n",
       "      <td>-0.312469</td>\n",
       "      <td>-0.055513</td>\n",
       "      <td>-0.027825</td>\n",
       "      <td>0.082660</td>\n",
       "      <td>0.244265</td>\n",
       "      <td>1.000000</td>\n",
       "    </tr>\n",
       "  </tbody>\n",
       "</table>\n",
       "</div>"
      ],
      "text/plain": [
       "            pclass       age     sibsp     parch      fare  survived\n",
       "pclass    1.000000 -0.408106  0.060832  0.018322 -0.558629 -0.312469\n",
       "age      -0.408106  1.000000 -0.243699 -0.150917  0.178739 -0.055513\n",
       "sibsp     0.060832 -0.243699  1.000000  0.373587  0.160238 -0.027825\n",
       "parch     0.018322 -0.150917  0.373587  1.000000  0.221539  0.082660\n",
       "fare     -0.558629  0.178739  0.160238  0.221539  1.000000  0.244265\n",
       "survived -0.312469 -0.055513 -0.027825  0.082660  0.244265  1.000000"
      ]
     },
     "execution_count": 27,
     "metadata": {},
     "output_type": "execute_result"
    }
   ],
   "source": [
    "# Create a correlation matrix with the features\n",
    "df.corr()\n"
   ]
  },
  {
   "cell_type": "code",
   "execution_count": 30,
   "id": "2a635fd1",
   "metadata": {},
   "outputs": [
    {
     "data": {
      "text/plain": [
       "Index(['pclass', 'age', 'sibsp', 'parch', 'fare', 'survived'], dtype='object')"
      ]
     },
     "execution_count": 30,
     "metadata": {},
     "output_type": "execute_result"
    }
   ],
   "source": [
    "continuous_features"
   ]
  }
 ],
 "metadata": {
  "kernelspec": {
   "display_name": "base",
   "language": "python",
   "name": "python3"
  },
  "language_info": {
   "codemirror_mode": {
    "name": "ipython",
    "version": 3
   },
   "file_extension": ".py",
   "mimetype": "text/x-python",
   "name": "python",
   "nbconvert_exporter": "python",
   "pygments_lexer": "ipython3",
   "version": "3.9.12"
  },
  "vscode": {
   "interpreter": {
    "hash": "02ffa660b6f6d9be8cca427b74bc9cb87fea4b28c9e17012788bc534d238c364"
   }
  }
 },
 "nbformat": 4,
 "nbformat_minor": 5
}
