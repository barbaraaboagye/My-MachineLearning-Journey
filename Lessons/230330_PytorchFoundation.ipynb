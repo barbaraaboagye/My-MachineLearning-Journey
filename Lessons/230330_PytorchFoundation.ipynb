{
 "cells": [
  {
   "attachments": {},
   "cell_type": "markdown",
   "id": "886467ac-de7e-46bc-a55e-6fd21277147b",
   "metadata": {},
   "source": [
    "<div align=\"center\">\n",
    "    <h1> My Machine Learning Journey</h1>\n",
    "Civil Engineer · Researcher Youtuber · Machine Learning Engineer (The Goal)\n",
    "    <br>\n",
    "    Sharing and documenting my progress and journey as I learn machine learning\n",
    "     <br>\n",
    "</div>\n",
    "\n",
    "<br>\n",
    "\n",
    "<div align=\"center\">\n",
    "    <a target=\"_blank\" href=\"https://github.com/barbaraaboagye/My-MachineLearning-Journey\"><img src=\"https://img.shields.io/github/last-commit/barbaraaboagye/My-MachineLearning-Journey\"></a>&nbsp;\n",
    "      <a target=\"_blank\" href=\"https://www.youtube.com/channel/UCEYKFq7ZEg81GYxpzNqYZ4)\"><img src=\"https://img.shields.io/youtube/channel/subscribers/UCEYKFq7ZEg81GYxpzNqYZ4Q?style=social\"></a>&nbsp;\n",
    "    <a target=\"_blank\" href=\"https://fr.linkedin.com/in/barbara-aboagye-233ba8133\"><img src=\"https://img.shields.io/badge/style--5eba00.svg?label=LinkedIn&logo=linkedin&style=social\"></a>&nbsp;\n",
    "    <a target=\"_blank\" href=\"https://twitter.com/awesome_ama\"><img src=\"https://img.shields.io/twitter/follow/awesome_ama?style=social\"></a>\n",
    "    <br>\n",
    "</div>\n",
    "\n",
    "<br>"
   ]
  },
  {
   "attachments": {},
   "cell_type": "markdown",
   "id": "45b714aa-02f9-45ac-b2bf-e83b34b0c093",
   "metadata": {
    "jp-MarkdownHeadingCollapsed": true,
    "tags": []
   },
   "source": [
    "# PyTorch Foundation - Day x of x\n",
    "\n",
    "Hours completed : 1hr 3omin <br>\n",
    "\n",
    "I still can't install torch. I followed this video on [installing Torch on mac](https://www.youtube.com/watch?v=Zx2MHdRgAIc) but nothing. Made a post on [twitter](https://twitter.com/awesome_ama/status/1641491118574514176?s=20). Let's see if there will progress soon"
   ]
  },
  {
   "attachments": {},
   "cell_type": "markdown",
   "id": "39e4c6e7-9871-4211-8c4e-94bc180dc5f4",
   "metadata": {
    "jp-MarkdownHeadingCollapsed": true,
    "tags": []
   },
   "source": [
    "# Resources used : \n",
    "\n",
    "- [Foundation- PyTorch](https://madewithml.com/courses/foundations/pytorch/)\n",
    "- [PyTorch documentation](https://pytorch.org/get-started/locally/)\n",
    "<br>\n",
    "\n",
    "Handwritten notes can be found [here][def]\n",
    "\n",
    "[def]: Put link here"
   ]
  },
  {
   "cell_type": "markdown",
   "id": "409dd568",
   "metadata": {},
   "source": []
  }
 ],
 "metadata": {
  "kernelspec": {
   "display_name": "base",
   "language": "python",
   "name": "python3"
  },
  "language_info": {
   "codemirror_mode": {
    "name": "ipython",
    "version": 3
   },
   "file_extension": ".py",
   "mimetype": "text/x-python",
   "name": "python",
   "nbconvert_exporter": "python",
   "pygments_lexer": "ipython3",
   "version": "3.9.12"
  },
  "vscode": {
   "interpreter": {
    "hash": "02ffa660b6f6d9be8cca427b74bc9cb87fea4b28c9e17012788bc534d238c364"
   }
  }
 },
 "nbformat": 4,
 "nbformat_minor": 5
}
