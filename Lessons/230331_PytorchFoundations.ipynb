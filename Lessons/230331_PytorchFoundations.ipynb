{
 "cells": [
  {
   "attachments": {},
   "cell_type": "markdown",
   "id": "886467ac-de7e-46bc-a55e-6fd21277147b",
   "metadata": {},
   "source": [
    "<div align=\"center\">\n",
    "    <h1> My Machine Learning Journey</h1>\n",
    "Civil Engineer · Researcher Youtuber · Machine Learning Engineer (The Goal)\n",
    "    <br>\n",
    "    Sharing and documenting my progress and journey as I learn machine learning\n",
    "     <br>\n",
    "</div>\n",
    "\n",
    "<br>\n",
    "\n",
    "<div align=\"center\">\n",
    "    <a target=\"_blank\" href=\"https://github.com/barbaraaboagye/My-MachineLearning-Journey\"><img src=\"https://img.shields.io/github/last-commit/barbaraaboagye/My-MachineLearning-Journey\"></a>&nbsp;\n",
    "      <a target=\"_blank\" href=\"https://www.youtube.com/channel/UCEYKFq7ZEg81GYxpzNqYZ4)\"><img src=\"https://img.shields.io/youtube/channel/subscribers/UCEYKFq7ZEg81GYxpzNqYZ4Q?style=social\"></a>&nbsp;\n",
    "    <a target=\"_blank\" href=\"https://fr.linkedin.com/in/barbara-aboagye-233ba8133\"><img src=\"https://img.shields.io/badge/style--5eba00.svg?label=LinkedIn&logo=linkedin&style=social\"></a>&nbsp;\n",
    "    <a target=\"_blank\" href=\"https://twitter.com/awesome_ama\"><img src=\"https://img.shields.io/twitter/follow/awesome_ama?style=social\"></a>\n",
    "    <br>\n",
    "</div>\n",
    "\n",
    "<br>"
   ]
  },
  {
   "attachments": {},
   "cell_type": "markdown",
   "id": "45b714aa-02f9-45ac-b2bf-e83b34b0c093",
   "metadata": {
    "jp-MarkdownHeadingCollapsed": true,
    "tags": []
   },
   "source": [
    "# PyTorch Foundation - Day x of x\n",
    "\n",
    "Hours completed : 1hr 30min <br>\n",
    "\n",
    "Finally, I was able to instal the torch. I just had to change the kernel to pytorch and voila it worked. I was using the wrong kernel all along that's why it kept on crushing even after I had Pytorch installed. \n",
    "> It was still crashing when I used spyder and Jupyter notebook. This solution worked for VSCODE. I didn't try to see if the other two will work :)"
   ]
  },
  {
   "attachments": {},
   "cell_type": "markdown",
   "id": "39e4c6e7-9871-4211-8c4e-94bc180dc5f4",
   "metadata": {
    "jp-MarkdownHeadingCollapsed": true,
    "tags": []
   },
   "source": [
    "# Resources used : \n",
    "\n",
    "- [Foundation- PyTorch](https://madewithml.com/courses/foundations/pytorch/)\n",
    "<br>\n",
    "\n",
    "Handwritten notes can be found [here][def]\n",
    "\n",
    "[def]: https://github.com/barbaraaboagye/My-MachineLearning-Journey/blob/9ea0e98265d73af4a028c43862b268230b1b37fb/Handwritten%20notes/230331_PytorchFoundations.pdf"
   ]
  },
  {
   "attachments": {},
   "cell_type": "markdown",
   "id": "409dd568",
   "metadata": {},
   "source": [
    "### Set up "
   ]
  },
  {
   "cell_type": "code",
   "execution_count": 39,
   "id": "d27bb2b6",
   "metadata": {},
   "outputs": [],
   "source": [
    "import numpy as np\n",
    "import torch"
   ]
  },
  {
   "cell_type": "code",
   "execution_count": 40,
   "id": "33186f6e",
   "metadata": {},
   "outputs": [],
   "source": [
    "SEED = 1234"
   ]
  },
  {
   "cell_type": "code",
   "execution_count": 41,
   "id": "684edb2b",
   "metadata": {},
   "outputs": [
    {
     "data": {
      "text/plain": [
       "<torch._C.Generator at 0x7faa692febf0>"
      ]
     },
     "execution_count": 41,
     "metadata": {},
     "output_type": "execute_result"
    }
   ],
   "source": [
    "# Set seed for reproducibility\n",
    "\n",
    "np.random.seed(seed=SEED)\n",
    "torch.manual_seed(SEED)"
   ]
  },
  {
   "cell_type": "markdown",
   "id": "dc0866f3",
   "metadata": {},
   "source": [
    "### Basics \n",
    "\n",
    "We'll first cover some basics with PyTorch such as creating tensors and converting from common data structures (lists, arrays, etc.) to tensors."
   ]
  },
  {
   "cell_type": "code",
   "execution_count": 42,
   "id": "2e67177f",
   "metadata": {},
   "outputs": [
    {
     "name": "stdout",
     "output_type": "stream",
     "text": [
      "Type: torch.FloatTensor\n",
      "Size: torch.Size([2, 3])\n",
      "Values: \n",
      "tensor([[ 0.0461,  0.4024, -1.0115],\n",
      "        [ 0.2167, -0.6123,  0.5036]])\n"
     ]
    }
   ],
   "source": [
    "# Creating a random tensor\n",
    "\n",
    "x = torch.randn(2,3) # normal distribution (rand(2,3) -> uniform distribution)\n",
    "print (f\"Type: {x.type()}\")\n",
    "print (f\"Size: {x.shape}\")\n",
    "print (f\"Values: \\n{x}\")"
   ]
  },
  {
   "attachments": {},
   "cell_type": "markdown",
   "id": "32c688ed",
   "metadata": {},
   "source": [
    "This code creates a tensor `x` of size `(2,3)` filled with random values from a normal distribution with mean 0 and standard deviation 1 using PyTorch.\n",
    "\n",
    "The tensor `x` has 2 rows and 3 columns"
   ]
  },
  {
   "cell_type": "code",
   "execution_count": 43,
   "id": "b5fcc362",
   "metadata": {},
   "outputs": [
    {
     "name": "stdout",
     "output_type": "stream",
     "text": [
      "tensor([[0., 0., 0.],\n",
      "        [0., 0., 0.]])\n",
      "tensor([[1., 1., 1.],\n",
      "        [1., 1., 1.]])\n"
     ]
    }
   ],
   "source": [
    "#Zeros and Ones tensor\n",
    "\n",
    "x = torch.zeros(2, 3)\n",
    "print(x)\n",
    "x = torch.ones(2,3)\n",
    "print(x)"
   ]
  },
  {
   "cell_type": "code",
   "execution_count": 44,
   "id": "ac951d2f",
   "metadata": {},
   "outputs": [
    {
     "name": "stdout",
     "output_type": "stream",
     "text": [
      "([1, 2, 3], [4, 5, 6])\n",
      "(2, 3)\n",
      "Type: 2\n",
      "Size: torch.Size([2, 3])\n",
      "x:\n",
      " tensor([[1., 2., 3.],\n",
      "        [4., 5., 6.]])\n",
      "Size: torch.Size([2, 3])\n",
      "x:\n",
      " tensor([[1., 2., 3.],\n",
      "        [4., 5., 6.]])\n"
     ]
    }
   ],
   "source": [
    "# List to Tensor\n",
    "\n",
    "x = [1,2,3], [4,5,6 ] # normal list\n",
    "print (x)\n",
    "print(np.shape(x))\n",
    "print(f\"Type: {np.ndim(x)}\")\n",
    "y = torch.Tensor([[1,2,3], [4,5,6 ]])\n",
    "print (f\"Size: {y.shape}\")\n",
    "print(f\"x:\\n {y}\")\n",
    "z = torch.Tensor(x)\n",
    "print (f\"Size: {z.shape}\")\n",
    "print(f\"x:\\n {z}\")"
   ]
  },
  {
   "cell_type": "code",
   "execution_count": 45,
   "id": "bad90e0f",
   "metadata": {},
   "outputs": [
    {
     "name": "stdout",
     "output_type": "stream",
     "text": [
      "Size: torch.Size([2, 3])\n",
      "x:\n",
      " tensor([[0.1915, 0.6221, 0.4377],\n",
      "        [0.7854, 0.7800, 0.2726]])\n"
     ]
    }
   ],
   "source": [
    "## NumPy array to Tensor\n",
    "\n",
    "x = torch.Tensor(np.random.rand(2,3))\n",
    "print (f\"Size: {x.shape}\")\n",
    "print(f\"x:\\n {x}\")"
   ]
  },
  {
   "cell_type": "code",
   "execution_count": 46,
   "id": "2f9f36da",
   "metadata": {},
   "outputs": [
    {
     "name": "stdout",
     "output_type": "stream",
     "text": [
      "Type: torch.FloatTensor\n",
      "tensor([[5.3240e+22, 3.2689e+21, 2.1707e-18, 7.2128e+22],\n",
      "        [2.1715e-18, 4.1488e-08, 1.0186e-11, 3.0878e-09],\n",
      "        [6.6767e-07, 4.0519e-11, 2.7600e-06, 2.9571e-18]])\n",
      "Type: torch.LongTensor\n",
      "tensor([[-9223372036854775808, -9223372036854775808,                    0,\n",
      "         -9223372036854775808],\n",
      "        [                   0,                    0,                    0,\n",
      "                            0],\n",
      "        [                   0,                    0,                    0,\n",
      "                            0]])\n"
     ]
    }
   ],
   "source": [
    "# Changing tensor type \n",
    "x = torch.Tensor(3,4)\n",
    "print(f\"Type: {x.type()}\")\n",
    "print(x)\n",
    "x = x.long()\n",
    "print(f\"Type: {x.type()}\")\n",
    "print(x)"
   ]
  },
  {
   "attachments": {},
   "cell_type": "markdown",
   "id": "51f767dd",
   "metadata": {},
   "source": [
    "### Long tensor \n",
    "\n",
    "In programming, we often work with numbers, like 1, 2, 3, etc. However, sometimes we need to work with really large numbers that are too big to be represented using the normal integer data type.\n",
    "\n",
    "For example, imagine you have a dataset with billions of entries, and you need to index into it using unique identifiers that are assigned to each entry. In this case, you would need a data type that can represent really large integer values, and that's where LongTensor comes in.\n",
    "\n",
    "In PyTorch, a LongTensor is a special type of data structure that can hold large integer values ranging from -9223372036854775808 to 9223372036854775807. You can think of it like a container that can store really big numbers.\n",
    "\n",
    "You can create a LongTensor by either explicitly converting an existing tensor of a different data type using the .long() method or by directly initializing it using the torch.LongTensor() constructor. Once you have a LongTensor, you can use it for various mathematical operations, just like any other tensor in PyTorch."
   ]
  },
  {
   "attachments": {},
   "cell_type": "markdown",
   "id": "e3d46265",
   "metadata": {},
   "source": [
    "#### Operations"
   ]
  },
  {
   "cell_type": "code",
   "execution_count": 47,
   "id": "3fc722ad",
   "metadata": {},
   "outputs": [
    {
     "name": "stdout",
     "output_type": "stream",
     "text": [
      "Size: torch.Size([2, 3])\n",
      "Values: \n",
      "tensor([[ 0.0761, -0.6775, -0.3988],\n",
      "        [ 3.0633, -0.1589,  0.3514]])\n"
     ]
    }
   ],
   "source": [
    "# Addition\n",
    "\n",
    "x = torch.randn(2,3)\n",
    "y = torch.randn(2,3)\n",
    "z = x + y\n",
    "print(f\"Size: {z.shape}\")\n",
    "print(f\"Values: \\n{z}\")"
   ]
  },
  {
   "cell_type": "markdown",
   "id": "239f3a72",
   "metadata": {},
   "source": []
  }
 ],
 "metadata": {
  "kernelspec": {
   "display_name": "base",
   "language": "python",
   "name": "python3"
  },
  "language_info": {
   "codemirror_mode": {
    "name": "ipython",
    "version": 3
   },
   "file_extension": ".py",
   "mimetype": "text/x-python",
   "name": "python",
   "nbconvert_exporter": "python",
   "pygments_lexer": "ipython3",
   "version": "3.10.10"
  },
  "vscode": {
   "interpreter": {
    "hash": "02ffa660b6f6d9be8cca427b74bc9cb87fea4b28c9e17012788bc534d238c364"
   }
  }
 },
 "nbformat": 4,
 "nbformat_minor": 5
}
