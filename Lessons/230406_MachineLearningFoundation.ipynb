{
 "cells": [
  {
   "attachments": {},
   "cell_type": "markdown",
   "id": "886467ac-de7e-46bc-a55e-6fd21277147b",
   "metadata": {},
   "source": [
    "<div align=\"center\">\n",
    "    <h1> My Machine Learning Journey</h1>\n",
    "Civil Engineer · Researcher Youtuber · Machine Learning Engineer (The Goal)\n",
    "    <br>\n",
    "    Sharing and documenting my progress and journey as I learn machine learning\n",
    "     <br>\n",
    "</div>\n",
    "\n",
    "<br>\n",
    "\n",
    "<div align=\"center\">\n",
    "    <a target=\"_blank\" href=\"https://github.com/barbaraaboagye/My-MachineLearning-Journey\"><img src=\"https://img.shields.io/github/last-commit/barbaraaboagye/My-MachineLearning-Journey\"></a>&nbsp;\n",
    "      <a target=\"_blank\" href=\"https://www.youtube.com/channel/UCEYKFq7ZEg81GYxpzNqYZ4)\"><img src=\"https://img.shields.io/youtube/channel/subscribers/UCEYKFq7ZEg81GYxpzNqYZ4Q?style=social\"></a>&nbsp;\n",
    "    <a target=\"_blank\" href=\"https://fr.linkedin.com/in/barbara-aboagye-233ba8133\"><img src=\"https://img.shields.io/badge/style--5eba00.svg?label=LinkedIn&logo=linkedin&style=social\"></a>&nbsp;\n",
    "    <a target=\"_blank\" href=\"https://twitter.com/awesome_ama\"><img src=\"https://img.shields.io/twitter/follow/awesome_ama?style=social\"></a>\n",
    "    <br>\n",
    "</div>\n",
    "\n",
    "<br>"
   ]
  },
  {
   "attachments": {},
   "cell_type": "markdown",
   "id": "45b714aa-02f9-45ac-b2bf-e83b34b0c093",
   "metadata": {
    "jp-MarkdownHeadingCollapsed": true,
    "tags": []
   },
   "source": [
    "# Linear regression - Day x of x\n",
    "\n",
    "Hours completed : 1 hr<br>\n",
    "\n"
   ]
  },
  {
   "attachments": {},
   "cell_type": "markdown",
   "id": "39e4c6e7-9871-4211-8c4e-94bc180dc5f4",
   "metadata": {
    "jp-MarkdownHeadingCollapsed": true,
    "tags": []
   },
   "source": [
    "# Resources used : \n",
    "\n",
    "- [Foundation- Machine learninf](https://madewithml.com/courses/foundations/linear-regression/)\n",
    "<br>\n",
    "\n",
    "Handwritten notes can be found [here][def]\n",
    "\n",
    "[def]: https://github.com/barbaraaboagye/My-MachineLearning-Journey/blob/bd0c6c4f95414ad0c0fedc6a76f514df17a60827/Handwritten%20notes/230406_MachineLearningFoundation.pdf"
   ]
  },
  {
   "attachments": {},
   "cell_type": "markdown",
   "id": "0dd1ee3d",
   "metadata": {},
   "source": [
    "### Overview\n",
    "\n",
    "The goal is to learn a linear model $\\hat{y}$ given $X$ using weights $W$ and bias $b$ :\n",
    "\\begin{align}\n",
    "\\hat{y} = XW  + b \n",
    "\\end{align}\n",
    "\n",
    "| Variable | Description |\n",
    "| --- | --- |\n",
    "| $N$ | total numbers of samples |\n",
    "|$\\hat{y}$ | Predictions  |\n",
    "|$X$ | Inputs  |\n",
    "| $W$ | Weights |\n",
    "| $b$ | Bias |\n",
    "\n",
    "**Objective**\n",
    "\n",
    "The objective is to make predictions based on some information given to us. We will use a straight line (linear model) to make these predictions by finding the best line that is closest to the correct answers. We will use some data to teach the computer how to find the best line using a method called gradient descent.\n",
    "\n",
    "**Advantages and Disadvantages**\n",
    "\n",
    "The advantage of using a linear model is that it is simple and easy to understand. It can handle different types of information like numbers and categories.\n",
    "\n",
    "However, it has a disadvantage: it can only work well when the data can be separated by a straight line (for classification).\n",
    "\n",
    "**Miscellaneous**\n",
    "\n",
    "Lastly, we can use a linear model to classify things into two groups if we set a threshold. But for now, we will use it to predict continuous values only.\n"
   ]
  },
  {
   "attachments": {},
   "cell_type": "markdown",
   "id": "21a75874",
   "metadata": {},
   "source": [
    "### Data generation\n",
    "\n",
    "A dummy data will be created and linear regression will be applied on it. The data is of the form : $y = 3.5X + \\text{noise}$; the noise is to make the data realistic and not fit perfectly to a line. \n",
    "\n",
    "The goal is to create a model that converges to a similar linear equation (there will be a bit of variance since noise was added)"
   ]
  },
  {
   "cell_type": "code",
   "execution_count": 19,
   "id": "3c9605c2",
   "metadata": {},
   "outputs": [],
   "source": [
    "import numpy as np\n",
    "import pandas as pd\n",
    "import matplotlib.pyplot as plt"
   ]
  },
  {
   "cell_type": "code",
   "execution_count": 20,
   "id": "9073b79d",
   "metadata": {},
   "outputs": [],
   "source": [
    "SEED = 1234\n",
    "num_samples = 50"
   ]
  },
  {
   "cell_type": "code",
   "execution_count": 21,
   "id": "134b77e4",
   "metadata": {},
   "outputs": [],
   "source": [
    "# Set seed for reporducibility\n",
    "\n",
    "np.random.seed(SEED)"
   ]
  },
  {
   "cell_type": "code",
   "execution_count": 22,
   "id": "b59cdf40",
   "metadata": {},
   "outputs": [],
   "source": [
    "# Generate synthetic data \n",
    "# Data to generate :  $y = 3.5X + \\text{noise}$\n",
    "\n",
    "def generate_data (num_samples) :\n",
    "    X = np.array(range(num_samples))\n",
    "    noise = np.random.uniform(-10,20,size = num_samples)\n",
    "    y = 3.5 * X + noise\n",
    "    return X,y"
   ]
  },
  {
   "cell_type": "code",
   "execution_count": 23,
   "id": "aba652e0",
   "metadata": {},
   "outputs": [
    {
     "data": {
      "text/plain": [
       "(array([ 0,  1,  2,  3,  4,  5,  6,  7,  8,  9, 10, 11, 12, 13, 14, 15, 16,\n",
       "        17, 18, 19, 20, 21, 22, 23, 24, 25, 26, 27, 28, 29, 30, 31, 32, 33,\n",
       "        34, 35, 36, 37, 38, 39, 40, 41, 42, 43, 44, 45, 46, 47, 48, 49]),\n",
       " array([ -4.25441649,  12.16326313,  10.13183217,  24.06075751,\n",
       "         27.39927424,  15.67777816,  19.29392765,  38.55616533,\n",
       "         46.74418061,  47.77797904,  35.7345181 ,  43.52985377,\n",
       "         52.50388806,  56.88106081,  50.10752264,  59.33588558,\n",
       "         61.09249496,  49.91305349,  76.18479865,  82.97923572,\n",
       "         70.94657952,  81.96188535,  69.26143725,  81.56472018,\n",
       "        101.99420306,  97.0413443 ,  92.91607733, 108.16190429,\n",
       "         97.50508367, 108.54295958, 121.07382169, 111.58520272,\n",
       "        126.06442926, 109.81300474, 130.12782913, 133.63743925,\n",
       "        122.56376317, 147.24602886, 136.26422266, 153.77947877,\n",
       "        131.79427668, 139.02861251, 138.42065836, 160.74642831,\n",
       "        161.8387434 , 163.49930489, 152.29972188, 171.3429924 ,\n",
       "        167.89005337, 176.58900499]))"
      ]
     },
     "execution_count": 23,
     "metadata": {},
     "output_type": "execute_result"
    }
   ],
   "source": [
    "generate_data (num_samples)\n"
   ]
  }
 ],
 "metadata": {
  "kernelspec": {
   "display_name": "base",
   "language": "python",
   "name": "python3"
  },
  "language_info": {
   "codemirror_mode": {
    "name": "ipython",
    "version": 3
   },
   "file_extension": ".py",
   "mimetype": "text/x-python",
   "name": "python",
   "nbconvert_exporter": "python",
   "pygments_lexer": "ipython3",
   "version": "3.9.16"
  },
  "vscode": {
   "interpreter": {
    "hash": "02ffa660b6f6d9be8cca427b74bc9cb87fea4b28c9e17012788bc534d238c364"
   }
  }
 },
 "nbformat": 4,
 "nbformat_minor": 5
}
