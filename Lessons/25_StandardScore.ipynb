{
 "cells": [
  {
   "cell_type": "markdown",
   "id": "886467ac-de7e-46bc-a55e-6fd21277147b",
   "metadata": {},
   "source": [
    "<div align=\"center\">\n",
    "    <h1> My Machine Learning Journey</h1>\n",
    "Civl Engineer · Researcher Youtuber · Machine Learning Engineer (The Goal)\n",
    "    <br>\n",
    "    Sharing and documenting my progress and journey as I learn machine learning\n",
    "     <br>\n",
    "</div>\n",
    "\n",
    "<br>\n",
    "\n",
    "<div align=\"center\">\n",
    "    <a target=\"_blank\" href=\"https://github.com/barbaraaboagye/My-MachineLearning-Journey\"><img src=\"https://img.shields.io/github/last-commit/barbaraaboagye/My-MachineLearning-Journey\"></a>&nbsp;\n",
    "      <a target=\"_blank\" href=\"https://www.youtube.com/channel/UCEYKFq7ZEg81GYxpzNqYZ4)\"><img src=\"https://img.shields.io/youtube/channel/subscribers/UCEYKFq7ZEg81GYxpzNqYZ4Q?style=social\"></a>&nbsp;\n",
    "    <a target=\"_blank\" href=\"https://fr.linkedin.com/in/barbara-aboagye-233ba8133\"><img src=\"https://img.shields.io/badge/style--5eba00.svg?label=LinkedIn&logo=linkedin&style=social\"></a>&nbsp;\n",
    "    <a target=\"_blank\" href=\"https://twitter.com/awesome_ama\"><img src=\"https://img.shields.io/twitter/follow/awesome_ama?style=social\"></a>\n",
    "    <br>\n",
    "</div>\n",
    "\n",
    "<br>"
   ]
  },
  {
   "attachments": {},
   "cell_type": "markdown",
   "id": "45b714aa-02f9-45ac-b2bf-e83b34b0c093",
   "metadata": {
    "jp-MarkdownHeadingCollapsed": true,
    "tags": []
   },
   "source": [
    "# Project/Standard SCORE - Day 25 of x\n",
    "\n",
    "Date : 26 December,2022 <br>\n",
    "Check in time : 8:10am<br>\n",
    "Check out time : 10:10 am<br>\n",
    "Progress :"
   ]
  },
  {
   "attachments": {},
   "cell_type": "markdown",
   "id": "39e4c6e7-9871-4211-8c4e-94bc180dc5f4",
   "metadata": {
    "jp-MarkdownHeadingCollapsed": true,
    "tags": []
   },
   "source": [
    "# Resources used : \n",
    "\n",
    "\n",
    " Handwritten notes can be found [here]"
   ]
  },
  {
   "attachments": {},
   "cell_type": "markdown",
   "id": "53b2943d",
   "metadata": {},
   "source": [
    "## Summary \n",
    "\n",
    "- [How to push vscode to github](https://www.youtube.com/watch?v=WcM47v3qWPY&t=0s)\n",
    "    -  I couldn't do this on my mac. I will look into this later\n",
    "- [Predicting compressive strength project]()\n",
    "- [Back to intro to statistics course](https://learn.udacity.com/courses/st101/lessons/7ff17e8a-880a-45b1-98c8-8efdf4bb6b41/concepts/2ff5d963-5bb9-4109-be3f-443d21b3cca9/instructions) \n"
   ]
  },
  {
   "attachments": {},
   "cell_type": "markdown",
   "id": "0f79794f",
   "metadata": {},
   "source": [
    "# Re-looked at the z-score or standard score\n",
    "\n",
    "The standard score, also known as the z-score, is a measure of how many standard deviations a data point is from the mean of a dataset. It is calculated by subtracting the mean of the dataset from the value of the data point, and then dividing the result by the standard deviation of the dataset. The standard score allows you to compare the value of a data point to the overall distribution of the data, and can be useful for identifying outliers or understanding the relative magnitude of the data point within the dataset.\n",
    "\n",
    "For example, if the mean of a dataset is 100 and the standard deviation is 10, a data point with a value of 120 would have a standard score of 2, because it is 2 standard deviations above the mean. On the other hand, a data point with a value of 80 would have a standard score of -2, because it is 2 standard deviations below the mean.\n",
    "\n",
    "Standard scores are commonly used in statistics and data analysis, and can be helpful for comparing data points across different datasets or for identifying patterns or trends within a dataset.nbvcvbcdxz nbvc\n",
    "Standard scores are commonly used in statistics and data analysis, and can be helpful for comparing data points across different datasets or for identifying patterns or trends within a dataset.nbvxzXASQ  SQWEcvbcdxz nbvc\n",
    "\n",
    "\n",
    "*Scaling a data              v "
   ]
  },
  {
   "cell_type": "code",
   "execution_count": 6,
   "id": "acb9c9e8",
   "metadata": {},
   "outputs": [
    {
     "data": {
      "text/plain": [
       "1.2727272727272727"
      ]
     },
     "execution_count": 6,
     "metadata": {},
     "output_type": "execute_result"
    }
   ],
   "source": []
  },
  {
   "cell_type": "markdown",
   "id": "10ef9368",
   "metadata": {},
   "source": []
  }
 ],
 "metadata": {
  "kernelspec": {
   "display_name": "base",
   "language": "python",
   "name": "python3"
  },
  "language_info": {
   "codemirror_mode": {
    "name": "ipython",
    "version": 3
   },
   "file_extension": ".py",
   "mimetype": "text/x-python",
   "name": "python",
   "nbconvert_exporter": "python",
   "pygments_lexer": "ipython3",
   "version": "3.9.12"
  },
  "vscode": {
   "interpreter": {
    "hash": "02ffa660b6f6d9be8cca427b74bc9cb87fea4b28c9e17012788bc534d238c364"
   }
  }
 },
 "nbformat": 4,
 "nbformat_minor": 5
}
