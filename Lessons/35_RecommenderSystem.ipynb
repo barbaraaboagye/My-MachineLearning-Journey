{
 "cells": [
  {
   "cell_type": "markdown",
   "id": "886467ac-de7e-46bc-a55e-6fd21277147b",
   "metadata": {},
   "source": [
    "<div align=\"center\">\n",
    "    <h1> My Machine Learning Journey</h1>\n",
    "Civl Engineer · Researcher Youtuber · Machine Learning Engineer (The Goal)\n",
    "    <br>\n",
    "    Sharing and documenting my progress and journey as I learn machine learning\n",
    "     <br>\n",
    "</div>\n",
    "\n",
    "<br>\n",
    "\n",
    "<div align=\"center\">\n",
    "    <a target=\"_blank\" href=\"https://github.com/barbaraaboagye/My-MachineLearning-Journey\"><img src=\"https://img.shields.io/github/last-commit/barbaraaboagye/My-MachineLearning-Journey\"></a>&nbsp;\n",
    "      <a target=\"_blank\" href=\"https://www.youtube.com/channel/UCEYKFq7ZEg81GYxpzNqYZ4)\"><img src=\"https://img.shields.io/youtube/channel/subscribers/UCEYKFq7ZEg81GYxpzNqYZ4Q?style=social\"></a>&nbsp;\n",
    "    <a target=\"_blank\" href=\"https://fr.linkedin.com/in/barbara-aboagye-233ba8133\"><img src=\"https://img.shields.io/badge/style--5eba00.svg?label=LinkedIn&logo=linkedin&style=social\"></a>&nbsp;\n",
    "    <a target=\"_blank\" href=\"https://twitter.com/awesome_ama\"><img src=\"https://img.shields.io/twitter/follow/awesome_ama?style=social\"></a>\n",
    "    <br>\n",
    "</div>\n",
    "\n",
    "<br>"
   ]
  },
  {
   "attachments": {},
   "cell_type": "markdown",
   "id": "45b714aa-02f9-45ac-b2bf-e83b34b0c093",
   "metadata": {
    "jp-MarkdownHeadingCollapsed": true,
    "tags": []
   },
   "source": [
    "# Recommendation system - Day 35 of x\n",
    "Having issues with internet so taking a break for the intro to statistics course. I will use the current resources I have available to study. <br>\n",
    "Date : 3 Jan,2022 <br>\n",
    "Check in time :9:15am <br>\n",
    "Check out time :10:44am <br>\n",
    "\n",
    "Session  2\n",
    "Check in time :5:21pm <br>\n",
    "Check out time :7:00p <br>\n",
    "Progress :"
   ]
  },
  {
   "cell_type": "markdown",
   "id": "39e4c6e7-9871-4211-8c4e-94bc180dc5f4",
   "metadata": {
    "jp-MarkdownHeadingCollapsed": true,
    "tags": []
   },
   "source": [
    "# Resources used : \n",
    "\n",
    "- [Udacity : Introduction to statitiscs](https://learn.udacity.com/courses/st101)\n",
    "<br>\n",
    " Hanndwritten notes can be found [here]"
   ]
  },
  {
   "attachments": {},
   "cell_type": "markdown",
   "id": "b505b51a",
   "metadata": {},
   "source": [
    "## Recommendation based system\n",
    "\n",
    "This is become a popular way to market products online. Based on things you like or you view, you tend to keep on seeing them around\n"
   ]
  },
  {
   "attachments": {},
   "cell_type": "markdown",
   "id": "7fb3c8da",
   "metadata": {},
   "source": [
    "Recommendation based system can be done based on : <br> \n",
    "- Content : Based on the content of the item of interest, recommendation can be made. \n",
    "- Popularity : This is based on the rating. The higher the rating, \n",
    "- Collaborative filtering : User A likes cats, dogs and rabbits. User B likes cats and dogs. Rabbits can then be recommended to User B. Examples are what we see on online marketplace such as Amazon where you are showed oter items viewed by other customers who viewed the same item you viewed."
   ]
  },
  {
   "attachments": {},
   "cell_type": "markdown",
   "id": "40b6a9c5",
   "metadata": {},
   "source": [
    "### Project\n",
    "\n",
    "- Review an already written code for the recommender system. Understand each line and do a bit of data visualisation. Also use other features for the recommendation. Maybe also get a different dataset from kaggle and try and replicate the same code with those dataset?"
   ]
  },
  {
   "attachments": {},
   "cell_type": "markdown",
   "id": "efbf51bb",
   "metadata": {},
   "source": [
    "## Problems\n",
    "\n",
    "- Finding it difficult to access the elements in a column\n",
    "    - Figured it out : first_element = df.iloc[0]['combined_features']  # get the first element as a Pandas Series\n",
    "#print (first_element)"
   ]
  },
  {
   "cell_type": "markdown",
   "id": "ea8be0ce",
   "metadata": {},
   "source": []
  }
 ],
 "metadata": {
  "kernelspec": {
   "display_name": "base",
   "language": "python",
   "name": "python3"
  },
  "language_info": {
   "codemirror_mode": {
    "name": "ipython",
    "version": 3
   },
   "file_extension": ".py",
   "mimetype": "text/x-python",
   "name": "python",
   "nbconvert_exporter": "python",
   "pygments_lexer": "ipython3",
   "version": "3.9.12 (main, Apr  5 2022, 01:53:17) \n[Clang 12.0.0 ]"
  },
  "vscode": {
   "interpreter": {
    "hash": "02ffa660b6f6d9be8cca427b74bc9cb87fea4b28c9e17012788bc534d238c364"
   }
  }
 },
 "nbformat": 4,
 "nbformat_minor": 5
}
