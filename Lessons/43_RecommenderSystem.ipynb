{
 "cells": [
  {
   "cell_type": "markdown",
   "id": "886467ac-de7e-46bc-a55e-6fd21277147b",
   "metadata": {},
   "source": [
    "<div align=\"center\">\n",
    "    <h1> My Machine Learning Journey</h1>\n",
    "Civl Engineer · Researcher Youtuber · Machine Learning Engineer (The Goal)\n",
    "    <br>\n",
    "    Sharing and documenting my progress and journey as I learn machine learning\n",
    "     <br>\n",
    "</div>\n",
    "\n",
    "<br>\n",
    "\n",
    "<div align=\"center\">\n",
    "    <a target=\"_blank\" href=\"https://github.com/barbaraaboagye/My-MachineLearning-Journey\"><img src=\"https://img.shields.io/github/last-commit/barbaraaboagye/My-MachineLearning-Journey\"></a>&nbsp;\n",
    "      <a target=\"_blank\" href=\"https://www.youtube.com/channel/UCEYKFq7ZEg81GYxpzNqYZ4)\"><img src=\"https://img.shields.io/youtube/channel/subscribers/UCEYKFq7ZEg81GYxpzNqYZ4Q?style=social\"></a>&nbsp;\n",
    "    <a target=\"_blank\" href=\"https://fr.linkedin.com/in/barbara-aboagye-233ba8133\"><img src=\"https://img.shields.io/badge/style--5eba00.svg?label=LinkedIn&logo=linkedin&style=social\"></a>&nbsp;\n",
    "    <a target=\"_blank\" href=\"https://twitter.com/awesome_ama\"><img src=\"https://img.shields.io/twitter/follow/awesome_ama?style=social\"></a>\n",
    "    <br>\n",
    "</div>\n",
    "\n",
    "<br>"
   ]
  },
  {
   "attachments": {},
   "cell_type": "markdown",
   "id": "45b714aa-02f9-45ac-b2bf-e83b34b0c093",
   "metadata": {
    "jp-MarkdownHeadingCollapsed": true,
    "tags": []
   },
   "source": [
    "# Topic - Day 43 of x\n",
    " <br>\n",
    "Date : 11 January,2023 <br>\n",
    "Check in time :5:04am GMT <br>\n",
    "Check out time : 7:29am GMT <br>\n",
    "Progress :"
   ]
  },
  {
   "cell_type": "markdown",
   "id": "39e4c6e7-9871-4211-8c4e-94bc180dc5f4",
   "metadata": {
    "jp-MarkdownHeadingCollapsed": true,
    "tags": []
   },
   "source": [
    "# Resources used : \n",
    "\n",
    "- [Udacity : Introduction to statitiscs](https://learn.udacity.com/courses/st101)\n",
    "<br>\n",
    " Hanndwritten notes can be found [here]"
   ]
  },
  {
   "attachments": {},
   "cell_type": "markdown",
   "id": "cc22cb2c",
   "metadata": {},
   "source": [
    "### ACTIVITIES\n",
    "- Finished understanding the already written code of the movie recommender engine\n",
    "- [Re-wrote the code by hand](https://github.com/barbaraaboagye/My-MachineLearning-Journey/blob/0c9a74e587621b9ad6fc7ab3d0d3bb3fa15d8bc9/Handwritten%20notes/43_RecommenderSystem.pdf)\n",
    "- [Replicated the code in python](https://github.com/barbaraaboagye/My-MachineLearning-Journey/blob/332d0b2a7214911cd908e8072bc6f81121c59b07/Projects/Movie-Recommendation-System/ReplicateRecommenderSystem.ipynb)\n",
    "- [ChatGPT conversations](https://github.com/barbaraaboagye/My-MachineLearning-Journey/blob/0c9a74e587621b9ad6fc7ab3d0d3bb3fa15d8bc9/Handwritten%20notes/43_ChatGPTRecommender%20System.pdf)\n",
    "- Uploaded project into Github and created a [readme.md](https://github.com/barbaraaboagye/My-MachineLearning-Journey/blob/332d0b2a7214911cd908e8072bc6f81121c59b07/Projects/Movie-Recommendation-System/readme.md)"
   ]
  },
  {
   "cell_type": "markdown",
   "id": "953f1ef7",
   "metadata": {},
   "source": []
  }
 ],
 "metadata": {
  "kernelspec": {
   "display_name": "base",
   "language": "python",
   "name": "python3"
  },
  "language_info": {
   "codemirror_mode": {
    "name": "ipython",
    "version": 3
   },
   "file_extension": ".py",
   "mimetype": "text/x-python",
   "name": "python",
   "nbconvert_exporter": "python",
   "pygments_lexer": "ipython3",
   "version": "3.9.12 (main, Apr  5 2022, 01:53:17) \n[Clang 12.0.0 ]"
  },
  "vscode": {
   "interpreter": {
    "hash": "02ffa660b6f6d9be8cca427b74bc9cb87fea4b28c9e17012788bc534d238c364"
   }
  }
 },
 "nbformat": 4,
 "nbformat_minor": 5
}
