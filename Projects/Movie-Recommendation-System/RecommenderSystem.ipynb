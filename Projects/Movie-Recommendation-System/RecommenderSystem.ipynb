{
 "cells": [
  {
   "attachments": {},
   "cell_type": "markdown",
   "metadata": {},
   "source": [
    "### Project\n",
    "\n",
    "- Review an already written code for the recommender system. Understand each line and do a bit of data visualisation. Also use other features for the recommendation. Maybe also get a different dataset from kaggle and try and replicate the same code with those dataset?"
   ]
  },
  {
   "attachments": {},
   "cell_type": "markdown",
   "metadata": {},
   "source": [
    "# Recommender System"
   ]
  },
  {
   "cell_type": "code",
   "execution_count": 2,
   "metadata": {},
   "outputs": [],
   "source": [
    "#Importing the libraries\n",
    "\n",
    "import pandas as pd\n",
    "import numpy as np\n",
    "from sklearn.feature_extraction.text import CountVectorizer\n",
    "from sklearn.metrics.pairwise import cosine_similarity\n",
    "\n"
   ]
  },
  {
   "attachments": {},
   "cell_type": "markdown",
   "metadata": {},
   "source": [
    "### Step 1 : Read csv file containing dataset"
   ]
  },
  {
   "cell_type": "code",
   "execution_count": 3,
   "metadata": {},
   "outputs": [
    {
     "name": "stdout",
     "output_type": "stream",
     "text": [
      "Index(['index', 'budget', 'genres', 'homepage', 'id', 'keywords',\n",
      "       'original_language', 'original_title', 'overview', 'popularity',\n",
      "       'production_companies', 'production_countries', 'release_date',\n",
      "       'revenue', 'runtime', 'spoken_languages', 'status', 'tagline', 'title',\n",
      "       'vote_average', 'vote_count', 'cast', 'crew', 'director'],\n",
      "      dtype='object')\n"
     ]
    }
   ],
   "source": [
    "df = pd.read_csv(\"movie_dataset.csv\")\n",
    "print (df.columns) #Print all the columns of the dataset to get a feel of the data\n",
    "#df.info() #Prints information about the dataset\n",
    "#df.head()"
   ]
  },
  {
   "attachments": {},
   "cell_type": "markdown",
   "metadata": {},
   "source": [
    "### Step 2: Select Features"
   ]
  },
  {
   "cell_type": "code",
   "execution_count": 4,
   "metadata": {},
   "outputs": [
    {
     "data": {
      "text/plain": [
       "0    culture clash future space war space colony so...\n",
       "1    ocean drug abuse exotic island east india trad...\n",
       "2    spy based on novel secret agent sequel mi6 Dan...\n",
       "3    dc comics crime fighter terrorist secret ident...\n",
       "4    based on novel mars medallion space travel pri...\n",
       "Name: combined_features, dtype: object"
      ]
     },
     "execution_count": 4,
     "metadata": {},
     "output_type": "execute_result"
    }
   ],
   "source": [
    "features = ['keywords','cast','genres','director']\n",
    "\n",
    "##Step 3: Create a column in DF which combines all selected features\n",
    "for feature in features:\n",
    "\tdf[feature] = df[feature].fillna('')\n",
    "\n",
    "def combine_features(row):\n",
    "\ttry:\n",
    "\t\treturn row['keywords'] +\" \"+row['cast']+\" \"+row[\"genres\"]+\" \"+row[\"director\"]\n",
    "\texcept:\n",
    "\t\tprint (\"Error:\", row)\t\n",
    "\n",
    "df[\"combined_features\"] = df.apply(combine_features,axis=1)\n",
    "\n",
    "df[\"combined_features\"].head()\n"
   ]
  },
  {
   "cell_type": "code",
   "execution_count": 5,
   "metadata": {},
   "outputs": [],
   "source": [
    "first_element = df.iloc[0]['combined_features']  # get the first element as a Pandas Series\n",
    "#print (first_element)\n"
   ]
  },
  {
   "cell_type": "markdown",
   "metadata": {},
   "source": [
    "### Step 4: Create count matrix from this new combined column"
   ]
  },
  {
   "cell_type": "code",
   "execution_count": 6,
   "metadata": {},
   "outputs": [],
   "source": [
    "cv = CountVectorizer()\n",
    "\n",
    "count_matrix = cv.fit_transform(df[\"combined_features\"])\n"
   ]
  },
  {
   "attachments": {},
   "cell_type": "markdown",
   "metadata": {},
   "source": [
    "`count_matrix` gives us a sparse matrix. To make it in human readable form, we need to apply `toarrray()` method over it. And before printing out this `count_matrix`, let us first print out the feature list(or, word list), which have been fed to our `CountVectorizer()` object."
   ]
  },
  {
   "cell_type": "code",
   "execution_count": 16,
   "metadata": {},
   "outputs": [],
   "source": [
    "feature_names = list(cv.vocabulary_.keys()) #Print the vocabulary of the count matrix or the feature list\n",
    "array = count_matrix.toarray()"
   ]
  },
  {
   "cell_type": "code",
   "execution_count": 17,
   "metadata": {},
   "outputs": [
    {
     "data": {
      "text/plain": [
       "['culture',\n",
       " 'clash',\n",
       " 'future',\n",
       " 'space',\n",
       " 'war',\n",
       " 'colony',\n",
       " 'society',\n",
       " 'sam',\n",
       " 'worthington',\n",
       " 'zoe']"
      ]
     },
     "execution_count": 17,
     "metadata": {},
     "output_type": "execute_result"
    }
   ],
   "source": [
    "feature_names[0:10] #Print the first 10 features"
   ]
  },
  {
   "cell_type": "code",
   "execution_count": 9,
   "metadata": {},
   "outputs": [
    {
     "name": "stdout",
     "output_type": "stream",
     "text": [
      "Avatar\n",
      "Guardians of the Galaxy\n",
      "Aliens\n",
      "Star Wars: Clone Wars: Volume 1\n",
      "Star Trek Into Darkness\n",
      "Star Trek Beyond\n",
      "Alien\n",
      "Lockout\n",
      "Jason X\n",
      "The Helix... Loaded\n",
      "Moonraker\n"
     ]
    }
   ],
   "source": [
    "##Step 5: Compute the Cosine Similarity based on the count_matrix\n",
    "cosine_sim = cosine_similarity(count_matrix) \n",
    "movie_user_likes = \"Avatar\"\n",
    "\n",
    "## Step 6: Get index of this movie from its title\n",
    "def get_title_from_index(index):\n",
    "\treturn df[df.index == index][\"title\"].values[0]\n",
    "\n",
    "def get_index_from_title(title):\n",
    "\treturn df[df.title == title][\"index\"].values[0]\n",
    "\n",
    "movie_index = get_index_from_title(movie_user_likes)\n",
    "\n",
    "similar_movies =  list(enumerate(cosine_sim[movie_index]))\n",
    "\n",
    "## Step 7: Get a list of similar movies in descending order of similarity score\n",
    "sorted_similar_movies = sorted(similar_movies,key=lambda x:x[1],reverse=True)\n",
    "\n",
    "## Step 8: Print titles of first 10 movies\n",
    "i=0\n",
    "for element in sorted_similar_movies:\n",
    "\t\tprint (get_title_from_index(element[0]))\n",
    "\t\ti=i+1\n",
    "\t\tif i>10:\n",
    "\t\t\tbreak"
   ]
  },
  {
   "cell_type": "code",
   "execution_count": 13,
   "metadata": {},
   "outputs": [],
   "source": [
    "a =  get_index_from_title(\"Aliens\") #get index of movie with the title"
   ]
  },
  {
   "cell_type": "code",
   "execution_count": 14,
   "metadata": {},
   "outputs": [],
   "source": [
    "movie_index = df[df.title == \"Aliens\"][\"index\"].values[0] #\n"
   ]
  },
  {
   "cell_type": "code",
   "execution_count": null,
   "metadata": {},
   "outputs": [],
   "source": []
  }
 ],
 "metadata": {
  "kernelspec": {
   "display_name": "base",
   "language": "python",
   "name": "python3"
  },
  "language_info": {
   "codemirror_mode": {
    "name": "ipython",
    "version": 3
   },
   "file_extension": ".py",
   "mimetype": "text/x-python",
   "name": "python",
   "nbconvert_exporter": "python",
   "pygments_lexer": "ipython3",
   "version": "3.9.12"
  },
  "orig_nbformat": 4,
  "vscode": {
   "interpreter": {
    "hash": "02ffa660b6f6d9be8cca427b74bc9cb87fea4b28c9e17012788bc534d238c364"
   }
  }
 },
 "nbformat": 4,
 "nbformat_minor": 2
}
