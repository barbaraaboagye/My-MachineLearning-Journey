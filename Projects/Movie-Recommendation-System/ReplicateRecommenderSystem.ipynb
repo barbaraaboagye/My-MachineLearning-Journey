{
 "cells": [
  {
   "attachments": {},
   "cell_type": "markdown",
   "metadata": {},
   "source": [
    "### Import the necessary libraries (pandas, numpy, CountVectorizer and cosine_similarity)\n",
    "\n",
    "- The `pandas` library is used to read the CSV file and manipulate the data in the movie dataset\n",
    "\n",
    "- The `numpy` library is used for numerical computations\n",
    "\n",
    "- The `CountVectorizer` class from the `sklearn.feature_extraction.text` module is used to create a count matrix from the \"combined_features\" column\n",
    "\n",
    "- The `cosine_similarity` function from `sklearn.metrics.pairwise` is used to compute the cosine similarity between the movies based on the count matrix"
   ]
  },
  {
   "cell_type": "code",
   "execution_count": 9,
   "metadata": {},
   "outputs": [],
   "source": [
    "import pandas as pd \n",
    "import numpy as np \n",
    "from sklearn.feature_extraction.text import CountVectorizer\n",
    "from sklearn.metrics.pairwise import cosine_similarity"
   ]
  },
  {
   "attachments": {},
   "cell_type": "markdown",
   "metadata": {},
   "source": [
    "### Define helper functions to get the movie title from its index and movie index from its title\n",
    "\n",
    "- `get_title_from_index(index)` is a helper function defined by the user to retrieve the title of a movie given its index in the dataset. It uses the `return df[df.index == index][\"title\"].values[0]` statement to return the title of the movie.\n",
    "\n",
    "- `get_index_from_title(title)` is also a helper function defined by the user to retrieve the index of a movie given its title. It uses the return `df[df.title == title][\"index\"].values[0]` statement to return the index of the movie"
   ]
  },
  {
   "cell_type": "code",
   "execution_count": 10,
   "metadata": {},
   "outputs": [],
   "source": [
    "def get_index_from_title(title):\n",
    "    return df[df.title == title][\"index\"].values[0]\n",
    "\n",
    "def get_title_from_index(index):\n",
    "    return df[df.index == index][\"title\"].values[0]"
   ]
  },
  {
   "attachments": {},
   "cell_type": "markdown",
   "metadata": {},
   "source": [
    "### Read movie dataset from a CSV file using pandas\n",
    "\n",
    "The movie dataset is loaded into the dataframe `df` using`pd.read_csv(\"movie_dataset.csv\")` function provided by pandas library."
   ]
  },
  {
   "cell_type": "code",
   "execution_count": 11,
   "metadata": {},
   "outputs": [
    {
     "data": {
      "text/plain": [
       "Index(['index', 'budget', 'genres', 'homepage', 'id', 'keywords',\n",
       "       'original_language', 'original_title', 'overview', 'popularity',\n",
       "       'production_companies', 'production_countries', 'release_date',\n",
       "       'revenue', 'runtime', 'spoken_languages', 'status', 'tagline', 'title',\n",
       "       'vote_average', 'vote_count', 'cast', 'crew', 'director'],\n",
       "      dtype='object')"
      ]
     },
     "execution_count": 11,
     "metadata": {},
     "output_type": "execute_result"
    }
   ],
   "source": [
    "df = pd.read_csv(\"movie_dataset.csv\")\n",
    "df.columns"
   ]
  },
  {
   "attachments": {},
   "cell_type": "markdown",
   "metadata": {},
   "source": [
    "### Select features (keywords, cast, genres, director) from the dataset\n",
    "\n",
    "- The features variable is defined as a list of strings, containing the features to be selected from the movie dataset, specifically 'keywords', 'cast', 'genres', and 'director'"
   ]
  },
  {
   "cell_type": "code",
   "execution_count": 12,
   "metadata": {},
   "outputs": [],
   "source": [
    "features = ['keywords', 'genres', 'cast', 'director']\n",
    "\n",
    "for feature in features :\n",
    "    df[feature] = df[feature].fillna(\" \")"
   ]
  },
  {
   "attachments": {},
   "cell_type": "markdown",
   "metadata": {},
   "source": [
    "### Create a new column in the dataset that combines all selected features\n",
    "\n",
    "- A for loop iterates through the list of selected features, and for each feature in the list, the code `df[feature] = df[feature].fillna('')` fills any missing values with an empty string.\n",
    "\n",
    "- Then the user-defined function `combine_features(row)` is used to combine the values of all selected features for each movie into a single string.\n",
    "\n",
    "- This new combined feature string is added to the dataframe as a new column called \"combined_features\" using `df[\"combined_features\"] = df.apply(combine_features,axis=1)`"
   ]
  },
  {
   "cell_type": "code",
   "execution_count": 13,
   "metadata": {},
   "outputs": [],
   "source": [
    "def combine_features(row):\n",
    "\ttry:\n",
    "\t\treturn row['keywords'] +\" \"+row['cast']+\" \"+row[\"genres\"]+\" \"+row[\"director\"]\n",
    "\texcept:\n",
    "\t\tprint (\"Error:\", row)\t\n",
    "\n",
    "df[\"combined_features\"] = df.apply(combine_features,axis=1)\n"
   ]
  },
  {
   "attachments": {},
   "cell_type": "markdown",
   "metadata": {},
   "source": [
    "### Create a count matrix from the new column using CountVectorizer\n",
    "\n",
    "- The `CountVectorizer()` class is used to create a count matrix from the \"combined_features\" column by calling its `fit_transform()` method and passing in `df[\"combined_features\"]` as an argument"
   ]
  },
  {
   "cell_type": "code",
   "execution_count": 14,
   "metadata": {},
   "outputs": [
    {
     "data": {
      "text/plain": [
       "['culture',\n",
       " 'clash',\n",
       " 'future',\n",
       " 'space',\n",
       " 'war',\n",
       " 'colony',\n",
       " 'society',\n",
       " 'sam',\n",
       " 'worthington',\n",
       " 'zoe',\n",
       " 'saldana',\n",
       " 'sigourney',\n",
       " 'weaver',\n",
       " 'stephen',\n",
       " 'lang']"
      ]
     },
     "execution_count": 14,
     "metadata": {},
     "output_type": "execute_result"
    }
   ],
   "source": [
    "cv = CountVectorizer()\n",
    "\n",
    "count_matrix = cv.fit_transform(df['combined_features'])\n",
    "\n",
    "array = count_matrix.toarray()\n",
    "\n",
    "features_names = list(cv.vocabulary_.keys())\n",
    "\n",
    "features_names[0:15]"
   ]
  },
  {
   "attachments": {},
   "cell_type": "markdown",
   "metadata": {},
   "source": [
    "### Compute the cosine similarity between the movies based on the count \n",
    "\n",
    "- The cosine similarity is computed by calling the `cosine_similarity()` function from `sklearn.metrics.pairwise`, passing in the count matrix as an argument and storing the resulting similarity matrix in the variable `cosine_sim`"
   ]
  },
  {
   "cell_type": "code",
   "execution_count": 15,
   "metadata": {},
   "outputs": [],
   "source": [
    "cos_sim = cosine_similarity(count_matrix)"
   ]
  },
  {
   "attachments": {},
   "cell_type": "markdown",
   "metadata": {},
   "source": [
    "### Retrieve the index of the movie that the user likes\n",
    "\n",
    "- movie_user_likes = \"Avatar\" is defined as the movie that the user likes\n",
    "\n",
    "- Using the helper function `get_index_from_title(movie_user_likes)` to get the index of this movie."
   ]
  },
  {
   "cell_type": "code",
   "execution_count": 16,
   "metadata": {},
   "outputs": [],
   "source": [
    "movie_user_like = \"Avatar\"\n",
    "\n",
    "movie_index = get_index_from_title(movie_user_like)"
   ]
  },
  {
   "attachments": {},
   "cell_type": "markdown",
   "metadata": {},
   "source": [
    "### Find the list of similar movies and sort them in descending order of similarity score:\n",
    "\n",
    "- Using the movie index it finds the list of similar movies using s`imilar_movies = list(enumerate(cosine_sim[movie_index]))`\n",
    "\n",
    "- Then it sorts this list in descending order of similarity score using `sorted()` function"
   ]
  },
  {
   "cell_type": "code",
   "execution_count": 17,
   "metadata": {},
   "outputs": [],
   "source": [
    "similar_movies = list(enumerate(cos_sim[movie_index]))\n",
    "\n",
    "sorted_similar_movies = sorted(similar_movies, key = lambda x:x[1], reverse = True )"
   ]
  },
  {
   "attachments": {},
   "cell_type": "markdown",
   "metadata": {},
   "source": [
    "### Print the title of the top 10 most similar movies\n",
    "\n",
    "- It uses a `for` loop to iterate through the `sorted_similar_movies` list 10 times and retrieves the title of the movie at the current index by calling the `get_title_from_index()` function. \n",
    "\n",
    "On each iteration, it does the following:\n",
    "\n",
    "- Assigns the value of the first element (the index of the movie) of the tuple in the `sorted_similar_movies` list at the current iteration to the variable index using `sorted_similar_movies[i][0]`\n",
    "\n",
    "- Uses the helper function `get_title_from_index(index)` to get the title of the movie at the current index, assigns the title to the variable `title`.\n",
    "\n",
    "- Prints the value of the `title` variable\n",
    "\n",
    "The for loop is using the range(10) so it iterates 10 times, on each iteration it assigns the index of movie to the index variable and then it uses the helper function to get the title of the movie corresponding to that index and print it. So it will print the titles of top 10 most similar movies."
   ]
  },
  {
   "cell_type": "code",
   "execution_count": 18,
   "metadata": {},
   "outputs": [
    {
     "name": "stdout",
     "output_type": "stream",
     "text": [
      "Avatar\n",
      "Guardians of the Galaxy\n",
      "Aliens\n",
      "Star Wars: Clone Wars: Volume 1\n",
      "Star Trek Into Darkness\n",
      "Star Trek Beyond\n",
      "Alien\n",
      "Lockout\n",
      "Jason X\n",
      "The Helix... Loaded\n"
     ]
    }
   ],
   "source": [
    "for i in range (10) :\n",
    "     index = sorted_similar_movies[i][0]\n",
    "     title = get_title_from_index(index)\n",
    "     print (title)"
   ]
  },
  {
   "cell_type": "markdown",
   "metadata": {},
   "source": []
  }
 ],
 "metadata": {
  "kernelspec": {
   "display_name": "base",
   "language": "python",
   "name": "python3"
  },
  "language_info": {
   "codemirror_mode": {
    "name": "ipython",
    "version": 3
   },
   "file_extension": ".py",
   "mimetype": "text/x-python",
   "name": "python",
   "nbconvert_exporter": "python",
   "pygments_lexer": "ipython3",
   "version": "3.9.12"
  },
  "orig_nbformat": 4,
  "vscode": {
   "interpreter": {
    "hash": "02ffa660b6f6d9be8cca427b74bc9cb87fea4b28c9e17012788bc534d238c364"
   }
  }
 },
 "nbformat": 4,
 "nbformat_minor": 2
}
