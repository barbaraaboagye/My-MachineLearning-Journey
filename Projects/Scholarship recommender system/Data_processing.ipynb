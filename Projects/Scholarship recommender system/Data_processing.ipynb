{
 "cells": [
  {
   "cell_type": "code",
   "execution_count": 31,
   "metadata": {},
   "outputs": [],
   "source": [
    "import numpy as np\n",
    "import pandas as pd\n",
    "import matplotlib.pyplot as plt\n"
   ]
  },
  {
   "cell_type": "code",
   "execution_count": 32,
   "metadata": {},
   "outputs": [
    {
     "data": {
      "text/html": [
       "<div>\n",
       "<style scoped>\n",
       "    .dataframe tbody tr th:only-of-type {\n",
       "        vertical-align: middle;\n",
       "    }\n",
       "\n",
       "    .dataframe tbody tr th {\n",
       "        vertical-align: top;\n",
       "    }\n",
       "\n",
       "    .dataframe thead th {\n",
       "        text-align: right;\n",
       "    }\n",
       "</style>\n",
       "<table border=\"1\" class=\"dataframe\">\n",
       "  <thead>\n",
       "    <tr style=\"text-align: right;\">\n",
       "      <th></th>\n",
       "      <th>Name</th>\n",
       "      <th>Area of specialisation</th>\n",
       "      <th>Link</th>\n",
       "      <th>Image/Pdf</th>\n",
       "      <th>End Date</th>\n",
       "      <th>End Date 2</th>\n",
       "      <th>Country</th>\n",
       "      <th>Level needed</th>\n",
       "      <th>Link2</th>\n",
       "      <th>Action item</th>\n",
       "      <th>Deadline month</th>\n",
       "    </tr>\n",
       "  </thead>\n",
       "  <tbody>\n",
       "    <tr>\n",
       "      <th>0</th>\n",
       "      <td>University of Newcastle scholarship</td>\n",
       "      <td>All disciplines, Computer science, Management,...</td>\n",
       "      <td>NaN</td>\n",
       "      <td>NaN</td>\n",
       "      <td>NaN</td>\n",
       "      <td>NaN</td>\n",
       "      <td>Australia</td>\n",
       "      <td>BSc, MSC, PhD</td>\n",
       "      <td>NaN</td>\n",
       "      <td>NaN</td>\n",
       "      <td>NaN</td>\n",
       "    </tr>\n",
       "    <tr>\n",
       "      <th>1</th>\n",
       "      <td>Texas A &amp;M</td>\n",
       "      <td>3d printing, Concrete, civil engineering</td>\n",
       "      <td>NaN</td>\n",
       "      <td>Scholarship%20Database%200f820c6d3ec745ac96004...</td>\n",
       "      <td>NaN</td>\n",
       "      <td>NaN</td>\n",
       "      <td>USA</td>\n",
       "      <td>NaN</td>\n",
       "      <td>NaN</td>\n",
       "      <td>NaN</td>\n",
       "      <td>NaN</td>\n",
       "    </tr>\n",
       "    <tr>\n",
       "      <th>2</th>\n",
       "      <td>Warwick university</td>\n",
       "      <td>Agricultural science, Agriculture, Bioscience,...</td>\n",
       "      <td>https://warwick.ac.uk/fac/cross_fac/mibtp/pgst...</td>\n",
       "      <td>NaN</td>\n",
       "      <td>20-Jan</td>\n",
       "      <td>NaN</td>\n",
       "      <td>UK</td>\n",
       "      <td>PhD</td>\n",
       "      <td>NaN</td>\n",
       "      <td>NaN</td>\n",
       "      <td>Jan</td>\n",
       "    </tr>\n",
       "    <tr>\n",
       "      <th>3</th>\n",
       "      <td>Warwick university</td>\n",
       "      <td>Plant science</td>\n",
       "      <td>https://warwick.ac.uk/fac/cross_fac/mibtp/pgst...</td>\n",
       "      <td>NaN</td>\n",
       "      <td>20-Jan</td>\n",
       "      <td>NaN</td>\n",
       "      <td>UK</td>\n",
       "      <td>PhD</td>\n",
       "      <td>NaN</td>\n",
       "      <td>NaN</td>\n",
       "      <td>Jan</td>\n",
       "    </tr>\n",
       "    <tr>\n",
       "      <th>4</th>\n",
       "      <td>University of Gronigen</td>\n",
       "      <td>Environmental science, Social sciences</td>\n",
       "      <td>https://www.rug.nl/about-ug/work-with-us/job-o...</td>\n",
       "      <td>NaN</td>\n",
       "      <td>16-Jan</td>\n",
       "      <td>NaN</td>\n",
       "      <td>Netherlands</td>\n",
       "      <td>PhD</td>\n",
       "      <td>NaN</td>\n",
       "      <td>NaN</td>\n",
       "      <td>Jan</td>\n",
       "    </tr>\n",
       "  </tbody>\n",
       "</table>\n",
       "</div>"
      ],
      "text/plain": [
       "                                   Name  \\\n",
       "0  University of Newcastle scholarship    \n",
       "1                           Texas A &M    \n",
       "2                    Warwick university   \n",
       "3                    Warwick university   \n",
       "4                University of Gronigen   \n",
       "\n",
       "                              Area of specialisation  \\\n",
       "0  All disciplines, Computer science, Management,...   \n",
       "1           3d printing, Concrete, civil engineering   \n",
       "2  Agricultural science, Agriculture, Bioscience,...   \n",
       "3                                      Plant science   \n",
       "4             Environmental science, Social sciences   \n",
       "\n",
       "                                                Link  \\\n",
       "0                                                NaN   \n",
       "1                                                NaN   \n",
       "2  https://warwick.ac.uk/fac/cross_fac/mibtp/pgst...   \n",
       "3  https://warwick.ac.uk/fac/cross_fac/mibtp/pgst...   \n",
       "4  https://www.rug.nl/about-ug/work-with-us/job-o...   \n",
       "\n",
       "                                           Image/Pdf End Date End Date 2  \\\n",
       "0                                                NaN      NaN        NaN   \n",
       "1  Scholarship%20Database%200f820c6d3ec745ac96004...      NaN        NaN   \n",
       "2                                                NaN   20-Jan        NaN   \n",
       "3                                                NaN   20-Jan        NaN   \n",
       "4                                                NaN   16-Jan        NaN   \n",
       "\n",
       "       Country   Level needed Link2 Action item Deadline month  \n",
       "0    Australia  BSc, MSC, PhD   NaN         NaN            NaN  \n",
       "1          USA            NaN   NaN         NaN            NaN  \n",
       "2           UK            PhD   NaN         NaN            Jan  \n",
       "3           UK            PhD   NaN         NaN            Jan  \n",
       "4  Netherlands            PhD   NaN         NaN            Jan  "
      ]
     },
     "execution_count": 32,
     "metadata": {},
     "output_type": "execute_result"
    }
   ],
   "source": [
    "# load dataset\n",
    "\n",
    "df = pd.read_csv('scholarshipdatabase.csv')\n",
    "\n",
    "## Display the first few rows\n",
    "df.head()"
   ]
  },
  {
   "cell_type": "code",
   "execution_count": 33,
   "metadata": {},
   "outputs": [
    {
     "name": "stdout",
     "output_type": "stream",
     "text": [
      "<class 'pandas.core.frame.DataFrame'>\n",
      "RangeIndex: 704 entries, 0 to 703\n",
      "Data columns (total 11 columns):\n",
      " #   Column                  Non-Null Count  Dtype \n",
      "---  ------                  --------------  ----- \n",
      " 0   Name                    699 non-null    object\n",
      " 1   Area of specialisation  690 non-null    object\n",
      " 2   Link                    541 non-null    object\n",
      " 3   Image/Pdf               278 non-null    object\n",
      " 4   End Date                443 non-null    object\n",
      " 5   End Date 2              55 non-null     object\n",
      " 6   Country                 650 non-null    object\n",
      " 7   Level needed            653 non-null    object\n",
      " 8   Link2                   120 non-null    object\n",
      " 9   Action item             42 non-null     object\n",
      " 10  Deadline month          443 non-null    object\n",
      "dtypes: object(11)\n",
      "memory usage: 60.6+ KB\n",
      "None\n",
      "Name                        5\n",
      "Area of specialisation     14\n",
      "Link                      163\n",
      "Image/Pdf                 426\n",
      "End Date                  261\n",
      "End Date 2                649\n",
      "Country                    54\n",
      "Level needed               51\n",
      "Link2                     584\n",
      "Action item               662\n",
      "Deadline month            261\n",
      "dtype: int64\n"
     ]
    }
   ],
   "source": [
    "## Explore the data\n",
    "\n",
    "## Get information about the dataset\n",
    "print(df.info())\n",
    "\n",
    "### Data cleaning - Handle missing data\n",
    "\n",
    "print(df.isnull().sum())\n"
   ]
  },
  {
   "cell_type": "code",
   "execution_count": 34,
   "metadata": {},
   "outputs": [
    {
     "data": {
      "text/html": [
       "<div>\n",
       "<style scoped>\n",
       "    .dataframe tbody tr th:only-of-type {\n",
       "        vertical-align: middle;\n",
       "    }\n",
       "\n",
       "    .dataframe tbody tr th {\n",
       "        vertical-align: top;\n",
       "    }\n",
       "\n",
       "    .dataframe thead th {\n",
       "        text-align: right;\n",
       "    }\n",
       "</style>\n",
       "<table border=\"1\" class=\"dataframe\">\n",
       "  <thead>\n",
       "    <tr style=\"text-align: right;\">\n",
       "      <th></th>\n",
       "      <th>Name</th>\n",
       "      <th>Area of specialisation</th>\n",
       "      <th>Country</th>\n",
       "      <th>Level needed</th>\n",
       "    </tr>\n",
       "  </thead>\n",
       "  <tbody>\n",
       "    <tr>\n",
       "      <th>0</th>\n",
       "      <td>University of Newcastle scholarship</td>\n",
       "      <td>All disciplines, Computer science, Management,...</td>\n",
       "      <td>Australia</td>\n",
       "      <td>BSc, MSC, PhD</td>\n",
       "    </tr>\n",
       "    <tr>\n",
       "      <th>1</th>\n",
       "      <td>Texas A &amp;M</td>\n",
       "      <td>3d printing, Concrete, civil engineering</td>\n",
       "      <td>USA</td>\n",
       "      <td>NaN</td>\n",
       "    </tr>\n",
       "    <tr>\n",
       "      <th>2</th>\n",
       "      <td>Warwick university</td>\n",
       "      <td>Agricultural science, Agriculture, Bioscience,...</td>\n",
       "      <td>UK</td>\n",
       "      <td>PhD</td>\n",
       "    </tr>\n",
       "    <tr>\n",
       "      <th>3</th>\n",
       "      <td>Warwick university</td>\n",
       "      <td>Plant science</td>\n",
       "      <td>UK</td>\n",
       "      <td>PhD</td>\n",
       "    </tr>\n",
       "    <tr>\n",
       "      <th>4</th>\n",
       "      <td>University of Gronigen</td>\n",
       "      <td>Environmental science, Social sciences</td>\n",
       "      <td>Netherlands</td>\n",
       "      <td>PhD</td>\n",
       "    </tr>\n",
       "  </tbody>\n",
       "</table>\n",
       "</div>"
      ],
      "text/plain": [
       "                                   Name  \\\n",
       "0  University of Newcastle scholarship    \n",
       "1                           Texas A &M    \n",
       "2                    Warwick university   \n",
       "3                    Warwick university   \n",
       "4                University of Gronigen   \n",
       "\n",
       "                              Area of specialisation      Country  \\\n",
       "0  All disciplines, Computer science, Management,...    Australia   \n",
       "1           3d printing, Concrete, civil engineering          USA   \n",
       "2  Agricultural science, Agriculture, Bioscience,...           UK   \n",
       "3                                      Plant science           UK   \n",
       "4             Environmental science, Social sciences  Netherlands   \n",
       "\n",
       "    Level needed  \n",
       "0  BSc, MSC, PhD  \n",
       "1            NaN  \n",
       "2            PhD  \n",
       "3            PhD  \n",
       "4            PhD  "
      ]
     },
     "execution_count": 34,
     "metadata": {},
     "output_type": "execute_result"
    }
   ],
   "source": [
    "#New dataframe with selected features\n",
    "features = ['Name', 'Area of specialisation', 'Country', 'Level needed']\n",
    "data = df[features]\n",
    "\n",
    "data.head()"
   ]
  },
  {
   "cell_type": "code",
   "execution_count": 35,
   "metadata": {},
   "outputs": [
    {
     "data": {
      "text/plain": [
       "(3829, 4)"
      ]
     },
     "execution_count": 35,
     "metadata": {},
     "output_type": "execute_result"
    }
   ],
   "source": [
    "# Split the 'Area of specialisation' column into separate rows\n",
    "data = data.assign(**{'Area of specialisation': data['Area of specialisation'].str.split(', ')})\n",
    "data = data.explode('Area of specialisation')\n",
    "\n",
    "#Split the \"Country\" into separate rows\n",
    "\n",
    "data = data.assign(**{'Country': data['Country'].str.split(', ')})\n",
    "data = data.explode('Country')\n",
    "\n",
    "#Split the \"Level needed\" into separate rows\n",
    "\n",
    "data = data.assign(**{'Level needed': data['Level needed'].str.split(\", \")})\n",
    "data = data.explode('Level needed')\n",
    "\n",
    "# Reset the index to have unique index labels\n",
    "data.reset_index(drop=True, inplace=True)\n",
    "\n",
    "data.head()\n",
    "\n",
    "data.shape"
   ]
  },
  {
   "cell_type": "code",
   "execution_count": 36,
   "metadata": {},
   "outputs": [
    {
     "data": {
      "text/plain": [
       "Name                        5\n",
       "Area of specialisation     17\n",
       "Country                   329\n",
       "Level needed              281\n",
       "dtype: int64"
      ]
     },
     "execution_count": 36,
     "metadata": {},
     "output_type": "execute_result"
    }
   ],
   "source": [
    "### Data cleaning - Handle missing data\n",
    "data.isnull().sum()"
   ]
  },
  {
   "cell_type": "code",
   "execution_count": 37,
   "metadata": {},
   "outputs": [
    {
     "data": {
      "text/plain": [
       "(3824, 4)"
      ]
     },
     "execution_count": 37,
     "metadata": {},
     "output_type": "execute_result"
    }
   ],
   "source": [
    "data.dropna(subset=['Name'], inplace=True)\n",
    "data.shape"
   ]
  },
  {
   "cell_type": "code",
   "execution_count": 38,
   "metadata": {},
   "outputs": [
    {
     "data": {
      "text/plain": [
       "Name                        0\n",
       "Area of specialisation     12\n",
       "Country                   324\n",
       "Level needed              276\n",
       "dtype: int64"
      ]
     },
     "execution_count": 38,
     "metadata": {},
     "output_type": "execute_result"
    }
   ],
   "source": [
    "data.isnull().sum()"
   ]
  },
  {
   "cell_type": "code",
   "execution_count": 39,
   "metadata": {},
   "outputs": [
    {
     "data": {
      "text/html": [
       "<div>\n",
       "<style scoped>\n",
       "    .dataframe tbody tr th:only-of-type {\n",
       "        vertical-align: middle;\n",
       "    }\n",
       "\n",
       "    .dataframe tbody tr th {\n",
       "        vertical-align: top;\n",
       "    }\n",
       "\n",
       "    .dataframe thead th {\n",
       "        text-align: right;\n",
       "    }\n",
       "</style>\n",
       "<table border=\"1\" class=\"dataframe\">\n",
       "  <thead>\n",
       "    <tr style=\"text-align: right;\">\n",
       "      <th></th>\n",
       "      <th>Name</th>\n",
       "      <th>Area of specialisation</th>\n",
       "      <th>Country</th>\n",
       "      <th>Level needed</th>\n",
       "    </tr>\n",
       "  </thead>\n",
       "  <tbody>\n",
       "    <tr>\n",
       "      <th>0</th>\n",
       "      <td>University of Newcastle scholarship</td>\n",
       "      <td>All disciplines</td>\n",
       "      <td>Australia</td>\n",
       "      <td>BSc</td>\n",
       "    </tr>\n",
       "    <tr>\n",
       "      <th>1</th>\n",
       "      <td>University of Newcastle scholarship</td>\n",
       "      <td>All disciplines</td>\n",
       "      <td>Australia</td>\n",
       "      <td>MSC</td>\n",
       "    </tr>\n",
       "    <tr>\n",
       "      <th>2</th>\n",
       "      <td>University of Newcastle scholarship</td>\n",
       "      <td>All disciplines</td>\n",
       "      <td>Australia</td>\n",
       "      <td>PhD</td>\n",
       "    </tr>\n",
       "    <tr>\n",
       "      <th>3</th>\n",
       "      <td>University of Newcastle scholarship</td>\n",
       "      <td>Computer science</td>\n",
       "      <td>Australia</td>\n",
       "      <td>BSc</td>\n",
       "    </tr>\n",
       "    <tr>\n",
       "      <th>4</th>\n",
       "      <td>University of Newcastle scholarship</td>\n",
       "      <td>Computer science</td>\n",
       "      <td>Australia</td>\n",
       "      <td>MSC</td>\n",
       "    </tr>\n",
       "  </tbody>\n",
       "</table>\n",
       "</div>"
      ],
      "text/plain": [
       "                                   Name Area of specialisation    Country  \\\n",
       "0  University of Newcastle scholarship         All disciplines  Australia   \n",
       "1  University of Newcastle scholarship         All disciplines  Australia   \n",
       "2  University of Newcastle scholarship         All disciplines  Australia   \n",
       "3  University of Newcastle scholarship        Computer science  Australia   \n",
       "4  University of Newcastle scholarship        Computer science  Australia   \n",
       "\n",
       "  Level needed  \n",
       "0          BSc  \n",
       "1          MSC  \n",
       "2          PhD  \n",
       "3          BSc  \n",
       "4          MSC  "
      ]
     },
     "execution_count": 39,
     "metadata": {},
     "output_type": "execute_result"
    }
   ],
   "source": [
    "# drop rows with missing value\n",
    "\n",
    "data.fillna('', inplace=True)\n",
    "#data.dropna(inplace=True)\n",
    "\n",
    "data.head()"
   ]
  },
  {
   "cell_type": "code",
   "execution_count": 40,
   "metadata": {},
   "outputs": [
    {
     "data": {
      "text/plain": [
       "Name                      0\n",
       "Area of specialisation    0\n",
       "Country                   0\n",
       "Level needed              0\n",
       "dtype: int64"
      ]
     },
     "execution_count": 40,
     "metadata": {},
     "output_type": "execute_result"
    }
   ],
   "source": [
    "data.isnull().sum()"
   ]
  },
  {
   "cell_type": "code",
   "execution_count": 41,
   "metadata": {},
   "outputs": [],
   "source": [
    "data.to_csv('scholarship_df.csv', index=False)  # Set index to False if you don't want to save the index column"
   ]
  }
 ],
 "metadata": {
  "kernelspec": {
   "display_name": "Python 3",
   "language": "python",
   "name": "python3"
  },
  "language_info": {
   "codemirror_mode": {
    "name": "ipython",
    "version": 3
   },
   "file_extension": ".py",
   "mimetype": "text/x-python",
   "name": "python",
   "nbconvert_exporter": "python",
   "pygments_lexer": "ipython3",
   "version": "3.9.16"
  },
  "orig_nbformat": 4
 },
 "nbformat": 4,
 "nbformat_minor": 2
}
