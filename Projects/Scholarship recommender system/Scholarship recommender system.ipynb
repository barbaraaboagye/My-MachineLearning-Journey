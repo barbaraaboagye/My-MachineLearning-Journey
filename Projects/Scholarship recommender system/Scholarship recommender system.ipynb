{
 "cells": [
  {
   "cell_type": "code",
   "execution_count": 7,
   "metadata": {},
   "outputs": [],
   "source": [
    "import pandas as pd\n",
    "import numpy as np\n",
    "from fuzzywuzzy import fuzz"
   ]
  },
  {
   "cell_type": "code",
   "execution_count": 8,
   "metadata": {},
   "outputs": [],
   "source": [
    "scholarship_df = pd.read_csv(\"scholarship_df.csv\")"
   ]
  },
  {
   "cell_type": "code",
   "execution_count": 9,
   "metadata": {},
   "outputs": [
    {
     "name": "stdout",
     "output_type": "stream",
     "text": [
      "I have 6 suggestions for you in public health. Here are the scholarships/universities to start your search:\n",
      "\n",
      "• University of Milan\n",
      "• Salford university \n",
      "• University of Geneva Excellence Masters Fellowships\n",
      "• Allan and Nesta Ferguson Scholarship- university of Sheffield \n",
      "• NTNU\n",
      "• University of Rutgers \n"
     ]
    }
   ],
   "source": [
    "# Ask the user to enter their area of specialization\n",
    "user_specialization = input(\"Enter your area of specialization: \").lower()\n",
    "\n",
    "# Convert the 'Area of Specialisation' column in the DataFrame to lowercase for case-insensitive matching\n",
    "scholarship_df['Area of specialisation'] = scholarship_df['Area of specialisation'].str.lower()\n",
    "\n",
    "# Create a list of specializations from your DataFrame\n",
    "specializations = scholarship_df['Area of specialisation'].unique().tolist()\n",
    "\n",
    "# Initialize a dictionary to store similarity scores\n",
    "similarity_scores = {}\n",
    "\n",
    "# Calculate similarity scores between the user's input and specializations\n",
    "for spec in specializations:\n",
    "    similarity_score = fuzz.partial_ratio(user_specialization, spec.lower())\n",
    "    similarity_scores[spec] = similarity_score\n",
    "\n",
    "# Sort specializations by similarity score in descending order\n",
    "sorted_specializations = sorted(similarity_scores.items(), key=lambda x: x[1], reverse=True)\n",
    "\n",
    "# Extract matched specializations with a similarity score threshold (e.g., 80)\n",
    "threshold = 80  # Adjust as needed\n",
    "matched_specializations = [spec for spec, score in sorted_specializations if score >= threshold]\n",
    "\n",
    "# Filter scholarships based on matched specializations\n",
    "recommended_scholarships = scholarship_df[scholarship_df['Area of specialisation'].isin(matched_specializations)]\n",
    "\n",
    "# Remove duplicate scholarships based on their names\n",
    "recommended_scholarships = recommended_scholarships.drop_duplicates(subset=['Name'])\n",
    "\n",
    "# Check if there are any recommended scholarships\n",
    "if recommended_scholarships.empty:\n",
    "    print(f\"Unfortunately, there are no scholarships for your specialization. Try another closely related field or All disciplines.\")\n",
    "else:\n",
    "    num_scholarships = len(recommended_scholarships)\n",
    "    print(f\"I have {num_scholarships} suggestions for you in {user_specialization}. Here are the scholarships/universities to start your search:\\n\")\n",
    "    for index, scholarship in recommended_scholarships.iterrows():\n",
    "        print(f\"• {scholarship['Name']}\")\n"
   ]
  }
 ],
 "metadata": {
  "kernelspec": {
   "display_name": "Python 3",
   "language": "python",
   "name": "python3"
  },
  "language_info": {
   "codemirror_mode": {
    "name": "ipython",
    "version": 3
   },
   "file_extension": ".py",
   "mimetype": "text/x-python",
   "name": "python",
   "nbconvert_exporter": "python",
   "pygments_lexer": "ipython3",
   "version": "3.9.16"
  },
  "orig_nbformat": 4
 },
 "nbformat": 4,
 "nbformat_minor": 2
}
